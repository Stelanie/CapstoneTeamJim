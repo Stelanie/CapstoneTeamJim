{
 "cells": [
  {
   "cell_type": "code",
   "execution_count": 1,
   "metadata": {},
   "outputs": [],
   "source": [
    "import pandas as pd\n",
    "import numpy as np\n",
    "\n",
    "from sklearn.preprocessing import StandardScaler\n",
    "from sklearn.impute import KNNImputer\n",
    "from sklearn.model_selection import train_test_split\n",
    "\n",
    "from sklearn.ensemble import RandomForestRegressor\n",
    "from sklearn.datasets import make_regression\n",
    "\n",
    "import sklearn.metrics\n",
    "from sklearn.model_selection import GridSearchCV\n",
    "\n",
    "import plotly.graph_objects as go\n",
    "import plotly.express as px\n",
    "from plotly.subplots import make_subplots\n",
    "import plotly.io as pio\n",
    "# render plot in default browser\n",
    "pio.renderers.default = 'browser'\n",
    "\n",
    "from urllib.request import urlopen\n",
    "import json\n",
    "with urlopen('https://raw.githubusercontent.com/plotly/datasets/master/geojson-counties-fips.json') as response:\n",
    "    counties = json.load(response)\n"
   ]
  },
  {
   "cell_type": "markdown",
   "metadata": {},
   "source": [
    "### Reading in data with raw values\n",
    "This mainly applies to Redfin data- rather than a percentage use the raw numbers"
   ]
  },
  {
   "cell_type": "code",
   "execution_count": 2,
   "metadata": {},
   "outputs": [],
   "source": [
    "df = pd.read_pickle('fulldataset.pkl')\n",
    "df = df.sort_values(by=['county_fips', 'year']).reset_index(drop=True)\n"
   ]
  },
  {
   "cell_type": "code",
   "execution_count": 3,
   "metadata": {},
   "outputs": [
    {
     "data": {
      "text/html": [
       "<div>\n",
       "<style scoped>\n",
       "    .dataframe tbody tr th:only-of-type {\n",
       "        vertical-align: middle;\n",
       "    }\n",
       "\n",
       "    .dataframe tbody tr th {\n",
       "        vertical-align: top;\n",
       "    }\n",
       "\n",
       "    .dataframe thead th {\n",
       "        text-align: right;\n",
       "    }\n",
       "</style>\n",
       "<table border=\"1\" class=\"dataframe\">\n",
       "  <thead>\n",
       "    <tr style=\"text-align: right;\">\n",
       "      <th></th>\n",
       "      <th>county_fips</th>\n",
       "      <th>year</th>\n",
       "      <th>median_sale_price</th>\n",
       "    </tr>\n",
       "  </thead>\n",
       "  <tbody>\n",
       "    <tr>\n",
       "      <th>0</th>\n",
       "      <td>01007</td>\n",
       "      <td>2012</td>\n",
       "      <td>72500.0</td>\n",
       "    </tr>\n",
       "    <tr>\n",
       "      <th>1</th>\n",
       "      <td>01007</td>\n",
       "      <td>2015</td>\n",
       "      <td>180000.0</td>\n",
       "    </tr>\n",
       "    <tr>\n",
       "      <th>2</th>\n",
       "      <td>01007</td>\n",
       "      <td>2016</td>\n",
       "      <td>144486.5</td>\n",
       "    </tr>\n",
       "    <tr>\n",
       "      <th>3</th>\n",
       "      <td>01007</td>\n",
       "      <td>2017</td>\n",
       "      <td>99648.5</td>\n",
       "    </tr>\n",
       "    <tr>\n",
       "      <th>4</th>\n",
       "      <td>01007</td>\n",
       "      <td>2018</td>\n",
       "      <td>156000.0</td>\n",
       "    </tr>\n",
       "    <tr>\n",
       "      <th>...</th>\n",
       "      <td>...</td>\n",
       "      <td>...</td>\n",
       "      <td>...</td>\n",
       "    </tr>\n",
       "    <tr>\n",
       "      <th>15012</th>\n",
       "      <td>55141</td>\n",
       "      <td>2017</td>\n",
       "      <td>114050.0</td>\n",
       "    </tr>\n",
       "    <tr>\n",
       "      <th>15013</th>\n",
       "      <td>55141</td>\n",
       "      <td>2018</td>\n",
       "      <td>126250.0</td>\n",
       "    </tr>\n",
       "    <tr>\n",
       "      <th>15014</th>\n",
       "      <td>55141</td>\n",
       "      <td>2019</td>\n",
       "      <td>128200.0</td>\n",
       "    </tr>\n",
       "    <tr>\n",
       "      <th>15015</th>\n",
       "      <td>55141</td>\n",
       "      <td>2020</td>\n",
       "      <td>120000.0</td>\n",
       "    </tr>\n",
       "    <tr>\n",
       "      <th>15016</th>\n",
       "      <td>55141</td>\n",
       "      <td>2021</td>\n",
       "      <td>142000.0</td>\n",
       "    </tr>\n",
       "  </tbody>\n",
       "</table>\n",
       "<p>15017 rows × 3 columns</p>\n",
       "</div>"
      ],
      "text/plain": [
       "      county_fips  year  median_sale_price\n",
       "0           01007  2012            72500.0\n",
       "1           01007  2015           180000.0\n",
       "2           01007  2016           144486.5\n",
       "3           01007  2017            99648.5\n",
       "4           01007  2018           156000.0\n",
       "...           ...   ...                ...\n",
       "15012       55141  2017           114050.0\n",
       "15013       55141  2018           126250.0\n",
       "15014       55141  2019           128200.0\n",
       "15015       55141  2020           120000.0\n",
       "15016       55141  2021           142000.0\n",
       "\n",
       "[15017 rows x 3 columns]"
      ]
     },
     "execution_count": 3,
     "metadata": {},
     "output_type": "execute_result"
    }
   ],
   "source": [
    "medsale = df[['county_fips', 'year','median_sale_price']]\n",
    "medsale"
   ]
  },
  {
   "cell_type": "code",
   "execution_count": 4,
   "metadata": {},
   "outputs": [
    {
     "data": {
      "text/plain": [
       "2021"
      ]
     },
     "execution_count": 4,
     "metadata": {},
     "output_type": "execute_result"
    }
   ],
   "source": [
    "df['year'].max()"
   ]
  },
  {
   "cell_type": "code",
   "execution_count": 5,
   "metadata": {},
   "outputs": [],
   "source": [
    "df = df.drop(['annual_change_pct', 'median_sale_price'], axis=1)\n",
    "\n",
    "##removing features too highly correlated\n",
    "df = df.drop(['home_value_median', 'median_ppsf', 'median_list_price', 'median_list_ppsf'], axis=1)"
   ]
  },
  {
   "cell_type": "code",
   "execution_count": 6,
   "metadata": {},
   "outputs": [],
   "source": [
    "medsale['year'] = medsale['year'] - 1\n",
    "medsale['median_sale_price_log'] = np.log(medsale['median_sale_price'])"
   ]
  },
  {
   "cell_type": "code",
   "execution_count": 7,
   "metadata": {},
   "outputs": [],
   "source": [
    "medsale.drop(['median_sale_price'], axis=1, inplace=True)"
   ]
  },
  {
   "cell_type": "code",
   "execution_count": 8,
   "metadata": {},
   "outputs": [
    {
     "data": {
      "text/plain": [
       "2021"
      ]
     },
     "execution_count": 8,
     "metadata": {},
     "output_type": "execute_result"
    }
   ],
   "source": [
    "df = df.merge(medsale, on=['year', 'county_fips'], how='left')\n",
    "\n",
    "df['year'].max()"
   ]
  },
  {
   "cell_type": "code",
   "execution_count": 9,
   "metadata": {},
   "outputs": [],
   "source": [
    "df = df.dropna()"
   ]
  },
  {
   "cell_type": "code",
   "execution_count": 10,
   "metadata": {},
   "outputs": [
    {
     "data": {
      "text/plain": [
       "2019"
      ]
     },
     "execution_count": 10,
     "metadata": {},
     "output_type": "execute_result"
    }
   ],
   "source": [
    "df['year'].max()"
   ]
  },
  {
   "cell_type": "code",
   "execution_count": 11,
   "metadata": {},
   "outputs": [],
   "source": [
    "with open('VAR_counties.txt', 'r') as f:\n",
    "    lines = f.readlines()\n",
    "\n",
    "VAR_counties = []\n",
    "for line in lines:\n",
    "    VAR_counties.append(line.strip())"
   ]
  },
  {
   "cell_type": "code",
   "execution_count": 12,
   "metadata": {},
   "outputs": [],
   "source": [
    "df = df[df['county_fips'].isin(VAR_counties)]"
   ]
  },
  {
   "cell_type": "code",
   "execution_count": 13,
   "metadata": {},
   "outputs": [
    {
     "data": {
      "text/plain": [
       "621"
      ]
     },
     "execution_count": 13,
     "metadata": {},
     "output_type": "execute_result"
    }
   ],
   "source": [
    "len(df['county_fips'].unique())"
   ]
  },
  {
   "cell_type": "markdown",
   "metadata": {},
   "source": [
    "### Train/Test/Val\n",
    "Split data through 2018 into X and y then split 75/25 train/test. 2019 later is used as validation."
   ]
  },
  {
   "cell_type": "code",
   "execution_count": 14,
   "metadata": {},
   "outputs": [],
   "source": [
    "data = df[df['year']!=2019]\n",
    "data2019 = df[df['year']==2019]\n",
    "\n",
    "\n",
    "X = data.iloc[:,3:-1]\n",
    "y = data.iloc[:,-1]"
   ]
  },
  {
   "cell_type": "code",
   "execution_count": 15,
   "metadata": {},
   "outputs": [],
   "source": [
    "#X_norm = StandardScaler().fit_transform(X)\n",
    "X_norm = X\n",
    "X_train, X_test, y_train, y_test = train_test_split(X_norm, y, test_size=0.25, random_state=42)\n"
   ]
  },
  {
   "cell_type": "code",
   "execution_count": 16,
   "metadata": {},
   "outputs": [
    {
     "data": {
      "text/html": [
       "<div>\n",
       "<style scoped>\n",
       "    .dataframe tbody tr th:only-of-type {\n",
       "        vertical-align: middle;\n",
       "    }\n",
       "\n",
       "    .dataframe tbody tr th {\n",
       "        vertical-align: top;\n",
       "    }\n",
       "\n",
       "    .dataframe thead th {\n",
       "        text-align: right;\n",
       "    }\n",
       "</style>\n",
       "<table border=\"1\" class=\"dataframe\">\n",
       "  <thead>\n",
       "    <tr style=\"text-align: right;\">\n",
       "      <th></th>\n",
       "      <th>state_fips</th>\n",
       "      <th>county_fips</th>\n",
       "      <th>year</th>\n",
       "      <th>debt_ratio_low</th>\n",
       "      <th>debt_ratio_high</th>\n",
       "      <th>corp_income_tax_low</th>\n",
       "      <th>corp_income_tax_high</th>\n",
       "      <th>income_tax_low</th>\n",
       "      <th>income_tax_high</th>\n",
       "      <th>11_avg_annual_employee_pct_chg</th>\n",
       "      <th>...</th>\n",
       "      <th>some_college_lessthan_1yr_pct</th>\n",
       "      <th>some_college_greaterthan_1yr_pct</th>\n",
       "      <th>bachelor_degree_pct</th>\n",
       "      <th>master_degree_pct</th>\n",
       "      <th>professional_degree_pct</th>\n",
       "      <th>doctorate_degree_pct</th>\n",
       "      <th>occupied_units_pct</th>\n",
       "      <th>vacant_units_pct</th>\n",
       "      <th>gdp</th>\n",
       "      <th>median_sale_price_log</th>\n",
       "    </tr>\n",
       "  </thead>\n",
       "  <tbody>\n",
       "    <tr>\n",
       "      <th>24</th>\n",
       "      <td>01</td>\n",
       "      <td>01015</td>\n",
       "      <td>2019</td>\n",
       "      <td>1.2800</td>\n",
       "      <td>1.475</td>\n",
       "      <td>6.5</td>\n",
       "      <td>6.5</td>\n",
       "      <td>2.0</td>\n",
       "      <td>5.00</td>\n",
       "      <td>0.000000</td>\n",
       "      <td>...</td>\n",
       "      <td>0.036301</td>\n",
       "      <td>0.115479</td>\n",
       "      <td>0.079944</td>\n",
       "      <td>0.034479</td>\n",
       "      <td>0.009471</td>\n",
       "      <td>0.010404</td>\n",
       "      <td>0.829527</td>\n",
       "      <td>0.170473</td>\n",
       "      <td>21694.458</td>\n",
       "      <td>11.887588</td>\n",
       "    </tr>\n",
       "    <tr>\n",
       "      <th>70</th>\n",
       "      <td>01</td>\n",
       "      <td>01043</td>\n",
       "      <td>2019</td>\n",
       "      <td>1.6400</td>\n",
       "      <td>1.905</td>\n",
       "      <td>6.5</td>\n",
       "      <td>6.5</td>\n",
       "      <td>2.0</td>\n",
       "      <td>5.00</td>\n",
       "      <td>0.000000</td>\n",
       "      <td>...</td>\n",
       "      <td>0.055355</td>\n",
       "      <td>0.109779</td>\n",
       "      <td>0.070850</td>\n",
       "      <td>0.033366</td>\n",
       "      <td>0.004083</td>\n",
       "      <td>0.002017</td>\n",
       "      <td>0.838823</td>\n",
       "      <td>0.161177</td>\n",
       "      <td>21694.458</td>\n",
       "      <td>12.201060</td>\n",
       "    </tr>\n",
       "    <tr>\n",
       "      <th>80</th>\n",
       "      <td>01</td>\n",
       "      <td>01049</td>\n",
       "      <td>2019</td>\n",
       "      <td>1.1450</td>\n",
       "      <td>1.325</td>\n",
       "      <td>6.5</td>\n",
       "      <td>6.5</td>\n",
       "      <td>2.0</td>\n",
       "      <td>5.00</td>\n",
       "      <td>100.000000</td>\n",
       "      <td>...</td>\n",
       "      <td>0.048131</td>\n",
       "      <td>0.072840</td>\n",
       "      <td>0.051641</td>\n",
       "      <td>0.029072</td>\n",
       "      <td>0.003174</td>\n",
       "      <td>0.000000</td>\n",
       "      <td>0.787192</td>\n",
       "      <td>0.212808</td>\n",
       "      <td>21694.458</td>\n",
       "      <td>12.004568</td>\n",
       "    </tr>\n",
       "    <tr>\n",
       "      <th>90</th>\n",
       "      <td>01</td>\n",
       "      <td>01055</td>\n",
       "      <td>2019</td>\n",
       "      <td>1.5275</td>\n",
       "      <td>1.760</td>\n",
       "      <td>6.5</td>\n",
       "      <td>6.5</td>\n",
       "      <td>2.0</td>\n",
       "      <td>5.00</td>\n",
       "      <td>0.000000</td>\n",
       "      <td>...</td>\n",
       "      <td>0.061202</td>\n",
       "      <td>0.117769</td>\n",
       "      <td>0.073571</td>\n",
       "      <td>0.030176</td>\n",
       "      <td>0.009074</td>\n",
       "      <td>0.008126</td>\n",
       "      <td>0.836966</td>\n",
       "      <td>0.163034</td>\n",
       "      <td>21694.458</td>\n",
       "      <td>12.027843</td>\n",
       "    </tr>\n",
       "    <tr>\n",
       "      <th>110</th>\n",
       "      <td>01</td>\n",
       "      <td>01073</td>\n",
       "      <td>2019</td>\n",
       "      <td>0.8950</td>\n",
       "      <td>1.100</td>\n",
       "      <td>6.5</td>\n",
       "      <td>6.5</td>\n",
       "      <td>2.0</td>\n",
       "      <td>5.00</td>\n",
       "      <td>1.408451</td>\n",
       "      <td>...</td>\n",
       "      <td>0.038477</td>\n",
       "      <td>0.105712</td>\n",
       "      <td>0.139755</td>\n",
       "      <td>0.061027</td>\n",
       "      <td>0.023885</td>\n",
       "      <td>0.012866</td>\n",
       "      <td>0.854944</td>\n",
       "      <td>0.145056</td>\n",
       "      <td>21694.458</td>\n",
       "      <td>12.278393</td>\n",
       "    </tr>\n",
       "    <tr>\n",
       "      <th>...</th>\n",
       "      <td>...</td>\n",
       "      <td>...</td>\n",
       "      <td>...</td>\n",
       "      <td>...</td>\n",
       "      <td>...</td>\n",
       "      <td>...</td>\n",
       "      <td>...</td>\n",
       "      <td>...</td>\n",
       "      <td>...</td>\n",
       "      <td>...</td>\n",
       "      <td>...</td>\n",
       "      <td>...</td>\n",
       "      <td>...</td>\n",
       "      <td>...</td>\n",
       "      <td>...</td>\n",
       "      <td>...</td>\n",
       "      <td>...</td>\n",
       "      <td>...</td>\n",
       "      <td>...</td>\n",
       "      <td>...</td>\n",
       "      <td>...</td>\n",
       "    </tr>\n",
       "    <tr>\n",
       "      <th>14950</th>\n",
       "      <td>55</td>\n",
       "      <td>55127</td>\n",
       "      <td>2019</td>\n",
       "      <td>1.9900</td>\n",
       "      <td>2.395</td>\n",
       "      <td>7.9</td>\n",
       "      <td>7.9</td>\n",
       "      <td>4.0</td>\n",
       "      <td>7.65</td>\n",
       "      <td>0.000000</td>\n",
       "      <td>...</td>\n",
       "      <td>0.045779</td>\n",
       "      <td>0.100435</td>\n",
       "      <td>0.137193</td>\n",
       "      <td>0.053597</td>\n",
       "      <td>0.010667</td>\n",
       "      <td>0.004727</td>\n",
       "      <td>0.808459</td>\n",
       "      <td>0.191541</td>\n",
       "      <td>21694.458</td>\n",
       "      <td>12.496875</td>\n",
       "    </tr>\n",
       "    <tr>\n",
       "      <th>14968</th>\n",
       "      <td>55</td>\n",
       "      <td>55131</td>\n",
       "      <td>2019</td>\n",
       "      <td>1.8200</td>\n",
       "      <td>2.160</td>\n",
       "      <td>7.9</td>\n",
       "      <td>7.9</td>\n",
       "      <td>4.0</td>\n",
       "      <td>7.65</td>\n",
       "      <td>0.849257</td>\n",
       "      <td>...</td>\n",
       "      <td>0.050245</td>\n",
       "      <td>0.101607</td>\n",
       "      <td>0.165003</td>\n",
       "      <td>0.044834</td>\n",
       "      <td>0.005727</td>\n",
       "      <td>0.006175</td>\n",
       "      <td>0.960790</td>\n",
       "      <td>0.039210</td>\n",
       "      <td>21694.458</td>\n",
       "      <td>12.505807</td>\n",
       "    </tr>\n",
       "    <tr>\n",
       "      <th>14976</th>\n",
       "      <td>55</td>\n",
       "      <td>55133</td>\n",
       "      <td>2019</td>\n",
       "      <td>1.2800</td>\n",
       "      <td>1.475</td>\n",
       "      <td>7.9</td>\n",
       "      <td>7.9</td>\n",
       "      <td>4.0</td>\n",
       "      <td>7.65</td>\n",
       "      <td>-7.594937</td>\n",
       "      <td>...</td>\n",
       "      <td>0.039577</td>\n",
       "      <td>0.098922</td>\n",
       "      <td>0.214175</td>\n",
       "      <td>0.077932</td>\n",
       "      <td>0.022405</td>\n",
       "      <td>0.012261</td>\n",
       "      <td>0.956417</td>\n",
       "      <td>0.043583</td>\n",
       "      <td>21694.458</td>\n",
       "      <td>12.736701</td>\n",
       "    </tr>\n",
       "    <tr>\n",
       "      <th>15004</th>\n",
       "      <td>55</td>\n",
       "      <td>55139</td>\n",
       "      <td>2019</td>\n",
       "      <td>0.3900</td>\n",
       "      <td>0.895</td>\n",
       "      <td>7.9</td>\n",
       "      <td>7.9</td>\n",
       "      <td>4.0</td>\n",
       "      <td>7.65</td>\n",
       "      <td>0.000000</td>\n",
       "      <td>...</td>\n",
       "      <td>0.044332</td>\n",
       "      <td>0.084889</td>\n",
       "      <td>0.152222</td>\n",
       "      <td>0.042785</td>\n",
       "      <td>0.010692</td>\n",
       "      <td>0.007836</td>\n",
       "      <td>0.933522</td>\n",
       "      <td>0.066478</td>\n",
       "      <td>21694.458</td>\n",
       "      <td>12.072541</td>\n",
       "    </tr>\n",
       "    <tr>\n",
       "      <th>15014</th>\n",
       "      <td>55</td>\n",
       "      <td>55141</td>\n",
       "      <td>2019</td>\n",
       "      <td>0.7800</td>\n",
       "      <td>1.010</td>\n",
       "      <td>7.9</td>\n",
       "      <td>7.9</td>\n",
       "      <td>4.0</td>\n",
       "      <td>7.65</td>\n",
       "      <td>100.000000</td>\n",
       "      <td>...</td>\n",
       "      <td>0.056453</td>\n",
       "      <td>0.084837</td>\n",
       "      <td>0.091385</td>\n",
       "      <td>0.032398</td>\n",
       "      <td>0.012137</td>\n",
       "      <td>0.006110</td>\n",
       "      <td>0.921221</td>\n",
       "      <td>0.078779</td>\n",
       "      <td>21694.458</td>\n",
       "      <td>11.695247</td>\n",
       "    </tr>\n",
       "  </tbody>\n",
       "</table>\n",
       "<p>616 rows × 75 columns</p>\n",
       "</div>"
      ],
      "text/plain": [
       "      state_fips county_fips  year  debt_ratio_low  debt_ratio_high  \\\n",
       "24            01       01015  2019          1.2800            1.475   \n",
       "70            01       01043  2019          1.6400            1.905   \n",
       "80            01       01049  2019          1.1450            1.325   \n",
       "90            01       01055  2019          1.5275            1.760   \n",
       "110           01       01073  2019          0.8950            1.100   \n",
       "...          ...         ...   ...             ...              ...   \n",
       "14950         55       55127  2019          1.9900            2.395   \n",
       "14968         55       55131  2019          1.8200            2.160   \n",
       "14976         55       55133  2019          1.2800            1.475   \n",
       "15004         55       55139  2019          0.3900            0.895   \n",
       "15014         55       55141  2019          0.7800            1.010   \n",
       "\n",
       "       corp_income_tax_low  corp_income_tax_high  income_tax_low  \\\n",
       "24                     6.5                   6.5             2.0   \n",
       "70                     6.5                   6.5             2.0   \n",
       "80                     6.5                   6.5             2.0   \n",
       "90                     6.5                   6.5             2.0   \n",
       "110                    6.5                   6.5             2.0   \n",
       "...                    ...                   ...             ...   \n",
       "14950                  7.9                   7.9             4.0   \n",
       "14968                  7.9                   7.9             4.0   \n",
       "14976                  7.9                   7.9             4.0   \n",
       "15004                  7.9                   7.9             4.0   \n",
       "15014                  7.9                   7.9             4.0   \n",
       "\n",
       "       income_tax_high  11_avg_annual_employee_pct_chg  ...  \\\n",
       "24                5.00                        0.000000  ...   \n",
       "70                5.00                        0.000000  ...   \n",
       "80                5.00                      100.000000  ...   \n",
       "90                5.00                        0.000000  ...   \n",
       "110               5.00                        1.408451  ...   \n",
       "...                ...                             ...  ...   \n",
       "14950             7.65                        0.000000  ...   \n",
       "14968             7.65                        0.849257  ...   \n",
       "14976             7.65                       -7.594937  ...   \n",
       "15004             7.65                        0.000000  ...   \n",
       "15014             7.65                      100.000000  ...   \n",
       "\n",
       "       some_college_lessthan_1yr_pct  some_college_greaterthan_1yr_pct  \\\n",
       "24                          0.036301                          0.115479   \n",
       "70                          0.055355                          0.109779   \n",
       "80                          0.048131                          0.072840   \n",
       "90                          0.061202                          0.117769   \n",
       "110                         0.038477                          0.105712   \n",
       "...                              ...                               ...   \n",
       "14950                       0.045779                          0.100435   \n",
       "14968                       0.050245                          0.101607   \n",
       "14976                       0.039577                          0.098922   \n",
       "15004                       0.044332                          0.084889   \n",
       "15014                       0.056453                          0.084837   \n",
       "\n",
       "       bachelor_degree_pct  master_degree_pct  professional_degree_pct  \\\n",
       "24                0.079944           0.034479                 0.009471   \n",
       "70                0.070850           0.033366                 0.004083   \n",
       "80                0.051641           0.029072                 0.003174   \n",
       "90                0.073571           0.030176                 0.009074   \n",
       "110               0.139755           0.061027                 0.023885   \n",
       "...                    ...                ...                      ...   \n",
       "14950             0.137193           0.053597                 0.010667   \n",
       "14968             0.165003           0.044834                 0.005727   \n",
       "14976             0.214175           0.077932                 0.022405   \n",
       "15004             0.152222           0.042785                 0.010692   \n",
       "15014             0.091385           0.032398                 0.012137   \n",
       "\n",
       "       doctorate_degree_pct  occupied_units_pct  vacant_units_pct        gdp  \\\n",
       "24                 0.010404            0.829527          0.170473  21694.458   \n",
       "70                 0.002017            0.838823          0.161177  21694.458   \n",
       "80                 0.000000            0.787192          0.212808  21694.458   \n",
       "90                 0.008126            0.836966          0.163034  21694.458   \n",
       "110                0.012866            0.854944          0.145056  21694.458   \n",
       "...                     ...                 ...               ...        ...   \n",
       "14950              0.004727            0.808459          0.191541  21694.458   \n",
       "14968              0.006175            0.960790          0.039210  21694.458   \n",
       "14976              0.012261            0.956417          0.043583  21694.458   \n",
       "15004              0.007836            0.933522          0.066478  21694.458   \n",
       "15014              0.006110            0.921221          0.078779  21694.458   \n",
       "\n",
       "       median_sale_price_log  \n",
       "24                 11.887588  \n",
       "70                 12.201060  \n",
       "80                 12.004568  \n",
       "90                 12.027843  \n",
       "110                12.278393  \n",
       "...                      ...  \n",
       "14950              12.496875  \n",
       "14968              12.505807  \n",
       "14976              12.736701  \n",
       "15004              12.072541  \n",
       "15014              11.695247  \n",
       "\n",
       "[616 rows x 75 columns]"
      ]
     },
     "execution_count": 16,
     "metadata": {},
     "output_type": "execute_result"
    }
   ],
   "source": [
    "data2019"
   ]
  },
  {
   "cell_type": "markdown",
   "metadata": {},
   "source": [
    "### Model Training and Selection\n",
    "Extra Trees Regressor returns the best R2 on test and validation data"
   ]
  },
  {
   "cell_type": "code",
   "execution_count": 17,
   "metadata": {},
   "outputs": [
    {
     "data": {
      "text/plain": [
       "RandomForestRegressor(max_depth=10, random_state=0)"
      ]
     },
     "execution_count": 17,
     "metadata": {},
     "output_type": "execute_result"
    }
   ],
   "source": [
    "regr = RandomForestRegressor(max_depth=10, random_state=0)\n",
    "regr.fit(X_train, y_train)"
   ]
  },
  {
   "cell_type": "code",
   "execution_count": 18,
   "metadata": {},
   "outputs": [
    {
     "name": "stdout",
     "output_type": "stream",
     "text": [
      "Random Forest Regressor Test score: 0.8319356255114465\n",
      "\n"
     ]
    }
   ],
   "source": [
    "score = regr.score(X_test, y_test)\n",
    "print(\"Random Forest Regressor Test score: \"+str(score)+'\\n')\n",
    "\n",
    "##0.8264377043493462"
   ]
  },
  {
   "cell_type": "code",
   "execution_count": 19,
   "metadata": {},
   "outputs": [],
   "source": [
    "# parameters = {'n_estimators': [100, 500, 1000],\n",
    "#                 'max_depth':[5, 10, 15], \n",
    "#                 'max_features': ['auto', 'sqrt', 'log2'],\n",
    "#                 'bootstrap': [True, False]}\n",
    "# model = RandomForestRegressor()\n",
    "# grid = GridSearchCV(model, parameters)\n",
    "# grid.fit(X, y)"
   ]
  },
  {
   "cell_type": "code",
   "execution_count": 20,
   "metadata": {},
   "outputs": [],
   "source": [
    "# grid.cv_results_"
   ]
  },
  {
   "cell_type": "code",
   "execution_count": 21,
   "metadata": {},
   "outputs": [],
   "source": [
    "# grid.best_estimator_\n",
    "\n",
    "## RandomForestRegressor(bootstrap=False, max_depth=15, max_features='sqrt',\n",
    " ##                     n_estimators=1000)"
   ]
  },
  {
   "cell_type": "code",
   "execution_count": 22,
   "metadata": {},
   "outputs": [
    {
     "data": {
      "text/plain": [
       "RandomForestRegressor(bootstrap=False, max_depth=15, max_features='sqrt',\n",
       "                      n_estimators=1000, random_state=0)"
      ]
     },
     "execution_count": 22,
     "metadata": {},
     "output_type": "execute_result"
    }
   ],
   "source": [
    "regr = RandomForestRegressor(bootstrap=False, max_depth=15, \n",
    "                                max_features='sqrt', n_estimators=1000,\n",
    "                                random_state=0)\n",
    "regr.fit(X_train, y_train)"
   ]
  },
  {
   "cell_type": "code",
   "execution_count": 23,
   "metadata": {},
   "outputs": [
    {
     "name": "stdout",
     "output_type": "stream",
     "text": [
      "Random Forest Regressor Test score: 0.8530357171770785\n",
      "\n"
     ]
    }
   ],
   "source": [
    "score = regr.score(X_test, y_test)\n",
    "print(\"Random Forest Regressor Test score: \"+str(score)+'\\n')\n",
    "\n",
    "## 0.8302582100477878"
   ]
  },
  {
   "cell_type": "code",
   "execution_count": 24,
   "metadata": {},
   "outputs": [
    {
     "data": {
      "text/plain": [
       "0.880779722438045"
      ]
     },
     "execution_count": 24,
     "metadata": {},
     "output_type": "execute_result"
    }
   ],
   "source": [
    "##try extra trees regressor\n",
    "from sklearn.ensemble import ExtraTreesRegressor\n",
    "et = ExtraTreesRegressor(n_estimators=100, random_state=0).fit(\n",
    "       X_train, y_train)\n",
    "et.score(X_test, y_test)\n",
    "\n",
    "## 0.8660575221930159"
   ]
  },
  {
   "cell_type": "code",
   "execution_count": 25,
   "metadata": {},
   "outputs": [],
   "source": [
    "# parameters = {'n_estimators': [100, 500, 1000],\n",
    "#                 'max_depth':[5, 10, 15], \n",
    "#                 'max_features': ['auto', 'sqrt', 'log2'],\n",
    "#                 'bootstrap': [True, False]}\n",
    "# model = ExtraTreesRegressor()\n",
    "# grid_et = GridSearchCV(model, parameters)\n",
    "# grid_et.fit(X, y)"
   ]
  },
  {
   "cell_type": "code",
   "execution_count": 26,
   "metadata": {},
   "outputs": [],
   "source": [
    "#grid_et.best_estimator_\n",
    "\n",
    "##ExtraTreesRegressor(max_depth=15, n_estimators=500)"
   ]
  },
  {
   "cell_type": "code",
   "execution_count": 27,
   "metadata": {},
   "outputs": [
    {
     "data": {
      "text/plain": [
       "0.8817129565815965"
      ]
     },
     "execution_count": 27,
     "metadata": {},
     "output_type": "execute_result"
    }
   ],
   "source": [
    "# et = ExtraTreesRegressor(n_estimators=500, max_depth=15, random_state=0).fit(\n",
    "#        X_train, y_train)\n",
    "et = ExtraTreesRegressor(max_depth=15, n_estimators=500, random_state=0).fit(\n",
    "       X_train, y_train)\n",
    "\n",
    "et.score(X_test, y_test)\n",
    "\n",
    "## 0.8685945573030818"
   ]
  },
  {
   "cell_type": "code",
   "execution_count": 28,
   "metadata": {},
   "outputs": [],
   "source": [
    "#X_val = StandardScaler().fit_transform(df2019.iloc[:,3:-2].join(df2019.iloc[:,-1]))\n",
    "X_val = data2019.iloc[:,3:-1]\n",
    "y_val = data2019.iloc[:,-1]"
   ]
  },
  {
   "cell_type": "code",
   "execution_count": 29,
   "metadata": {},
   "outputs": [
    {
     "name": "stdout",
     "output_type": "stream",
     "text": [
      "Random Forest Regressor Validation score: 0.7034226598961859\n",
      "\n"
     ]
    }
   ],
   "source": [
    "score = regr.score(X_val, y_val)\n",
    "print(\"Random Forest Regressor Validation score: \"+str(score)+'\\n')\n",
    "\n",
    "## 0.59241998024084"
   ]
  },
  {
   "cell_type": "code",
   "execution_count": 30,
   "metadata": {},
   "outputs": [
    {
     "data": {
      "text/plain": [
       "0.7429970823137846"
      ]
     },
     "execution_count": 30,
     "metadata": {},
     "output_type": "execute_result"
    }
   ],
   "source": [
    "et.score(X_val, y_val)\n",
    "\n",
    "\n",
    "##no scaler == 0.6888839595901836"
   ]
  },
  {
   "cell_type": "code",
   "execution_count": 31,
   "metadata": {},
   "outputs": [
    {
     "name": "stdout",
     "output_type": "stream",
     "text": [
      "{'11_avg_annual_employee_pct_chg': 0.0017402480618596392, '11_avg_annual_pay_pct_chg': 0.0018873290387985014, '21_avg_annual_pay_pct_chg': 0.0019460103260749368, '99_avg_annual_pay_pct_chg': 0.00198984088326672, '21_avg_annual_employee_pct_chg': 0.0020937396361952847, 'birth_45_50_pct': 0.002220831729175614, '71_avg_annual_employee_pct_chg': 0.0023852193536947433, '55_avg_annual_pay_pct_chg': 0.0023964019280715678, '54_avg_annual_pay_pct_chg': 0.002471768509801568, '71_avg_annual_pay_pct_chg': 0.0025025943619124916, '51_avg_annual_pay_pct_chg': 0.0025419818274458176, '81_avg_annual_pay_pct_chg': 0.0025702705072991813, '55_avg_annual_employee_pct_chg': 0.0025890401294522405, '52_avg_annual_pay_pct_chg': 0.002668401844586591, '53_avg_annual_pay_pct_chg': 0.0026793045895402057, '62_avg_annual_pay_pct_chg': 0.0026840182331661004, '42_avg_annual_employee_pct_chg': 0.0026875462595550357, '56_avg_annual_pay_pct_chg': 0.0026933085717212816, '22_avg_annual_pay_pct_chg': 0.002713341852493616, '22_avg_annual_employee_pct_chg': 0.002714609556422757, '51_avg_annual_employee_pct_chg': 0.002723894835478031, '61_avg_annual_pay_pct_chg': 0.0027334016372313075, '99_avg_annual_employee_pct_chg': 0.0027424353509052867, '23_avg_annual_pay_pct_chg': 0.002744910929190334, '42_avg_annual_pay_pct_chg': 0.0027860251279991192, 'gdp': 0.002847818063426194, '53_avg_annual_employee_pct_chg': 0.0029806247638187694, '52_avg_annual_employee_pct_chg': 0.00304701461857836, '72_avg_annual_pay_pct_chg': 0.0032435643176266247, '56_avg_annual_employee_pct_chg': 0.003439954820652658, 'birth_15_19_pct': 0.003536742529599341, '92_avg_annual_pay_pct_chg': 0.0036518251226736083, '72_avg_annual_employee_pct_chg': 0.0037155972597085135, '62_avg_annual_employee_pct_chg': 0.003848084360465505, '54_avg_annual_employee_pct_chg': 0.003856379728682673, 'birth_30_34_pct': 0.003979918200110137, '81_avg_annual_employee_pct_chg': 0.004277923486519763, '92_avg_annual_employee_pct_chg': 0.004711656107515947, '23_avg_annual_employee_pct_chg': 0.004754710573083408, 'birth_40_44_pct': 0.0048579425476545516, '61_avg_annual_employee_pct_chg': 0.0077847811132708096, 'birth_35_39_pct': 0.008145635541467378, 'birth_25_29_pct': 0.008162580966477012, 'birth_20_24_pct': 0.008549969810358887, 'grade12_nodiploma_pct': 0.008857407874701517, 'income_tax_low': 0.009135596958722002, 'inventory': 0.010010303209845993, 'corp_income_tax_high': 0.010479096631739323, 'some_college_greaterthan_1yr_pct': 0.011212431925833391, 'corp_income_tax_low': 0.011737713055175491, 'median_dom': 0.012814512462238367, 'occupied_units_pct': 0.016314158643868065, 'vacant_units_pct': 0.016489561406081814, 'household_income': 0.016582737566641654, 'new_listings': 0.017236668924778955, 'sold_above_list': 0.018531506145621126, 'population': 0.020121684157797914, 'travel_time_to_work': 0.020854716736519376, 'vehicles_per_person': 0.023944275885322303, 'some_college_lessthan_1yr_pct': 0.024416291082499934, 'doctorate_degree_pct': 0.0275312662933944, 'months_of_supply': 0.029642061311279867, 'homes_sold': 0.030147512410116057, 'debt_ratio_high': 0.04368160004056308, 'debt_ratio_low': 0.04397183486782595, 'income_tax_high': 0.05299652151074906, 'master_degree_pct': 0.053619142992364616, 'professional_degree_pct': 0.05506839668311092, 'hs_diploma_pct': 0.05952081936973628, 'avg_sale_to_list': 0.09987876556197552, 'bachelor_degree_pct': 0.10390421727846907}\n"
     ]
    }
   ],
   "source": [
    "d = dict()\n",
    "for i, j in zip(X.columns, regr.feature_importances_):\n",
    "    d[i]=j\n",
    "\n",
    "print({k: v for k, v in sorted(d.items(), key=lambda item: item[1])})\n",
    "#print(et.feature_importances_)"
   ]
  },
  {
   "cell_type": "code",
   "execution_count": 32,
   "metadata": {},
   "outputs": [
    {
     "name": "stdout",
     "output_type": "stream",
     "text": [
      "{'11_avg_annual_employee_pct_chg': 0.001240008293037977, '21_avg_annual_pay_pct_chg': 0.0012661791837130082, '99_avg_annual_pay_pct_chg': 0.0013758213813570362, '54_avg_annual_pay_pct_chg': 0.0013759314652552787, '71_avg_annual_employee_pct_chg': 0.0014164092224545908, '55_avg_annual_employee_pct_chg': 0.001459881293874061, '61_avg_annual_pay_pct_chg': 0.0014650074362497593, '51_avg_annual_employee_pct_chg': 0.001471371403921746, '11_avg_annual_pay_pct_chg': 0.001481725355915964, '61_avg_annual_employee_pct_chg': 0.0014908750210820732, '71_avg_annual_pay_pct_chg': 0.0014962241235766983, '51_avg_annual_pay_pct_chg': 0.0015318090615393843, '52_avg_annual_pay_pct_chg': 0.0015386297763355533, '81_avg_annual_pay_pct_chg': 0.001571280003839546, '53_avg_annual_employee_pct_chg': 0.0016066769727948419, '55_avg_annual_pay_pct_chg': 0.0017102358315032797, '21_avg_annual_employee_pct_chg': 0.0017126698678119282, '22_avg_annual_pay_pct_chg': 0.0017403166730041097, '23_avg_annual_pay_pct_chg': 0.0017559329131136773, '56_avg_annual_pay_pct_chg': 0.0018205015990651427, '54_avg_annual_employee_pct_chg': 0.001833390626817604, '53_avg_annual_pay_pct_chg': 0.0018470230354780287, '81_avg_annual_employee_pct_chg': 0.001861414771512734, '42_avg_annual_employee_pct_chg': 0.0018699624267088288, 'birth_45_50_pct': 0.001880769221930767, '22_avg_annual_employee_pct_chg': 0.0019892418096356867, '99_avg_annual_employee_pct_chg': 0.002070212605833644, '42_avg_annual_pay_pct_chg': 0.002093296971003359, '72_avg_annual_pay_pct_chg': 0.0020944188756466826, '62_avg_annual_pay_pct_chg': 0.002107738572539549, '52_avg_annual_employee_pct_chg': 0.0021381859375242673, '23_avg_annual_employee_pct_chg': 0.0021962969600993988, '72_avg_annual_employee_pct_chg': 0.002211586061076497, 'birth_15_19_pct': 0.0022206687255963736, '56_avg_annual_employee_pct_chg': 0.0022751674018899144, '92_avg_annual_pay_pct_chg': 0.002285012687710624, 'birth_40_44_pct': 0.0023955413324319307, 'birth_30_34_pct': 0.002550060556149061, '62_avg_annual_employee_pct_chg': 0.00270716731374522, '92_avg_annual_employee_pct_chg': 0.002921885564273885, 'birth_20_24_pct': 0.0030451779077113003, 'birth_25_29_pct': 0.003826828523812215, 'birth_35_39_pct': 0.00440453887030597, 'inventory': 0.004733281678365563, 'new_listings': 0.005053328283801704, 'some_college_greaterthan_1yr_pct': 0.007268958517811085, 'homes_sold': 0.007390076735815555, 'grade12_nodiploma_pct': 0.007920023221232125, 'corp_income_tax_high': 0.009042066638961087, 'corp_income_tax_low': 0.009053160708914114, 'gdp': 0.009091527363950224, 'median_dom': 0.009581327864122932, 'household_income': 0.010354792547289854, 'vacant_units_pct': 0.010582634901256266, 'population': 0.010735470884507025, 'travel_time_to_work': 0.011270428601781585, 'occupied_units_pct': 0.011273885860972891, 'doctorate_degree_pct': 0.011512046143852756, 'income_tax_low': 0.011682403604078958, 'sold_above_list': 0.01421457966400977, 'some_college_lessthan_1yr_pct': 0.01442678876549824, 'months_of_supply': 0.014962468510450312, 'vehicles_per_person': 0.024565643757013103, 'debt_ratio_low': 0.03957709885023225, 'professional_degree_pct': 0.05932211334315288, 'master_degree_pct': 0.06497217927752767, 'hs_diploma_pct': 0.06669319463886766, 'debt_ratio_high': 0.07476189022662665, 'avg_sale_to_list': 0.09377017104954084, 'income_tax_high': 0.09557532992642036, 'bachelor_degree_pct': 0.20526005479506748}\n"
     ]
    }
   ],
   "source": [
    "d = dict()\n",
    "for i, j in zip(X.columns, et.feature_importances_):\n",
    "    d[i]=j\n",
    "\n",
    "print({k: v for k, v in sorted(d.items(), key=lambda item: item[1])})"
   ]
  },
  {
   "cell_type": "code",
   "execution_count": 33,
   "metadata": {},
   "outputs": [],
   "source": [
    "d = {'Feature': X.columns, 'Importance': et.feature_importances_}\n",
    "df = pd.DataFrame(d)\n",
    "df = df.sort_values(by='Importance', ascending=False).reset_index(drop=True)\n",
    "\n",
    "fig = px.bar_polar(df.iloc[:30,:], r='Importance', theta='Feature',\n",
    "            color='Feature', template='plotly_dark',\n",
    "            color_discrete_sequence=px.colors.sequential.Plasma_r)\n",
    "fig.show()"
   ]
  },
  {
   "cell_type": "code",
   "execution_count": 34,
   "metadata": {},
   "outputs": [
    {
     "data": {
      "text/html": [
       "<div>\n",
       "<style scoped>\n",
       "    .dataframe tbody tr th:only-of-type {\n",
       "        vertical-align: middle;\n",
       "    }\n",
       "\n",
       "    .dataframe tbody tr th {\n",
       "        vertical-align: top;\n",
       "    }\n",
       "\n",
       "    .dataframe thead th {\n",
       "        text-align: right;\n",
       "    }\n",
       "</style>\n",
       "<table border=\"1\" class=\"dataframe\">\n",
       "  <thead>\n",
       "    <tr style=\"text-align: right;\">\n",
       "      <th></th>\n",
       "      <th>Feature</th>\n",
       "      <th>Importance</th>\n",
       "    </tr>\n",
       "  </thead>\n",
       "  <tbody>\n",
       "    <tr>\n",
       "      <th>0</th>\n",
       "      <td>bachelor_degree_pct</td>\n",
       "      <td>0.205260</td>\n",
       "    </tr>\n",
       "    <tr>\n",
       "      <th>1</th>\n",
       "      <td>income_tax_high</td>\n",
       "      <td>0.095575</td>\n",
       "    </tr>\n",
       "    <tr>\n",
       "      <th>2</th>\n",
       "      <td>avg_sale_to_list</td>\n",
       "      <td>0.093770</td>\n",
       "    </tr>\n",
       "    <tr>\n",
       "      <th>3</th>\n",
       "      <td>debt_ratio_high</td>\n",
       "      <td>0.074762</td>\n",
       "    </tr>\n",
       "    <tr>\n",
       "      <th>4</th>\n",
       "      <td>hs_diploma_pct</td>\n",
       "      <td>0.066693</td>\n",
       "    </tr>\n",
       "    <tr>\n",
       "      <th>5</th>\n",
       "      <td>master_degree_pct</td>\n",
       "      <td>0.064972</td>\n",
       "    </tr>\n",
       "    <tr>\n",
       "      <th>6</th>\n",
       "      <td>professional_degree_pct</td>\n",
       "      <td>0.059322</td>\n",
       "    </tr>\n",
       "    <tr>\n",
       "      <th>7</th>\n",
       "      <td>debt_ratio_low</td>\n",
       "      <td>0.039577</td>\n",
       "    </tr>\n",
       "    <tr>\n",
       "      <th>8</th>\n",
       "      <td>vehicles_per_person</td>\n",
       "      <td>0.024566</td>\n",
       "    </tr>\n",
       "    <tr>\n",
       "      <th>9</th>\n",
       "      <td>months_of_supply</td>\n",
       "      <td>0.014962</td>\n",
       "    </tr>\n",
       "    <tr>\n",
       "      <th>10</th>\n",
       "      <td>some_college_lessthan_1yr_pct</td>\n",
       "      <td>0.014427</td>\n",
       "    </tr>\n",
       "    <tr>\n",
       "      <th>11</th>\n",
       "      <td>sold_above_list</td>\n",
       "      <td>0.014215</td>\n",
       "    </tr>\n",
       "    <tr>\n",
       "      <th>12</th>\n",
       "      <td>income_tax_low</td>\n",
       "      <td>0.011682</td>\n",
       "    </tr>\n",
       "    <tr>\n",
       "      <th>13</th>\n",
       "      <td>doctorate_degree_pct</td>\n",
       "      <td>0.011512</td>\n",
       "    </tr>\n",
       "    <tr>\n",
       "      <th>14</th>\n",
       "      <td>occupied_units_pct</td>\n",
       "      <td>0.011274</td>\n",
       "    </tr>\n",
       "    <tr>\n",
       "      <th>15</th>\n",
       "      <td>travel_time_to_work</td>\n",
       "      <td>0.011270</td>\n",
       "    </tr>\n",
       "    <tr>\n",
       "      <th>16</th>\n",
       "      <td>population</td>\n",
       "      <td>0.010735</td>\n",
       "    </tr>\n",
       "    <tr>\n",
       "      <th>17</th>\n",
       "      <td>vacant_units_pct</td>\n",
       "      <td>0.010583</td>\n",
       "    </tr>\n",
       "    <tr>\n",
       "      <th>18</th>\n",
       "      <td>household_income</td>\n",
       "      <td>0.010355</td>\n",
       "    </tr>\n",
       "    <tr>\n",
       "      <th>19</th>\n",
       "      <td>median_dom</td>\n",
       "      <td>0.009581</td>\n",
       "    </tr>\n",
       "    <tr>\n",
       "      <th>20</th>\n",
       "      <td>gdp</td>\n",
       "      <td>0.009092</td>\n",
       "    </tr>\n",
       "    <tr>\n",
       "      <th>21</th>\n",
       "      <td>corp_income_tax_low</td>\n",
       "      <td>0.009053</td>\n",
       "    </tr>\n",
       "    <tr>\n",
       "      <th>22</th>\n",
       "      <td>corp_income_tax_high</td>\n",
       "      <td>0.009042</td>\n",
       "    </tr>\n",
       "    <tr>\n",
       "      <th>23</th>\n",
       "      <td>grade12_nodiploma_pct</td>\n",
       "      <td>0.007920</td>\n",
       "    </tr>\n",
       "    <tr>\n",
       "      <th>24</th>\n",
       "      <td>homes_sold</td>\n",
       "      <td>0.007390</td>\n",
       "    </tr>\n",
       "    <tr>\n",
       "      <th>25</th>\n",
       "      <td>some_college_greaterthan_1yr_pct</td>\n",
       "      <td>0.007269</td>\n",
       "    </tr>\n",
       "    <tr>\n",
       "      <th>26</th>\n",
       "      <td>new_listings</td>\n",
       "      <td>0.005053</td>\n",
       "    </tr>\n",
       "    <tr>\n",
       "      <th>27</th>\n",
       "      <td>inventory</td>\n",
       "      <td>0.004733</td>\n",
       "    </tr>\n",
       "    <tr>\n",
       "      <th>28</th>\n",
       "      <td>birth_35_39_pct</td>\n",
       "      <td>0.004405</td>\n",
       "    </tr>\n",
       "    <tr>\n",
       "      <th>29</th>\n",
       "      <td>birth_25_29_pct</td>\n",
       "      <td>0.003827</td>\n",
       "    </tr>\n",
       "  </tbody>\n",
       "</table>\n",
       "</div>"
      ],
      "text/plain": [
       "                             Feature  Importance\n",
       "0                bachelor_degree_pct    0.205260\n",
       "1                    income_tax_high    0.095575\n",
       "2                   avg_sale_to_list    0.093770\n",
       "3                    debt_ratio_high    0.074762\n",
       "4                     hs_diploma_pct    0.066693\n",
       "5                  master_degree_pct    0.064972\n",
       "6            professional_degree_pct    0.059322\n",
       "7                     debt_ratio_low    0.039577\n",
       "8                vehicles_per_person    0.024566\n",
       "9                   months_of_supply    0.014962\n",
       "10     some_college_lessthan_1yr_pct    0.014427\n",
       "11                   sold_above_list    0.014215\n",
       "12                    income_tax_low    0.011682\n",
       "13              doctorate_degree_pct    0.011512\n",
       "14                occupied_units_pct    0.011274\n",
       "15               travel_time_to_work    0.011270\n",
       "16                        population    0.010735\n",
       "17                  vacant_units_pct    0.010583\n",
       "18                  household_income    0.010355\n",
       "19                        median_dom    0.009581\n",
       "20                               gdp    0.009092\n",
       "21               corp_income_tax_low    0.009053\n",
       "22              corp_income_tax_high    0.009042\n",
       "23             grade12_nodiploma_pct    0.007920\n",
       "24                        homes_sold    0.007390\n",
       "25  some_college_greaterthan_1yr_pct    0.007269\n",
       "26                      new_listings    0.005053\n",
       "27                         inventory    0.004733\n",
       "28                   birth_35_39_pct    0.004405\n",
       "29                   birth_25_29_pct    0.003827"
      ]
     },
     "execution_count": 34,
     "metadata": {},
     "output_type": "execute_result"
    }
   ],
   "source": [
    "df[df['Importance']>0.0035]"
   ]
  },
  {
   "cell_type": "code",
   "execution_count": 35,
   "metadata": {},
   "outputs": [
    {
     "name": "stdout",
     "output_type": "stream",
     "text": [
      "11.791401140478985\n",
      "13.608489983189738\n"
     ]
    }
   ],
   "source": [
    "pred2019 = et.predict(X_val)\n",
    "\n",
    "\n",
    "data2019['Predicted_sale_price_change'] = pred2019\n",
    "\n",
    "data2019['Prediction_delta'] = ((np.exp(data2019['median_sale_price_log']) - np.exp(data2019['Predicted_sale_price_change']))/np.exp(data2019['median_sale_price_log']))*100\n",
    "print(data2019['Prediction_delta'].mean())\n",
    "#13.758548163554817%\n",
    "print(data2019['Prediction_delta'].median())\n",
    "#15.523601710497283%"
   ]
  },
  {
   "cell_type": "code",
   "execution_count": 36,
   "metadata": {},
   "outputs": [],
   "source": [
    "\n",
    "fig = px.choropleth(data2019, geojson=counties, locations='county_fips', color='Prediction_delta',\n",
    "                           color_continuous_scale=\"Viridis\",\n",
    "                            range_color=(0, 100),\n",
    "                           scope=\"usa\",\n",
    "                           labels={'Prediction_delta':'Prediction delta for 2019 HPI'}\n",
    "                          )\n",
    "fig.update_layout(margin={\"r\":0,\"t\":0,\"l\":0,\"b\":0})\n",
    "fig.show()"
   ]
  },
  {
   "cell_type": "code",
   "execution_count": null,
   "metadata": {},
   "outputs": [],
   "source": []
  }
 ],
 "metadata": {
  "interpreter": {
   "hash": "48afe66db347f725036e500dc5f1a42501d7f7e0b12ba873f0d502d0ac62c68b"
  },
  "kernelspec": {
   "display_name": "Python 3.8.0 ('capstone_env_v2')",
   "language": "python",
   "name": "python3"
  },
  "language_info": {
   "codemirror_mode": {
    "name": "ipython",
    "version": 3
   },
   "file_extension": ".py",
   "mimetype": "text/x-python",
   "name": "python",
   "nbconvert_exporter": "python",
   "pygments_lexer": "ipython3",
   "version": "3.8.0"
  },
  "orig_nbformat": 4
 },
 "nbformat": 4,
 "nbformat_minor": 2
}
