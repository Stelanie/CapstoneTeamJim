{
 "cells": [
  {
   "cell_type": "code",
   "execution_count": 1,
   "metadata": {},
   "outputs": [],
   "source": [
    "import pandas as pd\n",
    "\n",
    "from sklearn.preprocessing import StandardScaler\n",
    "from sklearn.impute import KNNImputer\n",
    "from sklearn.model_selection import train_test_split\n",
    "\n",
    "from sklearn.ensemble import RandomForestRegressor\n",
    "from sklearn.datasets import make_regression\n",
    "\n",
    "import sklearn.metrics\n",
    "from sklearn.model_selection import GridSearchCV\n",
    "\n",
    "import plotly.graph_objects as go\n",
    "import plotly.express as px\n",
    "from plotly.subplots import make_subplots\n",
    "import plotly.io as pio\n",
    "# render plot in default browser\n",
    "pio.renderers.default = 'browser'\n",
    "\n",
    "from urllib.request import urlopen\n",
    "import json\n",
    "with urlopen('https://raw.githubusercontent.com/plotly/datasets/master/geojson-counties-fips.json') as response:\n",
    "    counties = json.load(response)\n"
   ]
  },
  {
   "cell_type": "markdown",
   "metadata": {},
   "source": [
    "### Reading in data with raw values\n",
    "This mainly applies to Redfin data- rather than a percentage use the raw numbers"
   ]
  },
  {
   "cell_type": "code",
   "execution_count": 2,
   "metadata": {},
   "outputs": [],
   "source": [
    "df = pd.read_pickle('fulldataset.pkl')\n",
    "df = df.sort_values(by=['county_fips', 'year']).reset_index(drop=True)\n"
   ]
  },
  {
   "cell_type": "code",
   "execution_count": 3,
   "metadata": {},
   "outputs": [
    {
     "data": {
      "text/html": [
       "<div>\n",
       "<style scoped>\n",
       "    .dataframe tbody tr th:only-of-type {\n",
       "        vertical-align: middle;\n",
       "    }\n",
       "\n",
       "    .dataframe tbody tr th {\n",
       "        vertical-align: top;\n",
       "    }\n",
       "\n",
       "    .dataframe thead th {\n",
       "        text-align: right;\n",
       "    }\n",
       "</style>\n",
       "<table border=\"1\" class=\"dataframe\">\n",
       "  <thead>\n",
       "    <tr style=\"text-align: right;\">\n",
       "      <th></th>\n",
       "      <th>county_fips</th>\n",
       "      <th>year</th>\n",
       "      <th>median_sale_price</th>\n",
       "    </tr>\n",
       "  </thead>\n",
       "  <tbody>\n",
       "    <tr>\n",
       "      <th>0</th>\n",
       "      <td>01007</td>\n",
       "      <td>2012</td>\n",
       "      <td>72500.0</td>\n",
       "    </tr>\n",
       "    <tr>\n",
       "      <th>1</th>\n",
       "      <td>01007</td>\n",
       "      <td>2015</td>\n",
       "      <td>180000.0</td>\n",
       "    </tr>\n",
       "    <tr>\n",
       "      <th>2</th>\n",
       "      <td>01007</td>\n",
       "      <td>2016</td>\n",
       "      <td>144486.5</td>\n",
       "    </tr>\n",
       "    <tr>\n",
       "      <th>3</th>\n",
       "      <td>01007</td>\n",
       "      <td>2017</td>\n",
       "      <td>99648.5</td>\n",
       "    </tr>\n",
       "    <tr>\n",
       "      <th>4</th>\n",
       "      <td>01007</td>\n",
       "      <td>2018</td>\n",
       "      <td>156000.0</td>\n",
       "    </tr>\n",
       "    <tr>\n",
       "      <th>...</th>\n",
       "      <td>...</td>\n",
       "      <td>...</td>\n",
       "      <td>...</td>\n",
       "    </tr>\n",
       "    <tr>\n",
       "      <th>15012</th>\n",
       "      <td>55141</td>\n",
       "      <td>2017</td>\n",
       "      <td>114050.0</td>\n",
       "    </tr>\n",
       "    <tr>\n",
       "      <th>15013</th>\n",
       "      <td>55141</td>\n",
       "      <td>2018</td>\n",
       "      <td>126250.0</td>\n",
       "    </tr>\n",
       "    <tr>\n",
       "      <th>15014</th>\n",
       "      <td>55141</td>\n",
       "      <td>2019</td>\n",
       "      <td>128200.0</td>\n",
       "    </tr>\n",
       "    <tr>\n",
       "      <th>15015</th>\n",
       "      <td>55141</td>\n",
       "      <td>2020</td>\n",
       "      <td>120000.0</td>\n",
       "    </tr>\n",
       "    <tr>\n",
       "      <th>15016</th>\n",
       "      <td>55141</td>\n",
       "      <td>2021</td>\n",
       "      <td>142000.0</td>\n",
       "    </tr>\n",
       "  </tbody>\n",
       "</table>\n",
       "<p>15017 rows × 3 columns</p>\n",
       "</div>"
      ],
      "text/plain": [
       "      county_fips  year  median_sale_price\n",
       "0           01007  2012            72500.0\n",
       "1           01007  2015           180000.0\n",
       "2           01007  2016           144486.5\n",
       "3           01007  2017            99648.5\n",
       "4           01007  2018           156000.0\n",
       "...           ...   ...                ...\n",
       "15012       55141  2017           114050.0\n",
       "15013       55141  2018           126250.0\n",
       "15014       55141  2019           128200.0\n",
       "15015       55141  2020           120000.0\n",
       "15016       55141  2021           142000.0\n",
       "\n",
       "[15017 rows x 3 columns]"
      ]
     },
     "execution_count": 3,
     "metadata": {},
     "output_type": "execute_result"
    }
   ],
   "source": [
    "medsale = df[['county_fips', 'year','median_sale_price']]\n",
    "medsale"
   ]
  },
  {
   "cell_type": "code",
   "execution_count": 4,
   "metadata": {},
   "outputs": [
    {
     "data": {
      "text/plain": [
       "2021"
      ]
     },
     "execution_count": 4,
     "metadata": {},
     "output_type": "execute_result"
    }
   ],
   "source": [
    "df['year'].max()"
   ]
  },
  {
   "cell_type": "code",
   "execution_count": 5,
   "metadata": {},
   "outputs": [],
   "source": [
    "df = df.drop(['annual_change_pct', 'median_sale_price'], axis=1)\n",
    "\n",
    "##removing features too highly correlated\n",
    "df = df.drop(['home_value_median', 'median_ppsf', 'median_list_price', 'median_list_ppsf'], axis=1)"
   ]
  },
  {
   "cell_type": "code",
   "execution_count": 6,
   "metadata": {},
   "outputs": [],
   "source": [
    "medsale['year'] = medsale['year'] - 2"
   ]
  },
  {
   "cell_type": "code",
   "execution_count": 7,
   "metadata": {},
   "outputs": [
    {
     "data": {
      "text/plain": [
       "2021"
      ]
     },
     "execution_count": 7,
     "metadata": {},
     "output_type": "execute_result"
    }
   ],
   "source": [
    "df = df.merge(medsale, on=['year', 'county_fips'], how='left')\n",
    "\n",
    "df['year'].max()"
   ]
  },
  {
   "cell_type": "code",
   "execution_count": 8,
   "metadata": {},
   "outputs": [],
   "source": [
    "df = df.dropna()"
   ]
  },
  {
   "cell_type": "code",
   "execution_count": 9,
   "metadata": {},
   "outputs": [
    {
     "data": {
      "text/plain": [
       "2019"
      ]
     },
     "execution_count": 9,
     "metadata": {},
     "output_type": "execute_result"
    }
   ],
   "source": [
    "df['year'].max()"
   ]
  },
  {
   "cell_type": "code",
   "execution_count": 10,
   "metadata": {},
   "outputs": [],
   "source": [
    "with open('VAR_counties.txt', 'r') as f:\n",
    "    lines = f.readlines()\n",
    "\n",
    "VAR_counties = []\n",
    "for line in lines:\n",
    "    VAR_counties.append(line.strip())"
   ]
  },
  {
   "cell_type": "code",
   "execution_count": 11,
   "metadata": {},
   "outputs": [],
   "source": [
    "df = df[df['county_fips'].isin(VAR_counties)]"
   ]
  },
  {
   "cell_type": "code",
   "execution_count": 12,
   "metadata": {},
   "outputs": [
    {
     "data": {
      "text/plain": [
       "621"
      ]
     },
     "execution_count": 12,
     "metadata": {},
     "output_type": "execute_result"
    }
   ],
   "source": [
    "len(df['county_fips'].unique())"
   ]
  },
  {
   "cell_type": "markdown",
   "metadata": {},
   "source": [
    "### Train/Test/Val\n",
    "Split data through 2018 into X and y then split 75/25 train/test. 2019 later is used as validation."
   ]
  },
  {
   "cell_type": "code",
   "execution_count": 13,
   "metadata": {},
   "outputs": [],
   "source": [
    "data = df[df['year']!=2019]\n",
    "data2019 = df[df['year']==2019]\n",
    "\n",
    "\n",
    "X = data.iloc[:,3:-1]\n",
    "y = data.iloc[:,-1]"
   ]
  },
  {
   "cell_type": "code",
   "execution_count": 14,
   "metadata": {},
   "outputs": [],
   "source": [
    "#X_norm = StandardScaler().fit_transform(X)\n",
    "X_norm = X\n",
    "X_train, X_test, y_train, y_test = train_test_split(X_norm, y, test_size=0.25, random_state=42)\n"
   ]
  },
  {
   "cell_type": "code",
   "execution_count": 15,
   "metadata": {},
   "outputs": [
    {
     "data": {
      "text/html": [
       "<div>\n",
       "<style scoped>\n",
       "    .dataframe tbody tr th:only-of-type {\n",
       "        vertical-align: middle;\n",
       "    }\n",
       "\n",
       "    .dataframe tbody tr th {\n",
       "        vertical-align: top;\n",
       "    }\n",
       "\n",
       "    .dataframe thead th {\n",
       "        text-align: right;\n",
       "    }\n",
       "</style>\n",
       "<table border=\"1\" class=\"dataframe\">\n",
       "  <thead>\n",
       "    <tr style=\"text-align: right;\">\n",
       "      <th></th>\n",
       "      <th>state_fips</th>\n",
       "      <th>county_fips</th>\n",
       "      <th>year</th>\n",
       "      <th>debt_ratio_low</th>\n",
       "      <th>debt_ratio_high</th>\n",
       "      <th>corp_income_tax_low</th>\n",
       "      <th>corp_income_tax_high</th>\n",
       "      <th>income_tax_low</th>\n",
       "      <th>income_tax_high</th>\n",
       "      <th>11_avg_annual_employee_pct_chg</th>\n",
       "      <th>...</th>\n",
       "      <th>some_college_lessthan_1yr_pct</th>\n",
       "      <th>some_college_greaterthan_1yr_pct</th>\n",
       "      <th>bachelor_degree_pct</th>\n",
       "      <th>master_degree_pct</th>\n",
       "      <th>professional_degree_pct</th>\n",
       "      <th>doctorate_degree_pct</th>\n",
       "      <th>occupied_units_pct</th>\n",
       "      <th>vacant_units_pct</th>\n",
       "      <th>gdp</th>\n",
       "      <th>median_sale_price</th>\n",
       "    </tr>\n",
       "  </thead>\n",
       "  <tbody>\n",
       "    <tr>\n",
       "      <th>24</th>\n",
       "      <td>01</td>\n",
       "      <td>01015</td>\n",
       "      <td>2019</td>\n",
       "      <td>1.2800</td>\n",
       "      <td>1.475</td>\n",
       "      <td>6.5</td>\n",
       "      <td>6.5</td>\n",
       "      <td>2.0</td>\n",
       "      <td>5.00</td>\n",
       "      <td>0.000000</td>\n",
       "      <td>...</td>\n",
       "      <td>0.036301</td>\n",
       "      <td>0.115479</td>\n",
       "      <td>0.079944</td>\n",
       "      <td>0.034479</td>\n",
       "      <td>0.009471</td>\n",
       "      <td>0.010404</td>\n",
       "      <td>0.829527</td>\n",
       "      <td>0.170473</td>\n",
       "      <td>21694.458</td>\n",
       "      <td>165250.0</td>\n",
       "    </tr>\n",
       "    <tr>\n",
       "      <th>70</th>\n",
       "      <td>01</td>\n",
       "      <td>01043</td>\n",
       "      <td>2019</td>\n",
       "      <td>1.6400</td>\n",
       "      <td>1.905</td>\n",
       "      <td>6.5</td>\n",
       "      <td>6.5</td>\n",
       "      <td>2.0</td>\n",
       "      <td>5.00</td>\n",
       "      <td>0.000000</td>\n",
       "      <td>...</td>\n",
       "      <td>0.055355</td>\n",
       "      <td>0.109779</td>\n",
       "      <td>0.070850</td>\n",
       "      <td>0.033366</td>\n",
       "      <td>0.004083</td>\n",
       "      <td>0.002017</td>\n",
       "      <td>0.838823</td>\n",
       "      <td>0.161177</td>\n",
       "      <td>21694.458</td>\n",
       "      <td>255000.0</td>\n",
       "    </tr>\n",
       "    <tr>\n",
       "      <th>80</th>\n",
       "      <td>01</td>\n",
       "      <td>01049</td>\n",
       "      <td>2019</td>\n",
       "      <td>1.1450</td>\n",
       "      <td>1.325</td>\n",
       "      <td>6.5</td>\n",
       "      <td>6.5</td>\n",
       "      <td>2.0</td>\n",
       "      <td>5.00</td>\n",
       "      <td>100.000000</td>\n",
       "      <td>...</td>\n",
       "      <td>0.048131</td>\n",
       "      <td>0.072840</td>\n",
       "      <td>0.051641</td>\n",
       "      <td>0.029072</td>\n",
       "      <td>0.003174</td>\n",
       "      <td>0.000000</td>\n",
       "      <td>0.787192</td>\n",
       "      <td>0.212808</td>\n",
       "      <td>21694.458</td>\n",
       "      <td>180000.0</td>\n",
       "    </tr>\n",
       "    <tr>\n",
       "      <th>90</th>\n",
       "      <td>01</td>\n",
       "      <td>01055</td>\n",
       "      <td>2019</td>\n",
       "      <td>1.5275</td>\n",
       "      <td>1.760</td>\n",
       "      <td>6.5</td>\n",
       "      <td>6.5</td>\n",
       "      <td>2.0</td>\n",
       "      <td>5.00</td>\n",
       "      <td>0.000000</td>\n",
       "      <td>...</td>\n",
       "      <td>0.061202</td>\n",
       "      <td>0.117769</td>\n",
       "      <td>0.073571</td>\n",
       "      <td>0.030176</td>\n",
       "      <td>0.009074</td>\n",
       "      <td>0.008126</td>\n",
       "      <td>0.836966</td>\n",
       "      <td>0.163034</td>\n",
       "      <td>21694.458</td>\n",
       "      <td>180000.0</td>\n",
       "    </tr>\n",
       "    <tr>\n",
       "      <th>110</th>\n",
       "      <td>01</td>\n",
       "      <td>01073</td>\n",
       "      <td>2019</td>\n",
       "      <td>0.8950</td>\n",
       "      <td>1.100</td>\n",
       "      <td>6.5</td>\n",
       "      <td>6.5</td>\n",
       "      <td>2.0</td>\n",
       "      <td>5.00</td>\n",
       "      <td>1.408451</td>\n",
       "      <td>...</td>\n",
       "      <td>0.038477</td>\n",
       "      <td>0.105712</td>\n",
       "      <td>0.139755</td>\n",
       "      <td>0.061027</td>\n",
       "      <td>0.023885</td>\n",
       "      <td>0.012866</td>\n",
       "      <td>0.854944</td>\n",
       "      <td>0.145056</td>\n",
       "      <td>21694.458</td>\n",
       "      <td>240000.0</td>\n",
       "    </tr>\n",
       "    <tr>\n",
       "      <th>...</th>\n",
       "      <td>...</td>\n",
       "      <td>...</td>\n",
       "      <td>...</td>\n",
       "      <td>...</td>\n",
       "      <td>...</td>\n",
       "      <td>...</td>\n",
       "      <td>...</td>\n",
       "      <td>...</td>\n",
       "      <td>...</td>\n",
       "      <td>...</td>\n",
       "      <td>...</td>\n",
       "      <td>...</td>\n",
       "      <td>...</td>\n",
       "      <td>...</td>\n",
       "      <td>...</td>\n",
       "      <td>...</td>\n",
       "      <td>...</td>\n",
       "      <td>...</td>\n",
       "      <td>...</td>\n",
       "      <td>...</td>\n",
       "      <td>...</td>\n",
       "    </tr>\n",
       "    <tr>\n",
       "      <th>14950</th>\n",
       "      <td>55</td>\n",
       "      <td>55127</td>\n",
       "      <td>2019</td>\n",
       "      <td>1.9900</td>\n",
       "      <td>2.395</td>\n",
       "      <td>7.9</td>\n",
       "      <td>7.9</td>\n",
       "      <td>4.0</td>\n",
       "      <td>7.65</td>\n",
       "      <td>0.000000</td>\n",
       "      <td>...</td>\n",
       "      <td>0.045779</td>\n",
       "      <td>0.100435</td>\n",
       "      <td>0.137193</td>\n",
       "      <td>0.053597</td>\n",
       "      <td>0.010667</td>\n",
       "      <td>0.004727</td>\n",
       "      <td>0.808459</td>\n",
       "      <td>0.191541</td>\n",
       "      <td>21694.458</td>\n",
       "      <td>309900.0</td>\n",
       "    </tr>\n",
       "    <tr>\n",
       "      <th>14968</th>\n",
       "      <td>55</td>\n",
       "      <td>55131</td>\n",
       "      <td>2019</td>\n",
       "      <td>1.8200</td>\n",
       "      <td>2.160</td>\n",
       "      <td>7.9</td>\n",
       "      <td>7.9</td>\n",
       "      <td>4.0</td>\n",
       "      <td>7.65</td>\n",
       "      <td>0.849257</td>\n",
       "      <td>...</td>\n",
       "      <td>0.050245</td>\n",
       "      <td>0.101607</td>\n",
       "      <td>0.165003</td>\n",
       "      <td>0.044834</td>\n",
       "      <td>0.005727</td>\n",
       "      <td>0.006175</td>\n",
       "      <td>0.960790</td>\n",
       "      <td>0.039210</td>\n",
       "      <td>21694.458</td>\n",
       "      <td>310000.0</td>\n",
       "    </tr>\n",
       "    <tr>\n",
       "      <th>14976</th>\n",
       "      <td>55</td>\n",
       "      <td>55133</td>\n",
       "      <td>2019</td>\n",
       "      <td>1.2800</td>\n",
       "      <td>1.475</td>\n",
       "      <td>7.9</td>\n",
       "      <td>7.9</td>\n",
       "      <td>4.0</td>\n",
       "      <td>7.65</td>\n",
       "      <td>-7.594937</td>\n",
       "      <td>...</td>\n",
       "      <td>0.039577</td>\n",
       "      <td>0.098922</td>\n",
       "      <td>0.214175</td>\n",
       "      <td>0.077932</td>\n",
       "      <td>0.022405</td>\n",
       "      <td>0.012261</td>\n",
       "      <td>0.956417</td>\n",
       "      <td>0.043583</td>\n",
       "      <td>21694.458</td>\n",
       "      <td>365000.0</td>\n",
       "    </tr>\n",
       "    <tr>\n",
       "      <th>15004</th>\n",
       "      <td>55</td>\n",
       "      <td>55139</td>\n",
       "      <td>2019</td>\n",
       "      <td>0.3900</td>\n",
       "      <td>0.895</td>\n",
       "      <td>7.9</td>\n",
       "      <td>7.9</td>\n",
       "      <td>4.0</td>\n",
       "      <td>7.65</td>\n",
       "      <td>0.000000</td>\n",
       "      <td>...</td>\n",
       "      <td>0.044332</td>\n",
       "      <td>0.084889</td>\n",
       "      <td>0.152222</td>\n",
       "      <td>0.042785</td>\n",
       "      <td>0.010692</td>\n",
       "      <td>0.007836</td>\n",
       "      <td>0.933522</td>\n",
       "      <td>0.066478</td>\n",
       "      <td>21694.458</td>\n",
       "      <td>185000.0</td>\n",
       "    </tr>\n",
       "    <tr>\n",
       "      <th>15014</th>\n",
       "      <td>55</td>\n",
       "      <td>55141</td>\n",
       "      <td>2019</td>\n",
       "      <td>0.7800</td>\n",
       "      <td>1.010</td>\n",
       "      <td>7.9</td>\n",
       "      <td>7.9</td>\n",
       "      <td>4.0</td>\n",
       "      <td>7.65</td>\n",
       "      <td>100.000000</td>\n",
       "      <td>...</td>\n",
       "      <td>0.056453</td>\n",
       "      <td>0.084837</td>\n",
       "      <td>0.091385</td>\n",
       "      <td>0.032398</td>\n",
       "      <td>0.012137</td>\n",
       "      <td>0.006110</td>\n",
       "      <td>0.921221</td>\n",
       "      <td>0.078779</td>\n",
       "      <td>21694.458</td>\n",
       "      <td>142000.0</td>\n",
       "    </tr>\n",
       "  </tbody>\n",
       "</table>\n",
       "<p>614 rows × 75 columns</p>\n",
       "</div>"
      ],
      "text/plain": [
       "      state_fips county_fips  year  debt_ratio_low  debt_ratio_high  \\\n",
       "24            01       01015  2019          1.2800            1.475   \n",
       "70            01       01043  2019          1.6400            1.905   \n",
       "80            01       01049  2019          1.1450            1.325   \n",
       "90            01       01055  2019          1.5275            1.760   \n",
       "110           01       01073  2019          0.8950            1.100   \n",
       "...          ...         ...   ...             ...              ...   \n",
       "14950         55       55127  2019          1.9900            2.395   \n",
       "14968         55       55131  2019          1.8200            2.160   \n",
       "14976         55       55133  2019          1.2800            1.475   \n",
       "15004         55       55139  2019          0.3900            0.895   \n",
       "15014         55       55141  2019          0.7800            1.010   \n",
       "\n",
       "       corp_income_tax_low  corp_income_tax_high  income_tax_low  \\\n",
       "24                     6.5                   6.5             2.0   \n",
       "70                     6.5                   6.5             2.0   \n",
       "80                     6.5                   6.5             2.0   \n",
       "90                     6.5                   6.5             2.0   \n",
       "110                    6.5                   6.5             2.0   \n",
       "...                    ...                   ...             ...   \n",
       "14950                  7.9                   7.9             4.0   \n",
       "14968                  7.9                   7.9             4.0   \n",
       "14976                  7.9                   7.9             4.0   \n",
       "15004                  7.9                   7.9             4.0   \n",
       "15014                  7.9                   7.9             4.0   \n",
       "\n",
       "       income_tax_high  11_avg_annual_employee_pct_chg  ...  \\\n",
       "24                5.00                        0.000000  ...   \n",
       "70                5.00                        0.000000  ...   \n",
       "80                5.00                      100.000000  ...   \n",
       "90                5.00                        0.000000  ...   \n",
       "110               5.00                        1.408451  ...   \n",
       "...                ...                             ...  ...   \n",
       "14950             7.65                        0.000000  ...   \n",
       "14968             7.65                        0.849257  ...   \n",
       "14976             7.65                       -7.594937  ...   \n",
       "15004             7.65                        0.000000  ...   \n",
       "15014             7.65                      100.000000  ...   \n",
       "\n",
       "       some_college_lessthan_1yr_pct  some_college_greaterthan_1yr_pct  \\\n",
       "24                          0.036301                          0.115479   \n",
       "70                          0.055355                          0.109779   \n",
       "80                          0.048131                          0.072840   \n",
       "90                          0.061202                          0.117769   \n",
       "110                         0.038477                          0.105712   \n",
       "...                              ...                               ...   \n",
       "14950                       0.045779                          0.100435   \n",
       "14968                       0.050245                          0.101607   \n",
       "14976                       0.039577                          0.098922   \n",
       "15004                       0.044332                          0.084889   \n",
       "15014                       0.056453                          0.084837   \n",
       "\n",
       "       bachelor_degree_pct  master_degree_pct  professional_degree_pct  \\\n",
       "24                0.079944           0.034479                 0.009471   \n",
       "70                0.070850           0.033366                 0.004083   \n",
       "80                0.051641           0.029072                 0.003174   \n",
       "90                0.073571           0.030176                 0.009074   \n",
       "110               0.139755           0.061027                 0.023885   \n",
       "...                    ...                ...                      ...   \n",
       "14950             0.137193           0.053597                 0.010667   \n",
       "14968             0.165003           0.044834                 0.005727   \n",
       "14976             0.214175           0.077932                 0.022405   \n",
       "15004             0.152222           0.042785                 0.010692   \n",
       "15014             0.091385           0.032398                 0.012137   \n",
       "\n",
       "       doctorate_degree_pct  occupied_units_pct  vacant_units_pct        gdp  \\\n",
       "24                 0.010404            0.829527          0.170473  21694.458   \n",
       "70                 0.002017            0.838823          0.161177  21694.458   \n",
       "80                 0.000000            0.787192          0.212808  21694.458   \n",
       "90                 0.008126            0.836966          0.163034  21694.458   \n",
       "110                0.012866            0.854944          0.145056  21694.458   \n",
       "...                     ...                 ...               ...        ...   \n",
       "14950              0.004727            0.808459          0.191541  21694.458   \n",
       "14968              0.006175            0.960790          0.039210  21694.458   \n",
       "14976              0.012261            0.956417          0.043583  21694.458   \n",
       "15004              0.007836            0.933522          0.066478  21694.458   \n",
       "15014              0.006110            0.921221          0.078779  21694.458   \n",
       "\n",
       "       median_sale_price  \n",
       "24              165250.0  \n",
       "70              255000.0  \n",
       "80              180000.0  \n",
       "90              180000.0  \n",
       "110             240000.0  \n",
       "...                  ...  \n",
       "14950           309900.0  \n",
       "14968           310000.0  \n",
       "14976           365000.0  \n",
       "15004           185000.0  \n",
       "15014           142000.0  \n",
       "\n",
       "[614 rows x 75 columns]"
      ]
     },
     "execution_count": 15,
     "metadata": {},
     "output_type": "execute_result"
    }
   ],
   "source": [
    "data2019"
   ]
  },
  {
   "cell_type": "markdown",
   "metadata": {},
   "source": [
    "### Model Training and Selection\n",
    "Extra Trees Regressor returns the best R2 on test and validation data"
   ]
  },
  {
   "cell_type": "code",
   "execution_count": 16,
   "metadata": {},
   "outputs": [
    {
     "data": {
      "text/plain": [
       "RandomForestRegressor(max_depth=10, random_state=0)"
      ]
     },
     "execution_count": 16,
     "metadata": {},
     "output_type": "execute_result"
    }
   ],
   "source": [
    "regr = RandomForestRegressor(max_depth=10, random_state=0)\n",
    "regr.fit(X_train, y_train)"
   ]
  },
  {
   "cell_type": "code",
   "execution_count": 17,
   "metadata": {},
   "outputs": [
    {
     "name": "stdout",
     "output_type": "stream",
     "text": [
      "Random Forest Regressor Test score: 0.8680613617222476\n",
      "\n"
     ]
    }
   ],
   "source": [
    "score = regr.score(X_test, y_test)\n",
    "print(\"Random Forest Regressor Test score: \"+str(score)+'\\n')\n",
    "\n",
    "##0.8680613617222476"
   ]
  },
  {
   "cell_type": "code",
   "execution_count": 49,
   "metadata": {},
   "outputs": [],
   "source": [
    "# parameters = {'n_estimators': [100, 500, 1000],\n",
    "#                 'max_depth':[5, 10, 15], \n",
    "#                 'max_features': ['auto', 'sqrt', 'log2'],\n",
    "#                 'bootstrap': [True, False]}\n",
    "# model = RandomForestRegressor()\n",
    "# grid = GridSearchCV(model, parameters)\n",
    "# grid.fit(X, y)"
   ]
  },
  {
   "cell_type": "code",
   "execution_count": 50,
   "metadata": {},
   "outputs": [],
   "source": [
    "# grid.cv_results_"
   ]
  },
  {
   "cell_type": "code",
   "execution_count": 51,
   "metadata": {},
   "outputs": [],
   "source": [
    "# grid.best_estimator_\n",
    "\n",
    "## RandomForestRegressor(bootstrap=False, max_depth=15, max_features='sqrt',\n",
    " ##                     n_estimators=1000)"
   ]
  },
  {
   "cell_type": "code",
   "execution_count": 18,
   "metadata": {},
   "outputs": [
    {
     "data": {
      "text/plain": [
       "RandomForestRegressor(bootstrap=False, max_depth=15, max_features='sqrt',\n",
       "                      n_estimators=1000, random_state=0)"
      ]
     },
     "execution_count": 18,
     "metadata": {},
     "output_type": "execute_result"
    }
   ],
   "source": [
    "regr = RandomForestRegressor(bootstrap=False, max_depth=15, \n",
    "                                max_features='sqrt', n_estimators=1000,\n",
    "                                random_state=0)\n",
    "regr.fit(X_train, y_train)"
   ]
  },
  {
   "cell_type": "code",
   "execution_count": 19,
   "metadata": {},
   "outputs": [
    {
     "name": "stdout",
     "output_type": "stream",
     "text": [
      "Random Forest Regressor Test score: 0.8629986931864048\n",
      "\n"
     ]
    }
   ],
   "source": [
    "score = regr.score(X_test, y_test)\n",
    "print(\"Random Forest Regressor Test score: \"+str(score)+'\\n')\n",
    "\n",
    "## 0.8629986931864048"
   ]
  },
  {
   "cell_type": "code",
   "execution_count": 20,
   "metadata": {},
   "outputs": [
    {
     "data": {
      "text/plain": [
       "0.9054644860255766"
      ]
     },
     "execution_count": 20,
     "metadata": {},
     "output_type": "execute_result"
    }
   ],
   "source": [
    "##try extra trees regressor\n",
    "from sklearn.ensemble import ExtraTreesRegressor\n",
    "et = ExtraTreesRegressor(n_estimators=100, random_state=0).fit(\n",
    "       X_train, y_train)\n",
    "et.score(X_test, y_test)\n",
    "\n",
    "## 0.9054644860255766"
   ]
  },
  {
   "cell_type": "code",
   "execution_count": 55,
   "metadata": {},
   "outputs": [],
   "source": [
    "# parameters = {'n_estimators': [100, 500, 1000],\n",
    "#                 'max_depth':[5, 10, 15], \n",
    "#                 'max_features': ['auto', 'sqrt', 'log2'],\n",
    "#                 'bootstrap': [True, False]}\n",
    "# model = ExtraTreesRegressor()\n",
    "# grid_et = GridSearchCV(model, parameters)\n",
    "# grid_et.fit(X, y)"
   ]
  },
  {
   "cell_type": "code",
   "execution_count": 56,
   "metadata": {},
   "outputs": [],
   "source": [
    "#grid_et.best_estimator_\n",
    "\n",
    "##ExtraTreesRegressor(max_depth=15, n_estimators=500)"
   ]
  },
  {
   "cell_type": "code",
   "execution_count": 21,
   "metadata": {},
   "outputs": [
    {
     "data": {
      "text/plain": [
       "0.9077644808789964"
      ]
     },
     "execution_count": 21,
     "metadata": {},
     "output_type": "execute_result"
    }
   ],
   "source": [
    "# et = ExtraTreesRegressor(n_estimators=500, max_depth=15, random_state=0).fit(\n",
    "#        X_train, y_train)\n",
    "et = ExtraTreesRegressor(max_depth=15, n_estimators=500, random_state=0).fit(\n",
    "       X_train, y_train)\n",
    "\n",
    "et.score(X_test, y_test)\n",
    "\n",
    "## 0.9077644808789964"
   ]
  },
  {
   "cell_type": "code",
   "execution_count": 22,
   "metadata": {},
   "outputs": [],
   "source": [
    "#X_val = StandardScaler().fit_transform(df2019.iloc[:,3:-2].join(df2019.iloc[:,-1]))\n",
    "X_val = data2019.iloc[:,3:-1]\n",
    "y_val = data2019.iloc[:,-1]"
   ]
  },
  {
   "cell_type": "code",
   "execution_count": 23,
   "metadata": {},
   "outputs": [
    {
     "name": "stdout",
     "output_type": "stream",
     "text": [
      "Random Forest Regressor Validation score: 0.66649284952581\n",
      "\n"
     ]
    }
   ],
   "source": [
    "score = regr.score(X_val, y_val)\n",
    "print(\"Random Forest Regressor Validation score: \"+str(score)+'\\n')\n",
    "\n",
    "## 0.66649284952581"
   ]
  },
  {
   "cell_type": "code",
   "execution_count": 24,
   "metadata": {},
   "outputs": [
    {
     "data": {
      "text/plain": [
       "0.7360014960370628"
      ]
     },
     "execution_count": 24,
     "metadata": {},
     "output_type": "execute_result"
    }
   ],
   "source": [
    "et.score(X_val, y_val)\n",
    "\n",
    "\n",
    "##no scaler == 0.7360014960370628"
   ]
  },
  {
   "cell_type": "code",
   "execution_count": 25,
   "metadata": {},
   "outputs": [
    {
     "name": "stdout",
     "output_type": "stream",
     "text": [
      "{'11_avg_annual_employee_pct_chg': 0.0015872560191840216, '11_avg_annual_pay_pct_chg': 0.0016132336321311631, '53_avg_annual_pay_pct_chg': 0.0019084791321325781, '21_avg_annual_employee_pct_chg': 0.0019731763655531933, '71_avg_annual_employee_pct_chg': 0.0020348581644971777, '99_avg_annual_pay_pct_chg': 0.002082301093001649, '54_avg_annual_pay_pct_chg': 0.0021397066441486345, '52_avg_annual_pay_pct_chg': 0.002181432962920387, '21_avg_annual_pay_pct_chg': 0.0022046965252118115, '53_avg_annual_employee_pct_chg': 0.002283919083773875, '56_avg_annual_pay_pct_chg': 0.0022963386986726442, '51_avg_annual_pay_pct_chg': 0.0023021699448999323, '23_avg_annual_pay_pct_chg': 0.00231798648906813, '55_avg_annual_pay_pct_chg': 0.0023246418871018678, '61_avg_annual_pay_pct_chg': 0.0023272550335066565, '22_avg_annual_employee_pct_chg': 0.002367774469970576, 'birth_15_19_pct': 0.0024077392412939513, '71_avg_annual_pay_pct_chg': 0.0024090585433388582, '42_avg_annual_employee_pct_chg': 0.002462179512224784, '56_avg_annual_employee_pct_chg': 0.0024894864907627798, 'birth_45_50_pct': 0.002548961014575817, '72_avg_annual_employee_pct_chg': 0.0026651002453910444, '55_avg_annual_employee_pct_chg': 0.0026835795899682454, '81_avg_annual_pay_pct_chg': 0.0027358662333596914, '54_avg_annual_employee_pct_chg': 0.002749571165871376, '62_avg_annual_pay_pct_chg': 0.002759094262800198, '42_avg_annual_pay_pct_chg': 0.0027872955448552577, '22_avg_annual_pay_pct_chg': 0.003056567930791711, '52_avg_annual_employee_pct_chg': 0.0030810887589288686, '23_avg_annual_employee_pct_chg': 0.0031932442078177565, '81_avg_annual_employee_pct_chg': 0.003275971223239625, '72_avg_annual_pay_pct_chg': 0.0032923257871869506, '62_avg_annual_employee_pct_chg': 0.003619950546565052, 'gdp': 0.003780980492141766, 'birth_30_34_pct': 0.003798254655590863, '51_avg_annual_employee_pct_chg': 0.00391119979353823, '92_avg_annual_employee_pct_chg': 0.004430711078101732, '92_avg_annual_pay_pct_chg': 0.0045873343751370865, '61_avg_annual_employee_pct_chg': 0.005505356422173421, '99_avg_annual_employee_pct_chg': 0.005570371375354809, 'birth_40_44_pct': 0.005749776749577009, 'birth_35_39_pct': 0.007765791643316876, 'birth_20_24_pct': 0.00909322776632485, 'income_tax_low': 0.010058761362876728, 'birth_25_29_pct': 0.010265545004165743, 'inventory': 0.0105480142763853, 'corp_income_tax_high': 0.011794443004894824, 'new_listings': 0.01226231551030922, 'occupied_units_pct': 0.01243376257525558, 'vacant_units_pct': 0.012801369955361297, 'some_college_greaterthan_1yr_pct': 0.013690556439246201, 'median_dom': 0.014673601012746205, 'corp_income_tax_low': 0.015021667789614598, 'grade12_nodiploma_pct': 0.015279850427228063, 'homes_sold': 0.018034679648325367, 'vehicles_per_person': 0.020466406030848764, 'household_income': 0.021818056390470873, 'population': 0.023234790638184056, 'travel_time_to_work': 0.025634725081282395, 'debt_ratio_high': 0.027585965556349182, 'debt_ratio_low': 0.02768965999488996, 'doctorate_degree_pct': 0.03145779435388733, 'months_of_supply': 0.032276247562020896, 'some_college_lessthan_1yr_pct': 0.03406344167926474, 'sold_above_list': 0.04668654406759296, 'hs_diploma_pct': 0.049997654094263634, 'master_degree_pct': 0.05578379747375677, 'professional_degree_pct': 0.06005994020213776, 'bachelor_degree_pct': 0.0787794792460843, 'avg_sale_to_list': 0.07931301578668987, 'income_tax_high': 0.09193260403986443}\n"
     ]
    }
   ],
   "source": [
    "d = dict()\n",
    "for i, j in zip(X.columns, regr.feature_importances_):\n",
    "    d[i]=j\n",
    "\n",
    "print({k: v for k, v in sorted(d.items(), key=lambda item: item[1])})\n",
    "#print(et.feature_importances_)"
   ]
  },
  {
   "cell_type": "code",
   "execution_count": 26,
   "metadata": {},
   "outputs": [
    {
     "name": "stdout",
     "output_type": "stream",
     "text": [
      "{'71_avg_annual_employee_pct_chg': 0.0010446287753286493, '54_avg_annual_pay_pct_chg': 0.0010787048376877065, '61_avg_annual_employee_pct_chg': 0.001124955788165676, '61_avg_annual_pay_pct_chg': 0.0011475950150490783, '11_avg_annual_pay_pct_chg': 0.0011517152864989606, '53_avg_annual_employee_pct_chg': 0.0011802247552398486, '11_avg_annual_employee_pct_chg': 0.001181131639133956, '51_avg_annual_pay_pct_chg': 0.0011952428599380418, '22_avg_annual_employee_pct_chg': 0.0012031128770928065, '53_avg_annual_pay_pct_chg': 0.0012837846499649812, '54_avg_annual_employee_pct_chg': 0.0013297633428323386, '42_avg_annual_employee_pct_chg': 0.0013333031686990206, '52_avg_annual_pay_pct_chg': 0.0013663005857953306, '71_avg_annual_pay_pct_chg': 0.0013886343091168971, '56_avg_annual_employee_pct_chg': 0.0014264021949067457, '23_avg_annual_pay_pct_chg': 0.0014688561343555776, '99_avg_annual_pay_pct_chg': 0.0014735130591444388, '42_avg_annual_pay_pct_chg': 0.001493742129926959, 'birth_15_19_pct': 0.0015069308580994089, '21_avg_annual_employee_pct_chg': 0.0015487645956565584, 'birth_45_50_pct': 0.0015894993960698263, '22_avg_annual_pay_pct_chg': 0.0016121779332545, '21_avg_annual_pay_pct_chg': 0.0016195547175754958, '81_avg_annual_employee_pct_chg': 0.0016269893445268638, '55_avg_annual_pay_pct_chg': 0.0016285751950704738, '23_avg_annual_employee_pct_chg': 0.0017120006915278046, '72_avg_annual_employee_pct_chg': 0.001754064381449704, '56_avg_annual_pay_pct_chg': 0.0017586136718144626, '55_avg_annual_employee_pct_chg': 0.00183687166480416, '72_avg_annual_pay_pct_chg': 0.0018448380473462444, '62_avg_annual_pay_pct_chg': 0.0019482807892741813, '51_avg_annual_employee_pct_chg': 0.0020008843452025246, '81_avg_annual_pay_pct_chg': 0.0021153977428723927, '99_avg_annual_employee_pct_chg': 0.002174930734476633, 'birth_40_44_pct': 0.0022718765050149608, 'birth_30_34_pct': 0.0022764479053718483, '52_avg_annual_employee_pct_chg': 0.002409207927879046, '92_avg_annual_pay_pct_chg': 0.0024107013460722884, 'birth_20_24_pct': 0.0024524682636360416, 'birth_35_39_pct': 0.002585968236400989, '62_avg_annual_employee_pct_chg': 0.0033490221838939614, 'birth_25_29_pct': 0.0033952945284969824, '92_avg_annual_employee_pct_chg': 0.003909262686542842, 'homes_sold': 0.005810989148146553, 'new_listings': 0.0058767251724739225, 'corp_income_tax_high': 0.006646381070787046, 'corp_income_tax_low': 0.007893768380319686, 'some_college_greaterthan_1yr_pct': 0.008956547779931684, 'inventory': 0.009586754395763465, 'median_dom': 0.009596422772806996, 'occupied_units_pct': 0.009839718279397485, 'vacant_units_pct': 0.009949488817176748, 'gdp': 0.011429240393881544, 'grade12_nodiploma_pct': 0.011730183076137672, 'months_of_supply': 0.012756416973134586, 'income_tax_low': 0.013358797745410631, 'vehicles_per_person': 0.016301467596336945, 'population': 0.016616182940979305, 'some_college_lessthan_1yr_pct': 0.01664672065426795, 'household_income': 0.01740878413163057, 'travel_time_to_work': 0.018103014784311908, 'doctorate_degree_pct': 0.02019137686484096, 'debt_ratio_low': 0.024185935759175547, 'debt_ratio_high': 0.03532180131035875, 'hs_diploma_pct': 0.03672718823107751, 'sold_above_list': 0.04067201478896135, 'professional_degree_pct': 0.06683372160615232, 'avg_sale_to_list': 0.06928350640652649, 'master_degree_pct': 0.096890022552629, 'bachelor_degree_pct': 0.1400188139562861, 'income_tax_high': 0.1851577793098901}\n"
     ]
    }
   ],
   "source": [
    "d = dict()\n",
    "for i, j in zip(X.columns, et.feature_importances_):\n",
    "    d[i]=j\n",
    "\n",
    "print({k: v for k, v in sorted(d.items(), key=lambda item: item[1])})"
   ]
  },
  {
   "cell_type": "code",
   "execution_count": 27,
   "metadata": {},
   "outputs": [],
   "source": [
    "d = {'Feature': X.columns, 'Importance': et.feature_importances_}\n",
    "df = pd.DataFrame(d)\n",
    "df = df.sort_values(by='Importance', ascending=False).reset_index(drop=True)\n",
    "\n",
    "fig = px.bar_polar(df.iloc[:30,:], r='Importance', theta='Feature',\n",
    "            color='Feature', template='plotly_dark',\n",
    "            color_discrete_sequence=px.colors.sequential.Plasma_r)\n",
    "fig.show()"
   ]
  },
  {
   "cell_type": "code",
   "execution_count": 28,
   "metadata": {},
   "outputs": [
    {
     "name": "stdout",
     "output_type": "stream",
     "text": [
      "10.243285936412503\n",
      "13.035524859700663\n"
     ]
    }
   ],
   "source": [
    "pred2019 = et.predict(X_val)\n",
    "\n",
    "\n",
    "data2019['Predicted_sale_price_change'] = pred2019\n",
    "\n",
    "data2019['Prediction_delta'] = ((data2019['median_sale_price'] - data2019['Predicted_sale_price_change'])/data2019['median_sale_price'])*100\n",
    "print(data2019['Prediction_delta'].mean())\n",
    "#10.243285936412503%\n",
    "print(data2019['Prediction_delta'].median())\n",
    "#13.035524859700663%"
   ]
  },
  {
   "cell_type": "code",
   "execution_count": 29,
   "metadata": {},
   "outputs": [],
   "source": [
    "\n",
    "fig = px.choropleth(data2019, geojson=counties, locations='county_fips', color='Prediction_delta',\n",
    "                           color_continuous_scale=\"Viridis\",\n",
    "                            range_color=(0, 100),\n",
    "                           scope=\"usa\",\n",
    "                           labels={'Prediction_delta':'Prediction delta for 2019 HPI'}\n",
    "                          )\n",
    "fig.update_layout(margin={\"r\":0,\"t\":0,\"l\":0,\"b\":0})\n",
    "fig.show()"
   ]
  },
  {
   "cell_type": "code",
   "execution_count": null,
   "metadata": {},
   "outputs": [],
   "source": []
  }
 ],
 "metadata": {
  "interpreter": {
   "hash": "48afe66db347f725036e500dc5f1a42501d7f7e0b12ba873f0d502d0ac62c68b"
  },
  "kernelspec": {
   "display_name": "Python 3.8.0 ('capstone_env_v2')",
   "language": "python",
   "name": "python3"
  },
  "language_info": {
   "codemirror_mode": {
    "name": "ipython",
    "version": 3
   },
   "file_extension": ".py",
   "mimetype": "text/x-python",
   "name": "python",
   "nbconvert_exporter": "python",
   "pygments_lexer": "ipython3",
   "version": "3.8.0"
  },
  "orig_nbformat": 4
 },
 "nbformat": 4,
 "nbformat_minor": 2
}
