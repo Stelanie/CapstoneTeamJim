{
 "cells": [
  {
   "cell_type": "markdown",
   "metadata": {},
   "source": [
    "Compressing the pickle files for the project. Functions come from this article:\n",
    "https://betterprogramming.pub/load-fast-load-big-with-compressed-pickles-5f311584507e "
   ]
  },
  {
   "cell_type": "code",
   "execution_count": 1,
   "metadata": {},
   "outputs": [],
   "source": [
    "import pandas as pd\n",
    "import bz2\n",
    "import pickle\n",
    "import _pickle as cPickle"
   ]
  },
  {
   "cell_type": "code",
   "execution_count": 6,
   "metadata": {},
   "outputs": [],
   "source": [
    "# Pickle a file and then compress it into a file with extension \n",
    "def compressed_pickle(title, data):\n",
    "    with bz2.BZ2File(title+ \".pbz2\", \"w\") as f: \n",
    "        cPickle.dump(data, f)"
   ]
  },
  {
   "cell_type": "code",
   "execution_count": 7,
   "metadata": {},
   "outputs": [],
   "source": [
    "# Load any compressed pickle file\n",
    "def decompress_pickle(file_name):\n",
    "    data = bz2.BZ2File(file_name, \"rb\")\n",
    "    data = cPickle.load(data)\n",
    "    return data"
   ]
  },
  {
   "cell_type": "code",
   "execution_count": 14,
   "metadata": {},
   "outputs": [],
   "source": [
    "data = pd.read_pickle(\"data/monthly_2021_VARcountysubset.pkl\")"
   ]
  },
  {
   "cell_type": "code",
   "execution_count": 15,
   "metadata": {},
   "outputs": [
    {
     "data": {
      "text/html": [
       "<div>\n",
       "<style scoped>\n",
       "    .dataframe tbody tr th:only-of-type {\n",
       "        vertical-align: middle;\n",
       "    }\n",
       "\n",
       "    .dataframe tbody tr th {\n",
       "        vertical-align: top;\n",
       "    }\n",
       "\n",
       "    .dataframe thead th {\n",
       "        text-align: right;\n",
       "    }\n",
       "</style>\n",
       "<table border=\"1\" class=\"dataframe\">\n",
       "  <thead>\n",
       "    <tr style=\"text-align: right;\">\n",
       "      <th></th>\n",
       "      <th>county_fips</th>\n",
       "      <th>date</th>\n",
       "      <th>median_sale_price</th>\n",
       "      <th>year</th>\n",
       "      <th>log_median_sale_price</th>\n",
       "      <th>region</th>\n",
       "    </tr>\n",
       "  </thead>\n",
       "  <tbody>\n",
       "    <tr>\n",
       "      <th>0</th>\n",
       "      <td>01007</td>\n",
       "      <td>2016-01-01</td>\n",
       "      <td>85387.5</td>\n",
       "      <td>2016</td>\n",
       "      <td>11.354955</td>\n",
       "      <td>Bibb County, AL</td>\n",
       "    </tr>\n",
       "    <tr>\n",
       "      <th>1</th>\n",
       "      <td>01007</td>\n",
       "      <td>2016-02-01</td>\n",
       "      <td>171793.0</td>\n",
       "      <td>2016</td>\n",
       "      <td>12.054046</td>\n",
       "      <td>Bibb County, AL</td>\n",
       "    </tr>\n",
       "    <tr>\n",
       "      <th>2</th>\n",
       "      <td>01007</td>\n",
       "      <td>2016-03-01</td>\n",
       "      <td>129112.5</td>\n",
       "      <td>2016</td>\n",
       "      <td>11.768439</td>\n",
       "      <td>Bibb County, AL</td>\n",
       "    </tr>\n",
       "    <tr>\n",
       "      <th>3</th>\n",
       "      <td>01007</td>\n",
       "      <td>2016-04-01</td>\n",
       "      <td>170420.0</td>\n",
       "      <td>2016</td>\n",
       "      <td>12.046021</td>\n",
       "      <td>Bibb County, AL</td>\n",
       "    </tr>\n",
       "    <tr>\n",
       "      <th>4</th>\n",
       "      <td>01007</td>\n",
       "      <td>2016-05-01</td>\n",
       "      <td>170320.0</td>\n",
       "      <td>2016</td>\n",
       "      <td>12.045434</td>\n",
       "      <td>Bibb County, AL</td>\n",
       "    </tr>\n",
       "  </tbody>\n",
       "</table>\n",
       "</div>"
      ],
      "text/plain": [
       "  county_fips       date  median_sale_price  year  log_median_sale_price  \\\n",
       "0       01007 2016-01-01            85387.5  2016              11.354955   \n",
       "1       01007 2016-02-01           171793.0  2016              12.054046   \n",
       "2       01007 2016-03-01           129112.5  2016              11.768439   \n",
       "3       01007 2016-04-01           170420.0  2016              12.046021   \n",
       "4       01007 2016-05-01           170320.0  2016              12.045434   \n",
       "\n",
       "            region  \n",
       "0  Bibb County, AL  \n",
       "1  Bibb County, AL  \n",
       "2  Bibb County, AL  \n",
       "3  Bibb County, AL  \n",
       "4  Bibb County, AL  "
      ]
     },
     "execution_count": 15,
     "metadata": {},
     "output_type": "execute_result"
    }
   ],
   "source": [
    "data.head()"
   ]
  },
  {
   "cell_type": "code",
   "execution_count": 16,
   "metadata": {},
   "outputs": [
    {
     "data": {
      "text/plain": [
       "(100296, 6)"
      ]
     },
     "execution_count": 16,
     "metadata": {},
     "output_type": "execute_result"
    }
   ],
   "source": [
    "data.shape"
   ]
  },
  {
   "cell_type": "code",
   "execution_count": 17,
   "metadata": {},
   "outputs": [],
   "source": [
    "compressed_pickle(\"monthly_2021_varcountysubset\", data)"
   ]
  },
  {
   "cell_type": "code",
   "execution_count": 18,
   "metadata": {},
   "outputs": [],
   "source": [
    "df = decompress_pickle(\"monthly_2021_varcountysubset.pbz2\")"
   ]
  },
  {
   "cell_type": "code",
   "execution_count": 21,
   "metadata": {},
   "outputs": [
    {
     "data": {
      "text/html": [
       "<div>\n",
       "<style scoped>\n",
       "    .dataframe tbody tr th:only-of-type {\n",
       "        vertical-align: middle;\n",
       "    }\n",
       "\n",
       "    .dataframe tbody tr th {\n",
       "        vertical-align: top;\n",
       "    }\n",
       "\n",
       "    .dataframe thead th {\n",
       "        text-align: right;\n",
       "    }\n",
       "</style>\n",
       "<table border=\"1\" class=\"dataframe\">\n",
       "  <thead>\n",
       "    <tr style=\"text-align: right;\">\n",
       "      <th></th>\n",
       "      <th>county_fips</th>\n",
       "      <th>date</th>\n",
       "      <th>median_sale_price</th>\n",
       "      <th>year</th>\n",
       "      <th>log_median_sale_price</th>\n",
       "      <th>region</th>\n",
       "    </tr>\n",
       "  </thead>\n",
       "  <tbody>\n",
       "    <tr>\n",
       "      <th>0</th>\n",
       "      <td>01007</td>\n",
       "      <td>2016-01-01</td>\n",
       "      <td>85387.5</td>\n",
       "      <td>2016</td>\n",
       "      <td>11.354955</td>\n",
       "      <td>Bibb County, AL</td>\n",
       "    </tr>\n",
       "    <tr>\n",
       "      <th>1</th>\n",
       "      <td>01007</td>\n",
       "      <td>2016-02-01</td>\n",
       "      <td>171793.0</td>\n",
       "      <td>2016</td>\n",
       "      <td>12.054046</td>\n",
       "      <td>Bibb County, AL</td>\n",
       "    </tr>\n",
       "    <tr>\n",
       "      <th>2</th>\n",
       "      <td>01007</td>\n",
       "      <td>2016-03-01</td>\n",
       "      <td>129112.5</td>\n",
       "      <td>2016</td>\n",
       "      <td>11.768439</td>\n",
       "      <td>Bibb County, AL</td>\n",
       "    </tr>\n",
       "    <tr>\n",
       "      <th>3</th>\n",
       "      <td>01007</td>\n",
       "      <td>2016-04-01</td>\n",
       "      <td>170420.0</td>\n",
       "      <td>2016</td>\n",
       "      <td>12.046021</td>\n",
       "      <td>Bibb County, AL</td>\n",
       "    </tr>\n",
       "    <tr>\n",
       "      <th>4</th>\n",
       "      <td>01007</td>\n",
       "      <td>2016-05-01</td>\n",
       "      <td>170320.0</td>\n",
       "      <td>2016</td>\n",
       "      <td>12.045434</td>\n",
       "      <td>Bibb County, AL</td>\n",
       "    </tr>\n",
       "  </tbody>\n",
       "</table>\n",
       "</div>"
      ],
      "text/plain": [
       "  county_fips       date  median_sale_price  year  log_median_sale_price  \\\n",
       "0       01007 2016-01-01            85387.5  2016              11.354955   \n",
       "1       01007 2016-02-01           171793.0  2016              12.054046   \n",
       "2       01007 2016-03-01           129112.5  2016              11.768439   \n",
       "3       01007 2016-04-01           170420.0  2016              12.046021   \n",
       "4       01007 2016-05-01           170320.0  2016              12.045434   \n",
       "\n",
       "            region  \n",
       "0  Bibb County, AL  \n",
       "1  Bibb County, AL  \n",
       "2  Bibb County, AL  \n",
       "3  Bibb County, AL  \n",
       "4  Bibb County, AL  "
      ]
     },
     "execution_count": 21,
     "metadata": {},
     "output_type": "execute_result"
    }
   ],
   "source": [
    "df.head()"
   ]
  },
  {
   "cell_type": "code",
   "execution_count": null,
   "metadata": {},
   "outputs": [],
   "source": []
  }
 ],
 "metadata": {
  "interpreter": {
   "hash": "f82d4ec2f4e1a7949fc551b5039d8b80c5fc6c2b366144cfac1fa6211cdc80ab"
  },
  "kernelspec": {
   "display_name": "Python 3.9.7 ('capstone')",
   "language": "python",
   "name": "python3"
  },
  "language_info": {
   "codemirror_mode": {
    "name": "ipython",
    "version": 3
   },
   "file_extension": ".py",
   "mimetype": "text/x-python",
   "name": "python",
   "nbconvert_exporter": "python",
   "pygments_lexer": "ipython3",
   "version": "3.9.7"
  },
  "orig_nbformat": 4
 },
 "nbformat": 4,
 "nbformat_minor": 2
}
