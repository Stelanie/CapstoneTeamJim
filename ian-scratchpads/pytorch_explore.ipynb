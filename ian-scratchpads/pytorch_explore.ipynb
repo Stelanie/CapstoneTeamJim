{
 "cells": [
  {
   "cell_type": "markdown",
   "metadata": {},
   "source": [
    "## Exploring forecasting various home price metric with pytorch\n",
    "see: https://github.com/jdb78/pytorch-forecasting"
   ]
  },
  {
   "cell_type": "code",
   "execution_count": 24,
   "metadata": {},
   "outputs": [],
   "source": [
    "# imports for training\n",
    "import pytorch_lightning as pl\n",
    "from pytorch_lightning.loggers import TensorBoardLogger\n",
    "from pytorch_lightning.callbacks import EarlyStopping, LearningRateMonitor\n",
    "\n",
    "# import dataset, network to train and metric to optimize\n",
    "from pytorch_forecasting import (\n",
    "    TimeSeriesDataSet,\n",
    "    TemporalFusionTransformer,\n",
    "    QuantileLoss,\n",
    ")\n",
    "\n",
    "from capston_db_conn import db_conn\n",
    "\n",
    "conn = db_conn()\n",
    "# print(conn)\n",
    "\n",
    "# standard imports\n",
    "import numpy as np\n",
    "import pandas as pd\n",
    "import warnings\n",
    "\n",
    "warnings.filterwarnings(\"ignore\")  # avoid printing out absolute paths"
   ]
  },
  {
   "cell_type": "code",
   "execution_count": 25,
   "metadata": {},
   "outputs": [],
   "source": [
    "rf_sql = \"\"\"\n",
    "select\n",
    "*\n",
    "from redfin_county_full\n",
    "\"\"\"\n",
    "# NOTE: add filters on SQL query once determined they are needed\n",
    "\n",
    "redfin = pd.read_sql(rf_sql, con=conn, parse_dates=[\"period_start\", \"period_end\"])\n",
    "# conn.close()\n"
   ]
  },
  {
   "cell_type": "code",
   "execution_count": 26,
   "metadata": {},
   "outputs": [],
   "source": [
    "# redfin.head()"
   ]
  },
  {
   "cell_type": "code",
   "execution_count": 27,
   "metadata": {},
   "outputs": [],
   "source": [
    "cols = [\n",
    "    \"county_fips\",\n",
    "    \"period_end\",\n",
    "    \"property_type\",\n",
    "    #\"property_type_id\",\n",
    "    \"median_sale_price\",\n",
    "    \"median_list_price\",\n",
    "    \"median_ppsf\",\n",
    "    \"median_list_ppsf\",\n",
    "    \"homes_sold\",\n",
    "    \"pending_sales\",\n",
    "    \"new_listings\",\n",
    "    \"inventory\",\n",
    "    \"months_of_supply\",\n",
    "    \"median_dom\",\n",
    "    \"avg_sale_to_list\",\n",
    "    \"sold_above_list\",\n",
    "    \"price_drops\",\n",
    "    \"off_market_in_two_weeks\",\n",
    "]"
   ]
  },
  {
   "cell_type": "code",
   "execution_count": 28,
   "metadata": {},
   "outputs": [
    {
     "ename": "AttributeError",
     "evalue": "'DataFrame' object has no attribute 'date'",
     "output_type": "error",
     "traceback": [
      "\u001b[0;31m---------------------------------------------------------------------------\u001b[0m",
      "\u001b[0;31mAttributeError\u001b[0m                            Traceback (most recent call last)",
      "\u001b[1;32m/Users/ianbyrne/Dev/CapstoneTeamJim/ian-scratchpads/pytorch_explore.ipynb Cell 5'\u001b[0m in \u001b[0;36m<cell line: 10>\u001b[0;34m()\u001b[0m\n\u001b[1;32m      <a href='vscode-notebook-cell:/Users/ianbyrne/Dev/CapstoneTeamJim/ian-scratchpads/pytorch_explore.ipynb#ch0000012?line=7'>8</a>\u001b[0m data[\u001b[39m\"\u001b[39m\u001b[39mtime_idx\u001b[39m\u001b[39m\"\u001b[39m] \u001b[39m=\u001b[39m data[\u001b[39m\"\u001b[39m\u001b[39mperiod_end\u001b[39m\u001b[39m\"\u001b[39m]\u001b[39m.\u001b[39mdt\u001b[39m.\u001b[39myear \u001b[39m*\u001b[39m \u001b[39m12\u001b[39m \u001b[39m+\u001b[39m data[\u001b[39m\"\u001b[39m\u001b[39mperiod_end\u001b[39m\u001b[39m\"\u001b[39m]\u001b[39m.\u001b[39mdt\u001b[39m.\u001b[39mmonth\n\u001b[1;32m      <a href='vscode-notebook-cell:/Users/ianbyrne/Dev/CapstoneTeamJim/ian-scratchpads/pytorch_explore.ipynb#ch0000012?line=8'>9</a>\u001b[0m data[\u001b[39m\"\u001b[39m\u001b[39mtime_idx\u001b[39m\u001b[39m\"\u001b[39m] \u001b[39m-\u001b[39m\u001b[39m=\u001b[39m data[\u001b[39m\"\u001b[39m\u001b[39mtime_idx\u001b[39m\u001b[39m\"\u001b[39m]\u001b[39m.\u001b[39mmin()\n\u001b[0;32m---> <a href='vscode-notebook-cell:/Users/ianbyrne/Dev/CapstoneTeamJim/ian-scratchpads/pytorch_explore.ipynb#ch0000012?line=9'>10</a>\u001b[0m data[\u001b[39m\"\u001b[39m\u001b[39mmonth\u001b[39m\u001b[39m\"\u001b[39m] \u001b[39m=\u001b[39m data\u001b[39m.\u001b[39;49mdate\u001b[39m.\u001b[39mdt\u001b[39m.\u001b[39mmonth\u001b[39m.\u001b[39mastype(\u001b[39mstr\u001b[39m)\u001b[39m.\u001b[39mastype(\u001b[39m\"\u001b[39m\u001b[39mcategory\u001b[39m\u001b[39m\"\u001b[39m)\n",
      "File \u001b[0;32m/opt/anaconda3/envs/capstone/lib/python3.9/site-packages/pandas/core/generic.py:5583\u001b[0m, in \u001b[0;36mNDFrame.__getattr__\u001b[0;34m(self, name)\u001b[0m\n\u001b[1;32m   <a href='file:///opt/anaconda3/envs/capstone/lib/python3.9/site-packages/pandas/core/generic.py?line=5575'>5576</a>\u001b[0m \u001b[39mif\u001b[39;00m (\n\u001b[1;32m   <a href='file:///opt/anaconda3/envs/capstone/lib/python3.9/site-packages/pandas/core/generic.py?line=5576'>5577</a>\u001b[0m     name \u001b[39mnot\u001b[39;00m \u001b[39min\u001b[39;00m \u001b[39mself\u001b[39m\u001b[39m.\u001b[39m_internal_names_set\n\u001b[1;32m   <a href='file:///opt/anaconda3/envs/capstone/lib/python3.9/site-packages/pandas/core/generic.py?line=5577'>5578</a>\u001b[0m     \u001b[39mand\u001b[39;00m name \u001b[39mnot\u001b[39;00m \u001b[39min\u001b[39;00m \u001b[39mself\u001b[39m\u001b[39m.\u001b[39m_metadata\n\u001b[1;32m   <a href='file:///opt/anaconda3/envs/capstone/lib/python3.9/site-packages/pandas/core/generic.py?line=5578'>5579</a>\u001b[0m     \u001b[39mand\u001b[39;00m name \u001b[39mnot\u001b[39;00m \u001b[39min\u001b[39;00m \u001b[39mself\u001b[39m\u001b[39m.\u001b[39m_accessors\n\u001b[1;32m   <a href='file:///opt/anaconda3/envs/capstone/lib/python3.9/site-packages/pandas/core/generic.py?line=5579'>5580</a>\u001b[0m     \u001b[39mand\u001b[39;00m \u001b[39mself\u001b[39m\u001b[39m.\u001b[39m_info_axis\u001b[39m.\u001b[39m_can_hold_identifiers_and_holds_name(name)\n\u001b[1;32m   <a href='file:///opt/anaconda3/envs/capstone/lib/python3.9/site-packages/pandas/core/generic.py?line=5580'>5581</a>\u001b[0m ):\n\u001b[1;32m   <a href='file:///opt/anaconda3/envs/capstone/lib/python3.9/site-packages/pandas/core/generic.py?line=5581'>5582</a>\u001b[0m     \u001b[39mreturn\u001b[39;00m \u001b[39mself\u001b[39m[name]\n\u001b[0;32m-> <a href='file:///opt/anaconda3/envs/capstone/lib/python3.9/site-packages/pandas/core/generic.py?line=5582'>5583</a>\u001b[0m \u001b[39mreturn\u001b[39;00m \u001b[39mobject\u001b[39;49m\u001b[39m.\u001b[39;49m\u001b[39m__getattribute__\u001b[39;49m(\u001b[39mself\u001b[39;49m, name)\n",
      "\u001b[0;31mAttributeError\u001b[0m: 'DataFrame' object has no attribute 'date'"
     ]
    }
   ],
   "source": [
    "# load data: this is pandas dataframe with at least a column for\n",
    "# * the target (what you want to predict)\n",
    "# * the timeseries ID (which should be a unique string to identify each timeseries)\n",
    "# * the time of the observation (which should be a monotonically increasing integer)\n",
    "data = redfin[cols]\n",
    "\n",
    "# add time index\n",
    "data[\"time_idx\"] = data[\"period_end\"].dt.year * 12 + data[\"period_end\"].dt.month\n",
    "data[\"time_idx\"] -= data[\"time_idx\"].min()\n",
    "data[\"month\"] = data.date.dt.month.astype(str).astype(\"category\")\n"
   ]
  },
  {
   "cell_type": "code",
   "execution_count": null,
   "metadata": {},
   "outputs": [],
   "source": [
    "# data.head()"
   ]
  },
  {
   "cell_type": "code",
   "execution_count": null,
   "metadata": {},
   "outputs": [],
   "source": [
    "from pytorch_forecasting.data import TimeSeriesDataSet, GroupNormalizer\n",
    "\n",
    "# define the dataset, i.e. add metadata to pandas dataframe for the model to understand it\n",
    "max_encoder_length = 36\n",
    "max_prediction_length = 12\n",
    "training_cutoff = data[\"time_idx\"].max() - max_prediction_length  # day for cutoff\n",
    "\n",
    "training = TimeSeriesDataSet(\n",
    "    data[lambda x: x.date <= training_cutoff],\n",
    "    time_idx=\"time_idx\"  # column name of time of observation\n",
    "    target=\"median_sale_price\",  # column name of target to predict\n",
    "    group_ids=[\"property_type\", \"county_fips\"],  # column name(s) for timeseries IDs\n",
    "    max_encoder_length=max_encoder_length,  # how much history to use\n",
    "    max_prediction_length=max_prediction_length,  # how far to predict into future\n",
    "    # covariates static for a timeseries ID\n",
    "    static_categoricals=[\"property_type\", \"county_fips\"],\n",
    "    static_reals=[...],\n",
    "    # covariates known and unknown in the future to inform prediction\n",
    "    time_varying_known_categoricals=[],\n",
    "    time_varying_known_reals=[...],\n",
    "    time_varying_unknown_categoricals=[...],\n",
    "    time_varying_unknown_reals=[...],\n",
    ")\n"
   ]
  },
  {
   "cell_type": "markdown",
   "metadata": {},
   "source": []
  }
 ],
 "metadata": {
  "interpreter": {
   "hash": "40d3a090f54c6569ab1632332b64b2c03c39dcf918b08424e98f38b5ae0af88f"
  },
  "kernelspec": {
   "display_name": "Python 3.9.7 ('base')",
   "language": "python",
   "name": "python3"
  },
  "language_info": {
   "codemirror_mode": {
    "name": "ipython",
    "version": 3
   },
   "file_extension": ".py",
   "mimetype": "text/x-python",
   "name": "python",
   "nbconvert_exporter": "python",
   "pygments_lexer": "ipython3",
   "version": "3.9.7"
  },
  "orig_nbformat": 4
 },
 "nbformat": 4,
 "nbformat_minor": 2
}
