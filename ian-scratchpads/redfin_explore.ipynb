{
 "cells": [
  {
   "cell_type": "code",
   "execution_count": null,
   "metadata": {},
   "outputs": [],
   "source": [
    "from secrets_ian import capstone_db\n",
    "import pandas as pd\n",
    "import psycopg2\n",
    "import numpy as np\n",
    "import seaborn as sns\n",
    "import matplotlib.pyplot as plt"
   ]
  },
  {
   "cell_type": "code",
   "execution_count": null,
   "metadata": {},
   "outputs": [],
   "source": [
    "engine = capstone_db[\"engine\"]\n",
    "db_name = capstone_db[\"db_name\"]\n",
    "user = capstone_db[\"username\"]\n",
    "pw = capstone_db[\"password\"]\n",
    "host = capstone_db[\"db_url\"]\n",
    "\n",
    "conn = psycopg2.connect(dbname=db_name, user=user, password=pw, host=host)"
   ]
  },
  {
   "cell_type": "code",
   "execution_count": null,
   "metadata": {},
   "outputs": [],
   "source": [
    "cols = [\n",
    "    \"county_fips\",\n",
    "    \"period_end\",\n",
    "    \"property_type\",\n",
    "    \"property_type_id\",\n",
    "    \"median_sale_price_yoy\",\n",
    "    \"median_list_price_yoy\",\n",
    "    \"median_ppsf_yoy\",\n",
    "    \"median_list_ppsf_yoy\",\n",
    "    \"homes_sold_yoy\",\n",
    "    \"pending_sales_yoy\",\n",
    "    \"new_listings_yoy\",\n",
    "    \"inventory_yoy\",\n",
    "    \"months_of_supply_yoy\",\n",
    "    \"median_dom_yoy\",\n",
    "    \"avg_sale_to_list_yoy\",\n",
    "    \"sold_above_list_yoy\",\n",
    "    \"price_drops_yoy\",\n",
    "    \"off_market_in_two_weeks_yoy\",\n",
    "]\n",
    "\n",
    "rf_sql = \"\"\"\n",
    "select \n",
    "*\n",
    "from redfin_county_full\n",
    "\"\"\"\n",
    "\n",
    "redfin = pd.read_sql(rf_sql, con=conn)\n"
   ]
  },
  {
   "cell_type": "code",
   "execution_count": null,
   "metadata": {},
   "outputs": [],
   "source": [
    "#redfin.info()\n",
    "#redfin.head()"
   ]
  },
  {
   "cell_type": "code",
   "execution_count": null,
   "metadata": {},
   "outputs": [],
   "source": [
    "X = redfin[cols]"
   ]
  },
  {
   "cell_type": "code",
   "execution_count": null,
   "metadata": {},
   "outputs": [],
   "source": [
    "cor_matrix = X.corr().abs()\n",
    "#print(cor_matrix)"
   ]
  },
  {
   "cell_type": "code",
   "execution_count": null,
   "metadata": {},
   "outputs": [],
   "source": [
    "sns.set(rc = {'figure.figsize':(15,8)})\n",
    "ax = sns.heatmap(cor_matrix)"
   ]
  },
  {
   "cell_type": "code",
   "execution_count": null,
   "metadata": {},
   "outputs": [],
   "source": [
    "import plotly.express as px\n",
    "fig = px.imshow(cor_matrix, aspect=\"auto\")\n",
    "fig"
   ]
  },
  {
   "cell_type": "code",
   "execution_count": null,
   "metadata": {},
   "outputs": [],
   "source": [
    "redfin[\"property_type\"].unique()"
   ]
  },
  {
   "cell_type": "code",
   "execution_count": null,
   "metadata": {},
   "outputs": [],
   "source": [
    "single_homes = X[X[\"property_type\"] == \"All Residential\"]"
   ]
  },
  {
   "cell_type": "code",
   "execution_count": null,
   "metadata": {},
   "outputs": [],
   "source": [
    "home_corr_mat = single_homes.corr().abs()"
   ]
  },
  {
   "cell_type": "code",
   "execution_count": null,
   "metadata": {},
   "outputs": [],
   "source": [
    "import plotly.express as px\n",
    "fig = px.imshow(home_corr_mat, aspect=\"auto\")\n",
    "fig"
   ]
  },
  {
   "cell_type": "code",
   "execution_count": null,
   "metadata": {},
   "outputs": [],
   "source": []
  }
 ],
 "metadata": {
  "interpreter": {
   "hash": "cd78fef2128015050713e82ca51c6520b11aee7c9ee8df750520bbbc7384cbaa"
  },
  "kernelspec": {
   "display_name": "Python 3.6.10 64-bit ('base': conda)",
   "language": "python",
   "name": "python3"
  },
  "language_info": {
   "codemirror_mode": {
    "name": "ipython",
    "version": 3
   },
   "file_extension": ".py",
   "mimetype": "text/x-python",
   "name": "python",
   "nbconvert_exporter": "python",
   "pygments_lexer": "ipython3",
   "version": "3.9.7"
  },
  "orig_nbformat": 4
 },
 "nbformat": 4,
 "nbformat_minor": 2
}
