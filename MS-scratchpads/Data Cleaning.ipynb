{
 "cells": [
  {
   "cell_type": "code",
   "execution_count": 1,
   "metadata": {},
   "outputs": [],
   "source": [
    "import json\n",
    "\n",
    "import urllib.request\n",
    "import urllib.parse\n",
    "import pandas as pd\n",
    "import numpy as np\n",
    "import time\n",
    "from datetime import datetime\n",
    "import re\n",
    "import warnings\n",
    "import time\n",
    "\n",
    "pd.set_option('display.float_format',lambda x:'%.2f'%x)\n",
    "# pd.set_option('display.max_columns',None)"
   ]
  },
  {
   "cell_type": "code",
   "execution_count": 2,
   "metadata": {},
   "outputs": [],
   "source": [
    "fips = pd.read_excel('all-geocodes-v2016.xlsx',skiprows=[0,1,2,3], dtype = str)\n",
    "fips = fips[fips['Summary Level']=='040']\n",
    "fips['Area Name (including legal/statistical area description)'] = fips['Area Name (including legal/statistical area description)'].str.upper()\n",
    "fips = fips[['State Code (FIPS)','Area Name (including legal/statistical area description)']]"
   ]
  },
  {
   "cell_type": "markdown",
   "metadata": {},
   "source": [
    "##### State Income Tax Data"
   ]
  },
  {
   "cell_type": "code",
   "execution_count": 26,
   "metadata": {},
   "outputs": [],
   "source": [
    "\n",
    "sheet_list = list(range(2000,2023))\n",
    "state_income_tax = pd.DataFrame(columns = ['State','Low','High','year'])\n",
    "for sheet in sheet_list:\n",
    "    tax = pd.read_excel('state_income_tax_rates.xlsx', skiprows=list(range(0,5)),usecols=['State','Low','High'],nrows=51,sheet_name=str(sheet))\n",
    "    tax['State'] = tax['State'].str.extract(r'([a-zA-Z+]*[ a-zA-Zw+]*)')\n",
    "    tax['State'] = tax['State'].str.strip().str.upper()\n",
    "    tax = tax.fillna(0)\n",
    "    tax['year'] = sheet\n",
    "    state_income_tax = state_income_tax.append(tax)\n",
    "    \n",
    "state_income_tax['Low'] = state_income_tax['Low'].astype(float)\n",
    "state_income_tax['High'] = state_income_tax['High'].astype(float)\n",
    "state_income_tax['year'] = state_income_tax['year'].astype(int)\n",
    "#Add FIPS code to state\n",
    "state_income_tax = state_income_tax.merge(fips, how='left',left_on = 'State',right_on = 'Area Name (including legal/statistical area description)' )\n",
    "state_income_tax = state_income_tax.drop('Area Name (including legal/statistical area description)',axis=1)\n",
    "state_income_tax = state_income_tax.rename({'State Code (FIPS)':'State_FIPS'},axis=1)\n",
    "state_income_tax = state_income_tax[['State','State_FIPS', 'Low', 'High', 'year']]\n",
    "\n",
    "# Uncomment to represent data in wide format using pivot table\n",
    "# state_income_tax = state_income_tax.pivot_table(index=['State','State_FIPS'], columns=['year'])\n",
    "# state_income_tax.columns = [str(a)+'_'+str(b) for a,b in state_income_tax.columns]\n"
   ]
  },
  {
   "cell_type": "code",
   "execution_count": null,
   "metadata": {},
   "outputs": [],
   "source": [
    "state_income_tax.to_csv('state_income_tax_clean_year.csv',encoding='utf-8')"
   ]
  },
  {
   "cell_type": "markdown",
   "metadata": {},
   "source": [
    "#### # State Corporate Income Tax Data"
   ]
  },
  {
   "cell_type": "code",
   "execution_count": 31,
   "metadata": {},
   "outputs": [],
   "source": [
    "sheet_list = list(range(2002,2023))\n",
    "sheet_list.remove(2009)\n",
    "state_corp_income_tax = pd.DataFrame(columns = ['State','Rate','year'])\n",
    "for sheet in sheet_list:\n",
    "    tax = pd.read_excel('state_corporate_income_tax.xlsx', skiprows=list(range(0,5)),usecols=['State','Rate'],nrows=51,sheet_name=str(sheet))\n",
    "    tax['Rate'] = tax['Rate'].astype(str)\n",
    "    rates = tax['Rate'].str.extract(r'(?P<Range>(?P<Low>\\d+.?\\d*)(\\s-\\s*)(?P<High>\\d+.?\\d*))|(?P<Flat>\\d+.?\\d*)').fillna(0)\n",
    "    rates['Low'] = rates[['Low','Flat']].astype(float).max(axis=1)\n",
    "    rates['High'] = rates[['High','Flat']].astype(float).max(axis=1)\n",
    "    rates = rates[['Low','High']]\n",
    "    tax = tax.merge(rates,left_index=True, right_index=True)\n",
    "    tax['State'] = tax['State'].str.extract(r'([a-zA-Z+]*[ a-zA-Zw+]*)')\n",
    "    tax['State'] = tax['State'].str.strip().str.upper()\n",
    "    tax = tax.dropna()\n",
    "    tax['year'] = sheet\n",
    "    state_corp_income_tax = state_corp_income_tax.append(tax)\n",
    "    \n",
    "\n",
    "state_corp_income_tax['year'] = state_corp_income_tax['year'].astype(int)\n",
    "state_corp_income_tax = state_corp_income_tax.drop(['Rate'],axis=1)\n",
    "#Add FIPS code to state\n",
    "state_corp_income_tax = state_corp_income_tax.merge(fips, how='left',left_on = 'State',right_on = 'Area Name (including legal/statistical area description)' )\n",
    "state_corp_income_tax = state_corp_income_tax.drop('Area Name (including legal/statistical area description)',axis=1)\n",
    "state_corp_income_tax = state_corp_income_tax.rename({'State Code (FIPS)':'State_FIPS'},axis=1)\n",
    "state_corp_income_tax = state_corp_income_tax[['State','State_FIPS', 'Low', 'High', 'year']]\n",
    "\n",
    "# Uncomment to represent data in wide format using pivot table\n",
    "# state_corp_income_tax = state_corp_income_tax.pivot_table(index=['State','State_FIPS'], columns=['year'])\n",
    "# state_corp_income_tax.columns = [str(a)+'_'+str(b) for a,b in state_corp_income_tax.columns]"
   ]
  },
  {
   "cell_type": "code",
   "execution_count": null,
   "metadata": {},
   "outputs": [],
   "source": [
    "state_corp_income_tax.to_csv('state_corp_income_tax_clean.csv',encoding='utf-8')"
   ]
  },
  {
   "cell_type": "markdown",
   "metadata": {},
   "source": [
    "#### State and county debt ratio data"
   ]
  },
  {
   "cell_type": "code",
   "execution_count": 66,
   "metadata": {},
   "outputs": [
    {
     "name": "stderr",
     "output_type": "stream",
     "text": [
      "<ipython-input-66-5a2662e8ba31>:6: SettingWithCopyWarning: \n",
      "A value is trying to be set on a copy of a slice from a DataFrame\n",
      "\n",
      "See the caveats in the documentation: https://pandas.pydata.org/pandas-docs/stable/user_guide/indexing.html#returning-a-view-versus-a-copy\n",
      "  debt['high'][debt['high'].isna()]=debt['low']\n",
      "<ipython-input-66-5a2662e8ba31>:7: FutureWarning: Indexing with multiple keys (implicitly converted to a tuple of keys) will be deprecated, use a list instead.\n",
      "  debt = debt.groupby(['State_FIPS','County_FIPS','year'],as_index=False)['low','high'].mean()\n"
     ]
    }
   ],
   "source": [
    "debt = pd.read_csv('household-debt-by-county.csv', dtype = str)\n",
    "debt['State_FIPS'] = debt['area_fips'].apply(lambda x: x[0:2])\n",
    "debt['County_FIPS'] = debt['area_fips'].apply(lambda x: x[2:5])\n",
    "debt['low'] = debt['low'].astype(float)\n",
    "debt['high'] = debt['high'].astype(float)\n",
    "debt['high'][debt['high'].isna()]=debt['low']\n",
    "debt = debt.groupby(['State_FIPS','County_FIPS','year'],as_index=False)['low','high'].mean()\n",
    "\n",
    "# Uncomment to represent data in wide format using pivot table\n",
    "# debt = debt.pivot_table(index=['State_FIPS','County_FIPS'], columns=['year']).reset_index()\n",
    "# debt.columns = [str(a)+'_'+str(b) for a,b in debt.columns]"
   ]
  },
  {
   "cell_type": "code",
   "execution_count": 68,
   "metadata": {},
   "outputs": [],
   "source": [
    "debt.to_csv('debt_ratio_state_county_year_clean.csv',encoding='utf-8')"
   ]
  },
  {
   "cell_type": "code",
   "execution_count": null,
   "metadata": {},
   "outputs": [],
   "source": []
  },
  {
   "cell_type": "code",
   "execution_count": null,
   "metadata": {},
   "outputs": [],
   "source": []
  }
 ],
 "metadata": {
  "kernelspec": {
   "display_name": "Python 3",
   "language": "python",
   "name": "python3"
  },
  "language_info": {
   "codemirror_mode": {
    "name": "ipython",
    "version": 3
   },
   "file_extension": ".py",
   "mimetype": "text/x-python",
   "name": "python",
   "nbconvert_exporter": "python",
   "pygments_lexer": "ipython3",
   "version": "3.8.3"
  }
 },
 "nbformat": 4,
 "nbformat_minor": 4
}
