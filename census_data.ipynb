{
 "cells": [
  {
   "cell_type": "code",
   "execution_count": 1,
   "id": "ec618b0e",
   "metadata": {},
   "outputs": [],
   "source": [
    "import pandas as pd\n",
    "import numpy as np\n",
    "import censusdata\n",
    "\n",
    "from sklearn.model_selection import train_test_split\n",
    "import seaborn as sns"
   ]
  },
  {
   "cell_type": "markdown",
   "id": "7c3f7f61",
   "metadata": {},
   "source": [
    "## Exploring ACS Data \n",
    "\n",
    "This notebook is an initial exploration of ACS data accessed through the Python library CensusData which is built on the Census API."
   ]
  },
  {
   "cell_type": "code",
   "execution_count": 44,
   "id": "c3bf778e",
   "metadata": {},
   "outputs": [],
   "source": [
    "##search for specific variable name based on indicator to grab later\n",
    "##indicators available at https://www.census.gov/programs-surveys/acs/guidance/subjects.html\n",
    "\n",
    "#uncomment to view\n",
    "#censusdata.censustable('acs5', 2015, 'B15003')"
   ]
  },
  {
   "cell_type": "markdown",
   "id": "52097d29",
   "metadata": {},
   "source": [
    "### ETL"
   ]
  },
  {
   "cell_type": "code",
   "execution_count": 45,
   "id": "f95a9228",
   "metadata": {},
   "outputs": [],
   "source": [
    "def metric_by_year_by_county(census_table_code_list, year, acs):\n",
    "    data = censusdata.download(acs, year, censusdata.censusgeo([('state', '*'), ('county', '*')]),\n",
    "          census_table_code_list).reset_index()\n",
    "    data['state'] = data['index'].apply(lambda x: str(x).split(',')[1].split(':')[0].strip())\n",
    "    data['county'] = data['index'].apply(lambda x: str(x).split('County')[0].strip())\n",
    "    data['fips'] = data['index'].apply(lambda x: int(str(x).split(':')[-2][:2].strip() + str(x).split(':')[-1].strip()))\n",
    "    data.drop('index', axis=1, inplace=True)\n",
    "    return data"
   ]
  },
  {
   "cell_type": "code",
   "execution_count": 46,
   "id": "166e2188",
   "metadata": {},
   "outputs": [],
   "source": [
    "def df_creation():\n",
    "    df = pd.DataFrame()\n",
    "\n",
    "    for i in range(2015, 2020, 1):\n",
    "        metric_df = metric_by_year_by_county(['B25002_002E', 'B25002_003E', 'B25031_003E', 'B08303_001E',\n",
    "                             'B25031_004E', 'B25031_005E', 'B25031_006E', 'B25077_001E', 'B01003_001E',\n",
    "                             'B13016_003E', 'B13016_004E', 'B08201_001E', 'B19001_001E',\n",
    "                             'B13016_005E', 'B13016_006E', 'B13016_007E', 'B13016_008E', 'B13016_009E',\n",
    "                             'B13016_011E', 'B13016_012E', 'B13016_013E', 'B13016_014E', 'B15003_001E',\n",
    "                             'B13016_015E', 'B13016_016E', 'B13016_017E', 'B15003_025E',\n",
    "                             'B15003_022E', 'B15003_023E', 'B15003_024E'], i, 'acs1')\n",
    "            \n",
    "        metric_df['year'] = i\n",
    "        df = df.append(metric_df)\n",
    "    return df            "
   ]
  },
  {
   "cell_type": "code",
   "execution_count": 47,
   "id": "a02efa49",
   "metadata": {},
   "outputs": [],
   "source": [
    "#dictionary to maps codes to indicator names\n",
    "\n",
    "indicator_dict = {'B01003_001E': 'population', 'B08303_001E': 'travel_time_to_work', \n",
    "                  'B08201_001E': 'vehicles_available', 'B19001_001E': 'household_income',\n",
    "                 'B25077_001E': 'home_value_median', 'B15003_022E': 'bachelor_degree',\n",
    "                 'B25002_002E': 'occupied_units', 'B25002_003E': 'vacant_units',\n",
    "                 'B25031_003E': 'rent_1bed_median', 'B15003_023E': 'master_degree',\n",
    "                 'B25031_004E': 'rent_2bed_median', 'B25031_005E': 'rent_3bed_median',\n",
    "                 'B25031_006E': 'rent_4bed_median', 'B15003_024E': 'professional_degree',\n",
    "                 'B13016_003E': 'birth_15_19', 'B15003_025E': 'doctorate_degree',\n",
    "                 'B13016_004E': 'birth_20_24', 'B13016_005E': 'birth_25_29', 'B13016_006E': 'birth_30_34',\n",
    "                 'B13016_007E': 'birth_35_39', 'B13016_008E': 'birth_40_44', 'B13016_009E': 'birth_45_50',\n",
    "                 'B13016_011E': 'nobirth_15_19', 'B13016_012E': 'nobirth_20_24', 'B13016_013E': 'nobirth_25_29',\n",
    "                 'B13016_014E': 'nobirth_30_34', 'B13016_015E': 'nobirth_35_39', 'B13016_016E': 'nobirth_40_44',\n",
    "                 'B13016_017E': 'nobirth_45_50'}"
   ]
  },
  {
   "cell_type": "code",
   "execution_count": 48,
   "id": "3e609bbe",
   "metadata": {},
   "outputs": [],
   "source": [
    "df = df_creation()\n",
    "\n",
    "df.rename(columns=indicator_dict,\n",
    "          inplace=True)\n",
    "df.replace(-666666666, np.nan, inplace=True)"
   ]
  },
  {
   "cell_type": "code",
   "execution_count": 49,
   "id": "35b24b5f",
   "metadata": {},
   "outputs": [
    {
     "name": "stdout",
     "output_type": "stream",
     "text": [
      "occupied_units: 0 null values\n",
      "vacant_units: 0 null values\n",
      "rent_1bed_median: 17 null values\n",
      "travel_time_to_work: 0 null values\n",
      "rent_2bed_median: 1 null values\n",
      "rent_3bed_median: 0 null values\n",
      "rent_4bed_median: 131 null values\n",
      "home_value_median: 0 null values\n",
      "population: 0 null values\n",
      "birth_15_19: 10 null values\n",
      "birth_20_24: 10 null values\n",
      "vehicles_available: 0 null values\n",
      "household_income: 0 null values\n",
      "birth_25_29: 10 null values\n",
      "birth_30_34: 10 null values\n",
      "birth_35_39: 10 null values\n",
      "birth_40_44: 10 null values\n",
      "birth_45_50: 10 null values\n",
      "nobirth_15_19: 10 null values\n",
      "nobirth_20_24: 10 null values\n",
      "nobirth_25_29: 10 null values\n",
      "nobirth_30_34: 10 null values\n",
      "B15003_001E: 25 null values\n",
      "nobirth_35_39: 10 null values\n",
      "nobirth_40_44: 10 null values\n",
      "nobirth_45_50: 10 null values\n",
      "doctorate_degree: 25 null values\n",
      "bachelor_degree: 25 null values\n",
      "master_degree: 25 null values\n",
      "professional_degree: 25 null values\n",
      "state: 0 null values\n",
      "county: 0 null values\n",
      "fips: 0 null values\n",
      "year: 0 null values\n"
     ]
    }
   ],
   "source": [
    "for col in df.columns:\n",
    "    print(col+':', df[col].isnull().sum(), 'null values')"
   ]
  },
  {
   "cell_type": "code",
   "execution_count": 50,
   "id": "cd829628",
   "metadata": {},
   "outputs": [
    {
     "data": {
      "text/plain": [
       "array([2015, 2016, 2017, 2018, 2019])"
      ]
     },
     "execution_count": 50,
     "metadata": {},
     "output_type": "execute_result"
    }
   ],
   "source": [
    "df['year'].unique()"
   ]
  },
  {
   "cell_type": "code",
   "execution_count": 51,
   "id": "f41fbcc7",
   "metadata": {},
   "outputs": [],
   "source": [
    "#fill nulls and create ratios\n",
    "\n",
    "for col in df.columns:\n",
    "    try:\n",
    "        mean = df[col].mean()\n",
    "        df[col].fillna(value=mean, inplace=True)\n",
    "    except:\n",
    "        continue\n",
    "\n",
    "df['birth_ratio_15_19'] = df['birth_15_19']/df['nobirth_15_19']\n",
    "df['birth_ratio_20_24'] = df['birth_20_24']/df['nobirth_20_24']\n",
    "df['birth_ratio_25_29'] = df['birth_25_29']/df['nobirth_25_29']\n",
    "df['birth_ratio_30_34'] = df['birth_30_34']/df['nobirth_30_34']\n",
    "df['birth_ratio_35_39'] = df['birth_35_39']/df['nobirth_35_39']\n",
    "df['birth_ratio_40_44'] = df['birth_40_44']/df['nobirth_40_44']\n",
    "df['birth_ratio_45_50'] = df['birth_45_50']/df['nobirth_45_50']\n",
    "\n",
    "df['bachelor_ratio'] = df['bachelor_degree']/df['population']\n",
    "df['master_ratio'] = df['master_degree']/df['population']\n",
    "df['professional_ratio'] = df['professional_degree']/df['population']\n",
    "df['doctorate_ratio'] = df['doctorate_degree']/df['population']\n",
    "\n",
    "df['occupied_ratio'] = df['occupied_units']/(df['occupied_units'] + df['vacant_units'])\n"
   ]
  },
  {
   "cell_type": "code",
   "execution_count": 69,
   "id": "a67184a8",
   "metadata": {},
   "outputs": [
    {
     "data": {
      "text/plain": [
       "(4116, 47)"
      ]
     },
     "execution_count": 69,
     "metadata": {},
     "output_type": "execute_result"
    }
   ],
   "source": [
    "df.shape"
   ]
  },
  {
   "cell_type": "code",
   "execution_count": 52,
   "id": "924de1c8",
   "metadata": {},
   "outputs": [],
   "source": [
    "#bring in HPI data\n",
    "\n",
    "hpi_df = pd.read_excel('HPI_AT_BDL_county (1).xlsx', header=6)"
   ]
  },
  {
   "cell_type": "code",
   "execution_count": 55,
   "id": "0ddda7f4",
   "metadata": {},
   "outputs": [
    {
     "data": {
      "text/html": [
       "<div>\n",
       "<style scoped>\n",
       "    .dataframe tbody tr th:only-of-type {\n",
       "        vertical-align: middle;\n",
       "    }\n",
       "\n",
       "    .dataframe tbody tr th {\n",
       "        vertical-align: top;\n",
       "    }\n",
       "\n",
       "    .dataframe thead th {\n",
       "        text-align: right;\n",
       "    }\n",
       "</style>\n",
       "<table border=\"1\" class=\"dataframe\">\n",
       "  <thead>\n",
       "    <tr style=\"text-align: right;\">\n",
       "      <th></th>\n",
       "      <th>State</th>\n",
       "      <th>County</th>\n",
       "      <th>FIPS code</th>\n",
       "      <th>Year</th>\n",
       "      <th>Annual Change (%)</th>\n",
       "      <th>HPI</th>\n",
       "      <th>HPI with 1990 base</th>\n",
       "      <th>HPI with 2000 base</th>\n",
       "    </tr>\n",
       "  </thead>\n",
       "  <tbody>\n",
       "    <tr>\n",
       "      <th>0</th>\n",
       "      <td>AL</td>\n",
       "      <td>Autauga</td>\n",
       "      <td>1001</td>\n",
       "      <td>1986</td>\n",
       "      <td>.</td>\n",
       "      <td>100.00</td>\n",
       "      <td>95.33</td>\n",
       "      <td>70.56</td>\n",
       "    </tr>\n",
       "    <tr>\n",
       "      <th>1</th>\n",
       "      <td>AL</td>\n",
       "      <td>Autauga</td>\n",
       "      <td>1001</td>\n",
       "      <td>1987</td>\n",
       "      <td>-2.53</td>\n",
       "      <td>97.47</td>\n",
       "      <td>92.92</td>\n",
       "      <td>68.77</td>\n",
       "    </tr>\n",
       "    <tr>\n",
       "      <th>2</th>\n",
       "      <td>AL</td>\n",
       "      <td>Autauga</td>\n",
       "      <td>1001</td>\n",
       "      <td>1988</td>\n",
       "      <td>3.73</td>\n",
       "      <td>101.10</td>\n",
       "      <td>96.38</td>\n",
       "      <td>71.33</td>\n",
       "    </tr>\n",
       "    <tr>\n",
       "      <th>3</th>\n",
       "      <td>AL</td>\n",
       "      <td>Autauga</td>\n",
       "      <td>1001</td>\n",
       "      <td>1989</td>\n",
       "      <td>4.29</td>\n",
       "      <td>105.43</td>\n",
       "      <td>100.51</td>\n",
       "      <td>74.39</td>\n",
       "    </tr>\n",
       "    <tr>\n",
       "      <th>4</th>\n",
       "      <td>AL</td>\n",
       "      <td>Autauga</td>\n",
       "      <td>1001</td>\n",
       "      <td>1990</td>\n",
       "      <td>-0.51</td>\n",
       "      <td>104.90</td>\n",
       "      <td>100.00</td>\n",
       "      <td>74.01</td>\n",
       "    </tr>\n",
       "  </tbody>\n",
       "</table>\n",
       "</div>"
      ],
      "text/plain": [
       "  State   County  FIPS code  Year Annual Change (%)     HPI  \\\n",
       "0    AL  Autauga       1001  1986                 .  100.00   \n",
       "1    AL  Autauga       1001  1987             -2.53   97.47   \n",
       "2    AL  Autauga       1001  1988              3.73  101.10   \n",
       "3    AL  Autauga       1001  1989              4.29  105.43   \n",
       "4    AL  Autauga       1001  1990             -0.51  104.90   \n",
       "\n",
       "  HPI with 1990 base HPI with 2000 base  \n",
       "0              95.33              70.56  \n",
       "1              92.92              68.77  \n",
       "2              96.38              71.33  \n",
       "3             100.51              74.39  \n",
       "4             100.00              74.01  "
      ]
     },
     "execution_count": 55,
     "metadata": {},
     "output_type": "execute_result"
    }
   ],
   "source": [
    "hpi_df.head()"
   ]
  },
  {
   "cell_type": "code",
   "execution_count": 56,
   "id": "eb10ac8a",
   "metadata": {},
   "outputs": [],
   "source": [
    "hpi_df = hpi_df[hpi_df['Year']>2015]\n",
    "\n",
    "hpi_df = hpi_df[['Year', 'FIPS code', 'Annual Change (%)']]\n",
    "\n",
    "hpi_df.columns = ['year', 'fips', 'hpi_change_in_a_year']"
   ]
  },
  {
   "cell_type": "code",
   "execution_count": 57,
   "id": "faa9deb9",
   "metadata": {},
   "outputs": [],
   "source": [
    "#reduce year by 1 so that the hpi annual change value is for one year in the future\n",
    "hpi_df['year'] = hpi_df['year'].apply(lambda x: x-1)"
   ]
  },
  {
   "cell_type": "code",
   "execution_count": 58,
   "id": "971053b9",
   "metadata": {},
   "outputs": [],
   "source": [
    "#merge with indicators and remove nan (not allowed in model)\n",
    "df = df.merge(hpi_df, how='left', on=['year', 'fips'])\n",
    "\n",
    "df.replace('.', np.nan, inplace=True)\n",
    "df['hpi_change_in_a_year'] = df['hpi_change_in_a_year'].astype(float)\n",
    "\n",
    "\n",
    "df = df.dropna()"
   ]
  },
  {
   "cell_type": "markdown",
   "id": "59661dc1",
   "metadata": {},
   "source": [
    "## Modeling"
   ]
  },
  {
   "cell_type": "code",
   "execution_count": 59,
   "id": "27005e7d",
   "metadata": {},
   "outputs": [],
   "source": [
    "# train test split\n",
    "# try using historical population for population change\n",
    "X = df[['rent_1bed_median',\n",
    "       'travel_time_to_work', 'rent_2bed_median', 'rent_3bed_median',\n",
    "       'rent_4bed_median', 'home_value_median', 'population', 'birth_15_19',\n",
    "       'birth_20_24', 'vehicles_available', 'household_income', 'birth_ratio_15_19', \n",
    "        'birth_ratio_20_24', 'birth_ratio_25_29',\n",
    "       'birth_ratio_30_34', 'birth_ratio_35_39', 'birth_ratio_40_44',\n",
    "       'birth_ratio_45_50', 'bachelor_ratio', 'master_ratio',\n",
    "       'professional_ratio', 'doctorate_ratio', 'occupied_ratio']]\n",
    "y = df['hpi_change_in_a_year']"
   ]
  },
  {
   "cell_type": "code",
   "execution_count": 60,
   "id": "02d2b5f5",
   "metadata": {},
   "outputs": [],
   "source": [
    "X_train, X_test, y_train, y_test = train_test_split(X, y, test_size=0.25, random_state=42)"
   ]
  },
  {
   "cell_type": "code",
   "execution_count": 61,
   "id": "54692a53",
   "metadata": {},
   "outputs": [
    {
     "data": {
      "text/plain": [
       "RandomForestRegressor(max_depth=10, random_state=0)"
      ]
     },
     "execution_count": 61,
     "metadata": {},
     "output_type": "execute_result"
    }
   ],
   "source": [
    "from sklearn.ensemble import RandomForestRegressor\n",
    "from sklearn.datasets import make_regression\n",
    "\n",
    "regr = RandomForestRegressor(max_depth=10, random_state=0)\n",
    "regr.fit(X_train, y_train)"
   ]
  },
  {
   "cell_type": "code",
   "execution_count": 62,
   "id": "b4d9b37c",
   "metadata": {},
   "outputs": [
    {
     "data": {
      "text/plain": [
       "0.223366098507933"
      ]
     },
     "execution_count": 62,
     "metadata": {},
     "output_type": "execute_result"
    }
   ],
   "source": [
    "regr.score(X_test, y_test)"
   ]
  },
  {
   "cell_type": "code",
   "execution_count": 63,
   "id": "aa9e2165",
   "metadata": {},
   "outputs": [
    {
     "data": {
      "text/plain": [
       "array([0.04164774, 0.03304436, 0.06239778, 0.07285233, 0.0491227 ,\n",
       "       0.11754766, 0.04377559, 0.01773721, 0.04223273, 0.01699454,\n",
       "       0.01693062, 0.01853495, 0.04270111, 0.03050104, 0.03520986,\n",
       "       0.03225458, 0.02364214, 0.02172655, 0.05064956, 0.07144385,\n",
       "       0.03923852, 0.03692786, 0.08288673])"
      ]
     },
     "execution_count": 63,
     "metadata": {},
     "output_type": "execute_result"
    }
   ],
   "source": [
    "regr.feature_importances_"
   ]
  },
  {
   "cell_type": "code",
   "execution_count": 66,
   "id": "3c1d2d90",
   "metadata": {},
   "outputs": [
    {
     "data": {
      "text/plain": [
       "<AxesSubplot:>"
      ]
     },
     "execution_count": 66,
     "metadata": {},
     "output_type": "execute_result"
    },
    {
     "data": {
      "image/png": "[encoded data removed]",
      "text/plain": [
       "<Figure size 1080x576 with 2 Axes>"
      ]
     },
     "metadata": {},
     "output_type": "display_data"
    }
   ],
   "source": [
    "sns.set(rc = {'figure.figsize':(15,8)})\n",
    "sns.heatmap(df[['rent_1bed_median',\n",
    "       'travel_time_to_work', 'rent_2bed_median', 'rent_3bed_median',\n",
    "       'rent_4bed_median', 'home_value_median', 'population', 'birth_15_19',\n",
    "       'birth_20_24', 'vehicles_available', 'household_income', 'birth_ratio_15_19', \n",
    "        'birth_ratio_20_24', 'birth_ratio_25_29',\n",
    "       'birth_ratio_30_34', 'birth_ratio_35_39', 'birth_ratio_40_44',\n",
    "       'birth_ratio_45_50', 'bachelor_ratio', 'master_ratio',\n",
    "       'professional_ratio', 'doctorate_ratio', 'occupied_ratio', 'hpi_change_in_a_year']].corr())"
   ]
  },
  {
   "cell_type": "code",
   "execution_count": null,
   "id": "3105c315",
   "metadata": {},
   "outputs": [],
   "source": []
  }
 ],
 "metadata": {
  "kernelspec": {
   "display_name": "Python 3 (ipykernel)",
   "language": "python",
   "name": "python3"
  },
  "language_info": {
   "codemirror_mode": {
    "name": "ipython",
    "version": 3
   },
   "file_extension": ".py",
   "mimetype": "text/x-python",
   "name": "python",
   "nbconvert_exporter": "python",
   "pygments_lexer": "ipython3",
   "version": "3.9.7"
  }
 },
 "nbformat": 4,
 "nbformat_minor": 5
}
