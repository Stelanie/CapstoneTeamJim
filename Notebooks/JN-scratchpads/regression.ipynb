{
 "cells": [
  {
   "cell_type": "code",
   "execution_count": null,
   "metadata": {},
   "outputs": [],
   "source": [
    "import pandas as pd\n",
    "\n",
    "from sklearn.preprocessing import StandardScaler\n",
    "from sklearn.impute import KNNImputer\n",
    "from sklearn.model_selection import train_test_split\n",
    "\n",
    "from sklearn.ensemble import RandomForestRegressor\n",
    "from sklearn.datasets import make_regression\n",
    "\n",
    "import sklearn.metrics\n",
    "from sklearn.model_selection import GridSearchCV\n"
   ]
  },
  {
   "cell_type": "code",
   "execution_count": null,
   "metadata": {},
   "outputs": [],
   "source": [
    "data = pd.read_pickle('../../data/processed/data_to2018.pkl')"
   ]
  },
  {
   "cell_type": "code",
   "execution_count": null,
   "metadata": {},
   "outputs": [],
   "source": [
    "X = data.iloc[:,3:-1]\n",
    "y = data.iloc[:,-1]"
   ]
  },
  {
   "cell_type": "code",
   "execution_count": null,
   "metadata": {},
   "outputs": [],
   "source": [
    "X_norm = StandardScaler().fit_transform(X)\n",
    "\n",
    "X_train, X_test, y_train, y_test = train_test_split(X_norm, y, test_size=0.25, random_state=42)\n"
   ]
  },
  {
   "cell_type": "code",
   "execution_count": null,
   "metadata": {},
   "outputs": [],
   "source": [
    "regr = RandomForestRegressor(max_depth=10, random_state=0)\n",
    "regr.fit(X_train, y_train)"
   ]
  },
  {
   "cell_type": "code",
   "execution_count": null,
   "metadata": {},
   "outputs": [],
   "source": [
    "score = regr.score(X_test, y_test)\n",
    "print(\"Random Forest Regressor Test score: \"+str(score)+'\\n')\n",
    "\n",
    "##0.523631453593925"
   ]
  },
  {
   "cell_type": "code",
   "execution_count": 7,
   "metadata": {},
   "outputs": [],
   "source": [
    "parameters = {'n_estimators': [100, 500, 1000],\n",
    "                'max_depth':[5, 10, 15], \n",
    "                'max_features': ['auto', 'sqrt', 'log2'],\n",
    "                'bootstrap': [True, False]}\n",
    "model = RandomForestRegressor()\n",
    "grid = GridSearchCV(model, parameters)\n",
    "grid.fit(X, y)"
   ]
  },
  {
   "cell_type": "code",
   "execution_count": null,
   "metadata": {},
   "outputs": [],
   "source": [
    "grid.cv_results_"
   ]
  },
  {
   "cell_type": "code",
   "execution_count": null,
   "metadata": {},
   "outputs": [],
   "source": [
    "grid.best_estimator_\n",
    "\n",
    "##RandomForestRegressor(bootstrap=False, max_depth=15, max_features='sqrt',\n",
    " ##                     n_estimators=1000)"
   ]
  },
  {
   "cell_type": "code",
   "execution_count": null,
   "metadata": {},
   "outputs": [],
   "source": [
    "regr = RandomForestRegressor(bootstrap=False, max_depth=15, \n",
    "                                max_features='sqrt', n_estimators=1000,\n",
    "                                random_state=0)\n",
    "regr.fit(X_train, y_train)"
   ]
  },
  {
   "cell_type": "code",
   "execution_count": null,
   "metadata": {},
   "outputs": [],
   "source": [
    "score = regr.score(X_test, y_test)\n",
    "print(\"Random Forest Regressor Test score: \"+str(score)+'\\n')\n",
    "\n",
    "##0.537308268183097"
   ]
  },
  {
   "cell_type": "code",
   "execution_count": null,
   "metadata": {},
   "outputs": [],
   "source": [
    "##try extra trees regressor\n",
    "from sklearn.ensemble import ExtraTreesRegressor\n",
    "et = ExtraTreesRegressor(n_estimators=100, random_state=0).fit(\n",
    "       X_train, y_train)\n",
    "et.score(X_test, y_test)\n",
    "\n",
    "## 0.5911409441112394"
   ]
  },
  {
   "cell_type": "code",
   "execution_count": null,
   "metadata": {},
   "outputs": [],
   "source": [
    "parameters = {'n_estimators': [100, 500, 1000],\n",
    "                'max_depth':[5, 10, 15], \n",
    "                'max_features': ['auto', 'sqrt', 'log2'],\n",
    "                'bootstrap': [True, False]}\n",
    "model = ExtraTreesRegressor()\n",
    "grid_et = GridSearchCV(model, parameters)\n",
    "grid_et.fit(X, y)"
   ]
  },
  {
   "cell_type": "code",
   "execution_count": null,
   "metadata": {},
   "outputs": [],
   "source": [
    "grid_et.best_estimator_\n",
    "\n",
    "##ExtraTreesRegressor(max_depth=15, n_estimators=500)"
   ]
  },
  {
   "cell_type": "code",
   "execution_count": null,
   "metadata": {},
   "outputs": [],
   "source": [
    "et = ExtraTreesRegressor(n_estimators=500, max_depth=15, random_state=0).fit(\n",
    "       X_train, y_train)\n",
    "et.score(X_test, y_test)\n",
    "\n",
    "## 0.5981650632828766"
   ]
  },
  {
   "cell_type": "code",
   "execution_count": null,
   "metadata": {},
   "outputs": [],
   "source": [
    "df2019 = pd.read_pickle('../../data/processed/data_2019.pkl')\n",
    "df2019.head()"
   ]
  },
  {
   "cell_type": "code",
   "execution_count": null,
   "metadata": {},
   "outputs": [],
   "source": [
    "X_val = df2019.iloc[:,3:-1]\n",
    "y_val = df2019.iloc[:,-1]"
   ]
  },
  {
   "cell_type": "code",
   "execution_count": null,
   "metadata": {},
   "outputs": [],
   "source": [
    "score = regr.score(X_val, y_val)\n",
    "print(\"Random Forest Regressor Validation score: \"+str(score)+'\\n')\n",
    "\n",
    "## -2.5916456312397127"
   ]
  },
  {
   "cell_type": "code",
   "execution_count": null,
   "metadata": {},
   "outputs": [],
   "source": [
    "et.score(X_val, y_val)\n",
    "\n",
    "## -2.0808784215216947"
   ]
  },
  {
   "cell_type": "code",
   "execution_count": null,
   "metadata": {},
   "outputs": [],
   "source": [
    "for i, j in zip(X.columns, regr.feature_importances_):\n",
    "    print(i+': ',j)\n",
    "#print(et.feature_importances_)"
   ]
  },
  {
   "cell_type": "code",
   "execution_count": null,
   "metadata": {},
   "outputs": [],
   "source": []
  }
 ],
 "metadata": {
  "interpreter": {
   "hash": "48afe66db347f725036e500dc5f1a42501d7f7e0b12ba873f0d502d0ac62c68b"
  },
  "kernelspec": {
   "display_name": "Python 3.8.0 ('capstone_env_v2')",
   "language": "python",
   "name": "python3"
  },
  "language_info": {
   "codemirror_mode": {
    "name": "ipython",
    "version": 3
   },
   "file_extension": ".py",
   "mimetype": "text/x-python",
   "name": "python",
   "nbconvert_exporter": "python",
   "pygments_lexer": "ipython3",
   "version": "3.8.0"
  },
  "orig_nbformat": 4
 },
 "nbformat": 4,
 "nbformat_minor": 2
}
