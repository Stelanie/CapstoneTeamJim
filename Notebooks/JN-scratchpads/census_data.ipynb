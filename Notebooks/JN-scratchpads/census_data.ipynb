{
 "cells": [
  {
   "cell_type": "code",
   "execution_count": null,
   "id": "ec618b0e",
   "metadata": {},
   "outputs": [],
   "source": [
    "import pandas as pd\n",
    "import numpy as np\n",
    "import censusdata\n",
    "\n",
    "from sklearn.model_selection import train_test_split\n",
    "import seaborn as sns"
   ]
  },
  {
   "cell_type": "markdown",
   "id": "7c3f7f61",
   "metadata": {},
   "source": [
    "## Exploring ACS Data \n",
    "\n",
    "This notebook is an initial exploration of ACS data accessed through the Python library CensusData which is built on the Census API."
   ]
  },
  {
   "cell_type": "code",
   "execution_count": null,
   "id": "c3bf778e",
   "metadata": {},
   "outputs": [],
   "source": [
    "##search for specific variable name based on indicator to grab later\n",
    "##indicators available at https://www.census.gov/programs-surveys/acs/guidance/subjects.html\n",
    "\n",
    "#uncomment to view\n",
    "censusdata.censustable('acs1', 2015, 'B25002')"
   ]
  },
  {
   "cell_type": "markdown",
   "id": "52097d29",
   "metadata": {},
   "source": [
    "### ETL"
   ]
  },
  {
   "cell_type": "code",
   "execution_count": null,
   "id": "f95a9228",
   "metadata": {},
   "outputs": [],
   "source": [
    "def metric_by_year_by_county(census_table_code_list, year, acs):\n",
    "    data = censusdata.download(acs, year, censusdata.censusgeo([('state', '*'), ('county', '*')]),\n",
    "          census_table_code_list).reset_index()\n",
    "    data['state'] = data['index'].apply(lambda x: str(x).split(',')[1].split(':')[0].strip())\n",
    "    data['county'] = data['index'].apply(lambda x: str(x).split('County')[0].strip())\n",
    "    data['fips'] = data['index'].apply(lambda x: int(str(x).split(':')[-2][:2].strip() + str(x).split(':')[-1].strip()))\n",
    "    data.drop('index', axis=1, inplace=True)\n",
    "    return data"
   ]
  },
  {
   "cell_type": "code",
   "execution_count": null,
   "id": "166e2188",
   "metadata": {},
   "outputs": [],
   "source": [
    "def df_creation():\n",
    "    df = pd.DataFrame()\n",
    "\n",
    "    for i in range(2015, 2020, 1):\n",
    "        metric_df = metric_by_year_by_county(['B25002_002E', 'B25002_003E', 'B25031_003E', 'B08303_001E',\n",
    "                             'B25031_004E', 'B25031_005E', 'B25031_006E', 'B25077_001E', 'B01003_001E',\n",
    "                             'B13016_003E', 'B13016_004E', 'B08201_001E', 'B19001_001E',\n",
    "                             'B13016_005E', 'B13016_006E', 'B13016_007E', 'B13016_008E', 'B13016_009E',\n",
    "                             'B13016_011E', 'B13016_012E', 'B13016_013E', 'B13016_014E', 'B15003_001E',\n",
    "                             'B13016_015E', 'B13016_016E', 'B13016_017E', 'B15003_025E',\n",
    "                             'B15003_022E', 'B15003_023E', 'B15003_024E'], i, 'acs1')\n",
    "            \n",
    "        metric_df['year'] = i\n",
    "        df = df.append(metric_df)\n",
    "    return df            "
   ]
  },
  {
   "cell_type": "code",
   "execution_count": null,
   "id": "a02efa49",
   "metadata": {},
   "outputs": [],
   "source": [
    "#dictionary to maps codes to indicator names\n",
    "\n",
    "indicator_dict = {'B01003_001E': 'population', 'B08303_001E': 'travel_time_to_work', \n",
    "                  'B08201_001E': 'vehicles_available', 'B19001_001E': 'household_income',\n",
    "                 'B25077_001E': 'home_value_median', 'B15003_022E': 'bachelor_degree',\n",
    "                 'B25002_002E': 'occupied_units', 'B25002_003E': 'vacant_units',\n",
    "                 'B25031_003E': 'rent_1bed_median', 'B15003_023E': 'master_degree',\n",
    "                 'B25031_004E': 'rent_2bed_median', 'B25031_005E': 'rent_3bed_median',\n",
    "                 'B25031_006E': 'rent_4bed_median', 'B15003_024E': 'professional_degree',\n",
    "                 'B13016_003E': 'birth_15_19', 'B15003_025E': 'doctorate_degree',\n",
    "                 'B13016_004E': 'birth_20_24', 'B13016_005E': 'birth_25_29', 'B13016_006E': 'birth_30_34',\n",
    "                 'B13016_007E': 'birth_35_39', 'B13016_008E': 'birth_40_44', 'B13016_009E': 'birth_45_50',\n",
    "                 'B13016_011E': 'nobirth_15_19', 'B13016_012E': 'nobirth_20_24', 'B13016_013E': 'nobirth_25_29',\n",
    "                 'B13016_014E': 'nobirth_30_34', 'B13016_015E': 'nobirth_35_39', 'B13016_016E': 'nobirth_40_44',\n",
    "                 'B13016_017E': 'nobirth_45_50'}"
   ]
  },
  {
   "cell_type": "code",
   "execution_count": null,
   "id": "3e609bbe",
   "metadata": {},
   "outputs": [],
   "source": [
    "df = df_creation()\n",
    "\n",
    "df.rename(columns=indicator_dict,\n",
    "          inplace=True)\n",
    "df.replace(-666666666, np.nan, inplace=True)"
   ]
  },
  {
   "cell_type": "code",
   "execution_count": null,
   "id": "35b24b5f",
   "metadata": {},
   "outputs": [],
   "source": [
    "for col in df.columns:\n",
    "    print(col+':', df[col].isnull().sum(), 'null values')"
   ]
  },
  {
   "cell_type": "code",
   "execution_count": null,
   "id": "cd829628",
   "metadata": {},
   "outputs": [],
   "source": [
    "df['year'].unique()"
   ]
  },
  {
   "cell_type": "code",
   "execution_count": null,
   "id": "f41fbcc7",
   "metadata": {},
   "outputs": [],
   "source": [
    "#fill nulls and create ratios\n",
    "\n",
    "for col in df.columns:\n",
    "    try:\n",
    "        mean = df[col].mean()\n",
    "        df[col].fillna(value=mean, inplace=True)\n",
    "    except:\n",
    "        continue\n",
    "\n",
    "df['birth_ratio_15_19'] = df['birth_15_19']/df['nobirth_15_19']\n",
    "df['birth_ratio_20_24'] = df['birth_20_24']/df['nobirth_20_24']\n",
    "df['birth_ratio_25_29'] = df['birth_25_29']/df['nobirth_25_29']\n",
    "df['birth_ratio_30_34'] = df['birth_30_34']/df['nobirth_30_34']\n",
    "df['birth_ratio_35_39'] = df['birth_35_39']/df['nobirth_35_39']\n",
    "df['birth_ratio_40_44'] = df['birth_40_44']/df['nobirth_40_44']\n",
    "df['birth_ratio_45_50'] = df['birth_45_50']/df['nobirth_45_50']\n",
    "\n",
    "df['bachelor_ratio'] = df['bachelor_degree']/df['population']\n",
    "df['master_ratio'] = df['master_degree']/df['population']\n",
    "df['professional_ratio'] = df['professional_degree']/df['population']\n",
    "df['doctorate_ratio'] = df['doctorate_degree']/df['population']\n",
    "\n",
    "df['occupied_ratio'] = df['occupied_units']/(df['occupied_units'] + df['vacant_units'])\n"
   ]
  },
  {
   "cell_type": "code",
   "execution_count": null,
   "id": "a67184a8",
   "metadata": {},
   "outputs": [],
   "source": [
    "df.shape"
   ]
  },
  {
   "cell_type": "code",
   "execution_count": null,
   "id": "924de1c8",
   "metadata": {},
   "outputs": [],
   "source": [
    "#bring in HPI data\n",
    "\n",
    "hpi_df = pd.read_excel('HPI_AT_BDL_county (1).xlsx', header=6)"
   ]
  },
  {
   "cell_type": "code",
   "execution_count": null,
   "id": "0ddda7f4",
   "metadata": {},
   "outputs": [],
   "source": [
    "hpi_df.head()"
   ]
  },
  {
   "cell_type": "code",
   "execution_count": null,
   "id": "eb10ac8a",
   "metadata": {},
   "outputs": [],
   "source": [
    "hpi_df = hpi_df[hpi_df['Year']>2015]\n",
    "\n",
    "hpi_df = hpi_df[['Year', 'FIPS code', 'Annual Change (%)']]\n",
    "\n",
    "hpi_df.columns = ['year', 'fips', 'hpi_change_in_a_year']"
   ]
  },
  {
   "cell_type": "code",
   "execution_count": null,
   "id": "faa9deb9",
   "metadata": {},
   "outputs": [],
   "source": [
    "#reduce year by 1 so that the hpi annual change value is for one year in the future\n",
    "hpi_df['year'] = hpi_df['year'].apply(lambda x: x-1)"
   ]
  },
  {
   "cell_type": "code",
   "execution_count": null,
   "id": "971053b9",
   "metadata": {},
   "outputs": [],
   "source": [
    "#merge with indicators and remove nan (not allowed in model)\n",
    "df = df.merge(hpi_df, how='left', on=['year', 'fips'])\n",
    "\n",
    "df.replace('.', np.nan, inplace=True)\n",
    "df['hpi_change_in_a_year'] = df['hpi_change_in_a_year'].astype(float)\n",
    "\n",
    "\n",
    "df = df.dropna()"
   ]
  },
  {
   "cell_type": "markdown",
   "id": "59661dc1",
   "metadata": {},
   "source": [
    "## Modeling"
   ]
  },
  {
   "cell_type": "code",
   "execution_count": null,
   "id": "27005e7d",
   "metadata": {},
   "outputs": [],
   "source": [
    "# train test split\n",
    "# try using historical population for population change\n",
    "X = df[['rent_1bed_median',\n",
    "       'travel_time_to_work', 'rent_2bed_median', 'rent_3bed_median',\n",
    "       'rent_4bed_median', 'home_value_median', 'population', 'birth_15_19',\n",
    "       'birth_20_24', 'vehicles_available', 'household_income', 'birth_ratio_15_19', \n",
    "        'birth_ratio_20_24', 'birth_ratio_25_29',\n",
    "       'birth_ratio_30_34', 'birth_ratio_35_39', 'birth_ratio_40_44',\n",
    "       'birth_ratio_45_50', 'bachelor_ratio', 'master_ratio',\n",
    "       'professional_ratio', 'doctorate_ratio', 'occupied_ratio']]\n",
    "y = df['hpi_change_in_a_year']"
   ]
  },
  {
   "cell_type": "code",
   "execution_count": null,
   "id": "02d2b5f5",
   "metadata": {},
   "outputs": [],
   "source": [
    "X_train, X_test, y_train, y_test = train_test_split(X, y, test_size=0.25, random_state=42)"
   ]
  },
  {
   "cell_type": "code",
   "execution_count": null,
   "id": "54692a53",
   "metadata": {},
   "outputs": [],
   "source": [
    "from sklearn.ensemble import RandomForestRegressor\n",
    "from sklearn.datasets import make_regression\n",
    "\n",
    "regr = RandomForestRegressor(max_depth=10, random_state=0)\n",
    "regr.fit(X_train, y_train)"
   ]
  },
  {
   "cell_type": "code",
   "execution_count": null,
   "id": "b4d9b37c",
   "metadata": {},
   "outputs": [],
   "source": [
    "regr.score(X_test, y_test)"
   ]
  },
  {
   "cell_type": "code",
   "execution_count": null,
   "id": "aa9e2165",
   "metadata": {},
   "outputs": [],
   "source": [
    "regr.feature_importances_"
   ]
  },
  {
   "cell_type": "code",
   "execution_count": null,
   "id": "3c1d2d90",
   "metadata": {},
   "outputs": [],
   "source": [
    "sns.set(rc = {'figure.figsize':(15,8)})\n",
    "sns.heatmap(df[['rent_1bed_median',\n",
    "       'travel_time_to_work', 'rent_2bed_median', 'rent_3bed_median',\n",
    "       'rent_4bed_median', 'home_value_median', 'population', 'birth_15_19',\n",
    "       'birth_20_24', 'vehicles_available', 'household_income', 'birth_ratio_15_19', \n",
    "        'birth_ratio_20_24', 'birth_ratio_25_29',\n",
    "       'birth_ratio_30_34', 'birth_ratio_35_39', 'birth_ratio_40_44',\n",
    "       'birth_ratio_45_50', 'bachelor_ratio', 'master_ratio',\n",
    "       'professional_ratio', 'doctorate_ratio', 'occupied_ratio', 'hpi_change_in_a_year']].corr())"
   ]
  },
  {
   "cell_type": "code",
   "execution_count": null,
   "id": "3105c315",
   "metadata": {},
   "outputs": [],
   "source": []
  }
 ],
 "metadata": {
  "kernelspec": {
   "display_name": "Python 3 (ipykernel)",
   "language": "python",
   "name": "python3"
  },
  "language_info": {
   "codemirror_mode": {
    "name": "ipython",
    "version": 3
   },
   "file_extension": ".py",
   "mimetype": "text/x-python",
   "name": "python",
   "nbconvert_exporter": "python",
   "pygments_lexer": "ipython3",
   "version": "3.9.7"
  }
 },
 "nbformat": 4,
 "nbformat_minor": 5
}
