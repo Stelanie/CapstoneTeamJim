{
 "cells": [
  {
   "cell_type": "code",
   "execution_count": null,
   "metadata": {},
   "outputs": [],
   "source": [
    "import pandas as pd\n",
    "\n",
    "from sklearn.preprocessing import StandardScaler\n",
    "from sklearn.impute import KNNImputer\n",
    "from sklearn.model_selection import train_test_split\n",
    "\n",
    "from sklearn.ensemble import RandomForestRegressor\n",
    "from sklearn.datasets import make_regression\n",
    "\n",
    "import sklearn.metrics\n",
    "from sklearn.model_selection import GridSearchCV\n",
    "\n",
    "import plotly.graph_objects as go\n",
    "import plotly.express as px\n",
    "from plotly.subplots import make_subplots\n",
    "import plotly.io as pio\n",
    "# render plot in default browser\n",
    "pio.renderers.default = 'browser'\n",
    "\n",
    "from urllib.request import urlopen\n",
    "import json\n",
    "with urlopen('https://raw.githubusercontent.com/plotly/datasets/master/geojson-counties-fips.json') as response:\n",
    "    counties = json.load(response)\n"
   ]
  },
  {
   "cell_type": "markdown",
   "metadata": {},
   "source": [
    "### Reading in data with raw values and adding GDP\n",
    "This mainly applies to Redfin data- rather than a percentage use the raw numbers"
   ]
  },
  {
   "cell_type": "code",
   "execution_count": null,
   "metadata": {},
   "outputs": [],
   "source": [
    "data = pd.read_pickle('../../data/processed/dataraw_to2018.pkl')\n",
    "gdp = pd.read_csv('GDP.csv')\n",
    "\n",
    "gdp.head()"
   ]
  },
  {
   "cell_type": "code",
   "execution_count": null,
   "metadata": {},
   "outputs": [],
   "source": [
    "gdp['year'] = gdp['DATE'].apply(lambda x: x[:4])\n",
    "gdp['month'] = gdp['DATE'].apply(lambda x: x[5:7])\n",
    "gdp.head()"
   ]
  },
  {
   "cell_type": "code",
   "execution_count": null,
   "metadata": {},
   "outputs": [],
   "source": [
    "gdp = gdp[gdp['month']=='10']"
   ]
  },
  {
   "cell_type": "code",
   "execution_count": null,
   "metadata": {},
   "outputs": [],
   "source": [
    "gdp = gdp[['year', 'GDP']]\n",
    "gdp['year'] = gdp['year'].apply(lambda x: int(x))"
   ]
  },
  {
   "cell_type": "code",
   "execution_count": null,
   "metadata": {},
   "outputs": [],
   "source": [
    "data.shape"
   ]
  },
  {
   "cell_type": "code",
   "execution_count": null,
   "metadata": {},
   "outputs": [],
   "source": [
    "data = data.merge(gdp, on='year', how='left')"
   ]
  },
  {
   "cell_type": "markdown",
   "metadata": {},
   "source": [
    "### Train/Test/Val\n",
    "Split data through 2018 into X and y then split 75/25 train/test. 2019 later is used as validation."
   ]
  },
  {
   "cell_type": "code",
   "execution_count": null,
   "metadata": {},
   "outputs": [],
   "source": [
    "X = data.iloc[:,3:-2].join(data.iloc[:,-1])\n",
    "y = data.iloc[:,-2:-1]"
   ]
  },
  {
   "cell_type": "code",
   "execution_count": null,
   "metadata": {},
   "outputs": [],
   "source": [
    "#X_norm = StandardScaler().fit_transform(X)\n",
    "X_norm = X\n",
    "X_train, X_test, y_train, y_test = train_test_split(X_norm, y, test_size=0.25, random_state=42)\n"
   ]
  },
  {
   "cell_type": "markdown",
   "metadata": {},
   "source": [
    "### Model Training and Selection\n",
    "Extra Trees Regressor returns the best R2 on test and validation data"
   ]
  },
  {
   "cell_type": "code",
   "execution_count": null,
   "metadata": {},
   "outputs": [],
   "source": [
    "regr = RandomForestRegressor(max_depth=10, random_state=0)\n",
    "regr.fit(X_train, y_train)"
   ]
  },
  {
   "cell_type": "code",
   "execution_count": null,
   "metadata": {},
   "outputs": [],
   "source": [
    "score = regr.score(X_test, y_test)\n",
    "print(\"Random Forest Regressor Test score: \"+str(score)+'\\n')\n",
    "\n",
    "##0.5669654667807917"
   ]
  },
  {
   "cell_type": "code",
   "execution_count": null,
   "metadata": {},
   "outputs": [],
   "source": [
    "# parameters = {'n_estimators': [100, 500, 1000],\n",
    "#                 'max_depth':[5, 10, 15], \n",
    "#                 'max_features': ['auto', 'sqrt', 'log2'],\n",
    "#                 'bootstrap': [True, False]}\n",
    "# model = RandomForestRegressor()\n",
    "# grid = GridSearchCV(model, parameters)\n",
    "# grid.fit(X, y)"
   ]
  },
  {
   "cell_type": "code",
   "execution_count": null,
   "metadata": {},
   "outputs": [],
   "source": [
    "# grid.cv_results_"
   ]
  },
  {
   "cell_type": "code",
   "execution_count": null,
   "metadata": {},
   "outputs": [],
   "source": [
    "# grid.best_estimator_\n",
    "\n",
    "## RandomForestRegressor(bootstrap=False, max_depth=15, max_features='sqrt',\n",
    " ##                     n_estimators=1000)"
   ]
  },
  {
   "cell_type": "code",
   "execution_count": null,
   "metadata": {},
   "outputs": [],
   "source": [
    "regr = RandomForestRegressor(bootstrap=False, max_depth=15, \n",
    "                                max_features='sqrt', n_estimators=1000,\n",
    "                                random_state=0)\n",
    "regr.fit(X_train, y_train)"
   ]
  },
  {
   "cell_type": "code",
   "execution_count": null,
   "metadata": {},
   "outputs": [],
   "source": [
    "score = regr.score(X_test, y_test)\n",
    "print(\"Random Forest Regressor Test score: \"+str(score)+'\\n')\n",
    "\n",
    "##0.5554493055329761"
   ]
  },
  {
   "cell_type": "code",
   "execution_count": null,
   "metadata": {},
   "outputs": [],
   "source": [
    "##try extra trees regressor\n",
    "from sklearn.ensemble import ExtraTreesRegressor\n",
    "et = ExtraTreesRegressor(n_estimators=100, random_state=0).fit(\n",
    "       X_train, y_train)\n",
    "et.score(X_test, y_test)\n",
    "\n",
    "## 0.6272394296098471"
   ]
  },
  {
   "cell_type": "code",
   "execution_count": null,
   "metadata": {},
   "outputs": [],
   "source": [
    "# parameters = {'n_estimators': [100, 500, 1000],\n",
    "#                 'max_depth':[5, 10, 15], \n",
    "#                 'max_features': ['auto', 'sqrt', 'log2'],\n",
    "#                 'bootstrap': [True, False]}\n",
    "# model = ExtraTreesRegressor()\n",
    "# grid_et = GridSearchCV(model, parameters)\n",
    "# grid_et.fit(X, y)"
   ]
  },
  {
   "cell_type": "code",
   "execution_count": null,
   "metadata": {},
   "outputs": [],
   "source": [
    "# grid_et.best_estimator_\n",
    "\n",
    "##ExtraTreesRegressor(max_depth=15, n_estimators=500)"
   ]
  },
  {
   "cell_type": "code",
   "execution_count": null,
   "metadata": {},
   "outputs": [],
   "source": [
    "# et = ExtraTreesRegressor(n_estimators=500, max_depth=15, random_state=0).fit(\n",
    "#        X_train, y_train)\n",
    "et = ExtraTreesRegressor(max_depth=15, n_estimators=500, random_state=0).fit(\n",
    "       X_train, y_train)\n",
    "\n",
    "et.score(X_test, y_test)\n",
    "\n",
    "## 0.6294494812587801"
   ]
  },
  {
   "cell_type": "code",
   "execution_count": null,
   "metadata": {},
   "outputs": [],
   "source": [
    "df2019 = pd.read_pickle('../../data/processed/dataraw_2019.pkl')\n",
    "df2019.head()"
   ]
  },
  {
   "cell_type": "code",
   "execution_count": null,
   "metadata": {},
   "outputs": [],
   "source": [
    "gdp['GDP'][gdp['year']==2019]"
   ]
  },
  {
   "cell_type": "code",
   "execution_count": null,
   "metadata": {},
   "outputs": [],
   "source": [
    "df2019['GDP'] = 21694.458"
   ]
  },
  {
   "cell_type": "code",
   "execution_count": null,
   "metadata": {},
   "outputs": [],
   "source": [
    "#X_val = StandardScaler().fit_transform(df2019.iloc[:,3:-2].join(df2019.iloc[:,-1]))\n",
    "X_val = df2019.iloc[:,3:-2].join(df2019.iloc[:,-1])\n",
    "y_val = df2019.iloc[:,-2:-1]"
   ]
  },
  {
   "cell_type": "code",
   "execution_count": null,
   "metadata": {},
   "outputs": [],
   "source": [
    "score = regr.score(X_val, y_val)\n",
    "print(\"Random Forest Regressor Validation score: \"+str(score)+'\\n')\n",
    "\n",
    "## -0.16832835442893224"
   ]
  },
  {
   "cell_type": "code",
   "execution_count": null,
   "metadata": {},
   "outputs": [],
   "source": [
    "et.score(X_val, y_val)\n",
    "\n",
    "## -0.00022179764539975722\n",
    "##no scaler == 0.2589469340774412"
   ]
  },
  {
   "cell_type": "code",
   "execution_count": null,
   "metadata": {},
   "outputs": [],
   "source": [
    "d = dict()\n",
    "for i, j in zip(X.columns, regr.feature_importances_):\n",
    "    d[i]=j\n",
    "\n",
    "print({k: v for k, v in sorted(d.items(), key=lambda item: item[1])})\n",
    "#print(et.feature_importances_)"
   ]
  },
  {
   "cell_type": "code",
   "execution_count": null,
   "metadata": {},
   "outputs": [],
   "source": [
    "d = dict()\n",
    "for i, j in zip(X.columns, et.feature_importances_):\n",
    "    d[i]=j\n",
    "\n",
    "print({k: v for k, v in sorted(d.items(), key=lambda item: item[1])})"
   ]
  },
  {
   "cell_type": "code",
   "execution_count": null,
   "metadata": {},
   "outputs": [],
   "source": [
    "d = {'Feature': X.columns, 'Importance': et.feature_importances_}\n",
    "df = pd.DataFrame(d)\n",
    "df = df.sort_values(by='Importance', ascending=False).reset_index(drop=True)\n",
    "\n",
    "fig = px.bar_polar(df.iloc[:30,:], r='Importance', theta='Feature',\n",
    "            color='Feature', template='plotly_dark',\n",
    "            color_discrete_sequence=px.colors.sequential.Plasma_r)\n",
    "fig.show()"
   ]
  },
  {
   "cell_type": "code",
   "execution_count": null,
   "metadata": {},
   "outputs": [],
   "source": [
    "df[df['Importance']>0.0035]"
   ]
  },
  {
   "cell_type": "code",
   "execution_count": null,
   "metadata": {},
   "outputs": [],
   "source": [
    "pred2019 = et.predict(X_val)\n",
    "\n",
    "\n",
    "df2019['Predicted_HPI_change'] = pred2019\n",
    "\n",
    "df2019['Prediction_delta'] = ((df2019['annual_change_pct'] - df2019['Predicted_HPI_change'])/df2019['annual_change_pct'])*100\n",
    "print(df2019['Prediction_delta'].mean())\n",
    "#5.5799%\n",
    "print(df2019['Prediction_delta'].median())"
   ]
  },
  {
   "cell_type": "code",
   "execution_count": null,
   "metadata": {},
   "outputs": [],
   "source": [
    "\n",
    "fig = px.choropleth(df2019, geojson=counties, locations='county_fips', color='Prediction_delta',\n",
    "                           color_continuous_scale=\"Viridis\",\n",
    "                            range_color=(0, 100),\n",
    "                           scope=\"usa\",\n",
    "                           labels={'Prediction_delta':'Prediction delta for 2019 HPI'}\n",
    "                          )\n",
    "fig.update_layout(margin={\"r\":0,\"t\":0,\"l\":0,\"b\":0})\n",
    "fig.show()"
   ]
  },
  {
   "cell_type": "code",
   "execution_count": null,
   "metadata": {},
   "outputs": [],
   "source": []
  },
  {
   "cell_type": "code",
   "execution_count": null,
   "metadata": {},
   "outputs": [],
   "source": []
  }
 ],
 "metadata": {
  "interpreter": {
   "hash": "48afe66db347f725036e500dc5f1a42501d7f7e0b12ba873f0d502d0ac62c68b"
  },
  "kernelspec": {
   "display_name": "Python 3.8.0 ('capstone_env_v2')",
   "language": "python",
   "name": "python3"
  },
  "language_info": {
   "codemirror_mode": {
    "name": "ipython",
    "version": 3
   },
   "file_extension": ".py",
   "mimetype": "text/x-python",
   "name": "python",
   "nbconvert_exporter": "python",
   "pygments_lexer": "ipython3",
   "version": "3.8.0"
  },
  "orig_nbformat": 4
 },
 "nbformat": 4,
 "nbformat_minor": 2
}
