{
 "cells": [
  {
   "cell_type": "code",
   "execution_count": null,
   "id": "b8d6fe18",
   "metadata": {},
   "outputs": [],
   "source": [
    "import pandas as pd\n",
    "import numpy as np\n",
    "import matplotlib.pylab as plt\n",
    "from statsmodels.tsa.seasonal import seasonal_decompose\n",
    "from statsmodels.tsa.stattools import adfuller\n",
    "from statsmodels.tsa.arima_model import ARIMA\n",
    "from statsmodels.tsa.stattools import acf, pacf"
   ]
  },
  {
   "cell_type": "code",
   "execution_count": null,
   "id": "d62f358d",
   "metadata": {},
   "outputs": [],
   "source": [
    "#reading in county/year level data\n",
    "\n",
    "df = pd.read_excel('HPI_AT_BDL_county (1).xlsx', header=6)"
   ]
  },
  {
   "cell_type": "code",
   "execution_count": null,
   "id": "5077c62f",
   "metadata": {},
   "outputs": [],
   "source": [
    "#selecting my county as an example\n",
    "\n",
    "df = df[df['FIPS code']==34013]\n",
    "df = df.set_index('Year')['HPI']\n",
    "df = df.apply(lambda x: float(x))\n",
    "df.index = pd.to_datetime(df.index, format='%Y')\n",
    "df.columns = ['HPI']\n",
    "\n",
    "df.plot()"
   ]
  },
  {
   "cell_type": "code",
   "execution_count": null,
   "id": "fc8a8999",
   "metadata": {},
   "outputs": [],
   "source": [
    "#seasonal decomposition- no seasonal trend since this is yearly data\n",
    "#looks like all that exists is the trend\n",
    "result = seasonal_decompose(df, model='multiplicative')\n",
    "fig = result.plot()"
   ]
  },
  {
   "cell_type": "code",
   "execution_count": null,
   "id": "70e3bd4d",
   "metadata": {},
   "outputs": [],
   "source": [
    "#function from Medium article\n",
    "#used to test whether the time series is stationary\n",
    "\n",
    "def test_stationarity(timeseries):\n",
    "    \n",
    "    #Determing rolling statistics\n",
    "    rolmean = timeseries.rolling(window=12).mean()\n",
    "    rolstd = timeseries.rolling(window=12).std()\n",
    "    #Plot rolling statistics:\n",
    "    plt.plot(timeseries, color='blue',label='Original')\n",
    "    plt.plot(rolmean, color='red', label='Rolling Mean')\n",
    "    plt.plot(rolstd, color='black', label = 'Rolling Std')\n",
    "    plt.legend(loc='best')\n",
    "    plt.title('Rolling Mean & Standard Deviation')\n",
    "    plt.show()\n",
    "    #Perform Dickey-Fuller test:\n",
    "    print('Results of Dickey-Fuller Test:')\n",
    "    dftest = adfuller(timeseries, autolag='AIC')\n",
    "    dfoutput = pd.Series(dftest[0:4], index=['Test Statistic','p-value','#Lags Used','Number of Observations Used'])\n",
    "    for key,value in dftest[4].items():\n",
    "        dfoutput['Critical Value (%s)'%key] = value\n",
    "    print(dfoutput)"
   ]
  },
  {
   "cell_type": "code",
   "execution_count": null,
   "id": "4058e45a",
   "metadata": {},
   "outputs": [],
   "source": [
    "#not stationary\n",
    "\n",
    "test_stationarity(df)"
   ]
  },
  {
   "cell_type": "code",
   "execution_count": null,
   "id": "993b8caa",
   "metadata": {},
   "outputs": [],
   "source": [
    "#reading in montly/regional HPI for a montly time series example\n",
    "\n",
    "data = pd.read_excel('HPI_PO_monthly_hist.xls', header=3)\n",
    "data.head()"
   ]
  },
  {
   "cell_type": "code",
   "execution_count": null,
   "id": "7c0df1e1",
   "metadata": {},
   "outputs": [],
   "source": [
    "data = data[['Month', 'East North Central\\n(NSA)']]\n",
    "data = data.iloc[1:, :]\n",
    "data = data.set_index('Month')\n",
    "data.index = pd.to_datetime(data.index)\n",
    "data.columns = ['east_north_central_nsa']\n",
    "data['east_north_central_nsa'] = data['east_north_central_nsa'].apply(lambda x: float(x))\n",
    "data.plot()"
   ]
  },
  {
   "cell_type": "code",
   "execution_count": null,
   "id": "d757ea23",
   "metadata": {},
   "outputs": [],
   "source": [
    "#seasonal decomposition (seasonal trend applies here)\n",
    "result = seasonal_decompose(data, model='multiplicative')\n",
    "fig = result.plot()"
   ]
  },
  {
   "cell_type": "code",
   "execution_count": null,
   "id": "2e0a1ef5",
   "metadata": {},
   "outputs": [],
   "source": [
    "#not stationary\n",
    "test_stationarity(data)"
   ]
  },
  {
   "cell_type": "code",
   "execution_count": null,
   "id": "373d8059",
   "metadata": {},
   "outputs": [],
   "source": [
    "#take log\n",
    "data_log = np.log(data)\n",
    "data_log.plot()"
   ]
  },
  {
   "cell_type": "code",
   "execution_count": null,
   "id": "78903726",
   "metadata": {},
   "outputs": [],
   "source": [
    "#rolling mean\n",
    "moving_avg = data_log.rolling(12).mean()\n",
    "plt.plot(data_log)\n",
    "plt.plot(moving_avg,color='red')"
   ]
  },
  {
   "cell_type": "code",
   "execution_count": null,
   "id": "74f14694",
   "metadata": {},
   "outputs": [],
   "source": [
    "#differencing\n",
    "data_log_moving_avg_diff = data_log - moving_avg\n",
    "data_log_moving_avg_diff.head(20)"
   ]
  },
  {
   "cell_type": "code",
   "execution_count": null,
   "id": "51abb3bd",
   "metadata": {},
   "outputs": [],
   "source": [
    "#drop na due to differencing (first 12 values)\n",
    "data_log_moving_avg_diff.dropna(inplace=True)\n",
    "data_log_moving_avg_diff.head()"
   ]
  },
  {
   "cell_type": "code",
   "execution_count": null,
   "id": "9d82200f",
   "metadata": {},
   "outputs": [],
   "source": [
    "#not stationary but closer (look at p-value)\n",
    "test_stationarity(data_log_moving_avg_diff)"
   ]
  },
  {
   "cell_type": "code",
   "execution_count": null,
   "id": "02241f6b",
   "metadata": {},
   "outputs": [],
   "source": [
    "#exponential weighted average\n",
    "expweighted_avg = data_log.ewm(halflife=12).mean()\n",
    "plt.plot(data_log)\n",
    "plt.plot(expweighted_avg, color='red')"
   ]
  },
  {
   "cell_type": "code",
   "execution_count": null,
   "id": "3b081d10",
   "metadata": {},
   "outputs": [],
   "source": [
    "#differencing with ewma- still not stationary\n",
    "data_log_ewma_diff = data_log - expweighted_avg\n",
    "test_stationarity(data_log_ewma_diff)"
   ]
  },
  {
   "cell_type": "code",
   "execution_count": null,
   "id": "1542ee94",
   "metadata": {},
   "outputs": [],
   "source": [
    "#taking shift for differencing\n",
    "data_log_diff = data_log - data_log.shift()\n",
    "plt.plot(data_log_diff)"
   ]
  },
  {
   "cell_type": "code",
   "execution_count": null,
   "id": "622419c4",
   "metadata": {},
   "outputs": [],
   "source": [
    "#not stationary\n",
    "data_log_diff.dropna(inplace=True)\n",
    "test_stationarity(data_log_diff)"
   ]
  },
  {
   "cell_type": "code",
   "execution_count": null,
   "id": "2aac090f",
   "metadata": {},
   "outputs": [],
   "source": [
    "#decomposition of log transform\n",
    "decomposition = seasonal_decompose(data_log)\n",
    "\n",
    "trend = decomposition.trend\n",
    "seasonal = decomposition.seasonal\n",
    "residual = decomposition.resid\n",
    "\n",
    "plt.subplot(411)\n",
    "plt.plot(data_log, label='Original')\n",
    "plt.legend(loc='best')\n",
    "plt.subplot(412)\n",
    "plt.plot(trend, label='Trend')\n",
    "plt.legend(loc='best')\n",
    "plt.subplot(413)\n",
    "plt.plot(seasonal, label='Seasonal')\n",
    "plt.legend(loc='best')\n",
    "plt.subplot(414)\n",
    "plt.plot(residual, label='Residual')\n",
    "plt.legend(loc='best')"
   ]
  },
  {
   "cell_type": "code",
   "execution_count": null,
   "id": "6472dc0a",
   "metadata": {},
   "outputs": [],
   "source": [
    "#the residual of the log-transform decomposition is stationary\n",
    "data_log_decompose = residual\n",
    "data_log_decompose.dropna(inplace=True)\n",
    "test_stationarity(data_log_decompose)"
   ]
  },
  {
   "cell_type": "code",
   "execution_count": null,
   "id": "e93c18c8",
   "metadata": {},
   "outputs": [],
   "source": [
    "#using autocorrelation and partial autocorrelation to find p and q values for ARIMA\n",
    "#where PACF first crosses upper CI is p (looks like 2)\n",
    "#where ACF first crosses upper CI is q (looks like 3)\n",
    "\n",
    "lag_acf = acf(data_log_diff, nlags=20)\n",
    "lag_pacf = pacf(data_log_diff, nlags=20, method='ols')\n",
    "\n",
    "#Plot ACF\n",
    "plt.subplot(121)\n",
    "plt.plot(lag_acf)\n",
    "plt.axhline(y=0, linestyle='--', color='gray')\n",
    "plt.axhline(y=-1.96/np.sqrt(len(data_log_diff)), linestyle='--', color='gray')\n",
    "plt.axhline(y=1.96/np.sqrt(len(data_log_diff)), linestyle='--', color='gray')\n",
    "plt.title('Autocorrelation Function')\n",
    "\n",
    "#Plot PACF\n",
    "plt.subplot(122)\n",
    "plt.plot(lag_pacf)\n",
    "plt.axhline(y=0, linestyle='--', color='gray')\n",
    "plt.axhline(y=-1.96/np.sqrt(len(data_log_diff)), linestyle='--', color='gray')\n",
    "plt.axhline(y=1.96/np.sqrt(len(data_log_diff)), linestyle='--', color='gray')\n",
    "plt.title('Partial Autocorrelation Function')\n",
    "\n",
    "plt.tight_layout()"
   ]
  },
  {
   "cell_type": "code",
   "execution_count": null,
   "id": "176bc9eb",
   "metadata": {},
   "outputs": [],
   "source": [
    "#p=2, q=3\n",
    "\n",
    "#AR model\n",
    "model = ARIMA(data_log, order=(2, 1, 0))\n",
    "results_AR = model.fit(disp=-1)\n",
    "plt.plot(data_log_diff)\n",
    "plt.plot(results_AR.fittedvalues, color='red')\n",
    "\n",
    "AR = pd.DataFrame(results_AR.fittedvalues)\n",
    "AR.columns = ['east_north_central_nsa']\n",
    "plt.title('RSS: %.4f' % ((AR - data_log_diff)**2).sum())"
   ]
  },
  {
   "cell_type": "code",
   "execution_count": null,
   "id": "08f029c3",
   "metadata": {},
   "outputs": [],
   "source": [
    "#p=2, q=3\n",
    "\n",
    "#MA model\n",
    "model = ARIMA(data_log, order=(0, 1, 3))\n",
    "results_MA = model.fit(disp=-1)\n",
    "plt.plot(data_log_diff)\n",
    "plt.plot(results_MA.fittedvalues, color='red')\n",
    "\n",
    "MA = pd.DataFrame(results_MA.fittedvalues)\n",
    "MA.columns = ['east_north_central_nsa']\n",
    "plt.title('RSS: %.4f' % ((MA - data_log_diff)**2).sum())"
   ]
  },
  {
   "cell_type": "code",
   "execution_count": null,
   "id": "827d3182",
   "metadata": {},
   "outputs": [],
   "source": [
    "#p=2, q=3\n",
    "\n",
    "#ARIMA model\n",
    "model = ARIMA(data_log, order=(2, 1, 3))\n",
    "results_ARIMA = model.fit(disp=-1)\n",
    "plt.plot(data_log_diff)\n",
    "plt.plot(results_ARIMA.fittedvalues, color='red')\n",
    "\n",
    "ARIMA = pd.DataFrame(results_ARIMA.fittedvalues)\n",
    "ARIMA.columns = ['east_north_central_nsa']\n",
    "plt.title('RSS: %.4f' % ((ARIMA - data_log_diff)**2).sum())"
   ]
  },
  {
   "cell_type": "code",
   "execution_count": null,
   "id": "26f4b774",
   "metadata": {},
   "outputs": [],
   "source": [
    "#ARIMA predictions series\n",
    "predictions_ARIMA_diff = pd.Series(results_ARIMA.fittedvalues, copy=True)\n",
    "predictions_ARIMA_diff.head()"
   ]
  },
  {
   "cell_type": "code",
   "execution_count": null,
   "id": "cae78cee",
   "metadata": {},
   "outputs": [],
   "source": [
    "#transforming back to original form- remove differencing\n",
    "predictions_ARIMA_diff_cumsum = predictions_ARIMA_diff.cumsum()\n",
    "predictions_ARIMA_diff_cumsum.head()"
   ]
  },
  {
   "cell_type": "code",
   "execution_count": null,
   "id": "539fa52c",
   "metadata": {},
   "outputs": [],
   "source": [
    "#transforming back to original form- add back from start value of log_transform\n",
    "start_value = data_log.iloc[0][0]\n",
    "predictions_ARIMA_log = predictions_ARIMA_diff_cumsum.apply(lambda x: x+start_value)\n",
    "predictions_ARIMA_log.head()"
   ]
  },
  {
   "cell_type": "code",
   "execution_count": null,
   "id": "cab4b88d",
   "metadata": {},
   "outputs": [],
   "source": [
    "#undo log transform and plot actual (blue) vs ARIMA predictions (orange)\n",
    "predictions_ARIMA = np.exp(predictions_ARIMA_log)\n",
    "plt.plot(data)\n",
    "plt.plot(predictions_ARIMA)"
   ]
  },
  {
   "cell_type": "code",
   "execution_count": null,
   "id": "9976584d",
   "metadata": {},
   "outputs": [],
   "source": []
  }
 ],
 "metadata": {
  "kernelspec": {
   "display_name": "Python 3 (ipykernel)",
   "language": "python",
   "name": "python3"
  },
  "language_info": {
   "codemirror_mode": {
    "name": "ipython",
    "version": 3
   },
   "file_extension": ".py",
   "mimetype": "text/x-python",
   "name": "python",
   "nbconvert_exporter": "python",
   "pygments_lexer": "ipython3",
   "version": "3.8.0"
  }
 },
 "nbformat": 4,
 "nbformat_minor": 5
}
