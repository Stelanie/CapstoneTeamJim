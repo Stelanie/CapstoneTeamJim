{
 "cells": [
  {
   "cell_type": "code",
   "execution_count": 1,
   "metadata": {},
   "outputs": [],
   "source": [
    "# standard imports\n",
    "import numpy as np\n",
    "import pandas as pd\n",
    "from capston_db_conn import db_conn"
   ]
  },
  {
   "cell_type": "code",
   "execution_count": 2,
   "metadata": {},
   "outputs": [
    {
     "name": "stdout",
     "output_type": "stream",
     "text": [
      "<connection object at 0x7f98a0730040; dsn: 'user=postgres password=xxx dbname=capstone host=mads-capstone-db.codt5pemnxi8.us-east-1.rds.amazonaws.com', closed: 0>\n"
     ]
    }
   ],
   "source": [
    "conn = db_conn()\n",
    "print(conn)"
   ]
  },
  {
   "cell_type": "code",
   "execution_count": 3,
   "metadata": {},
   "outputs": [
    {
     "name": "stderr",
     "output_type": "stream",
     "text": [
      "/opt/anaconda3/envs/capstone/lib/python3.9/site-packages/pandas/io/sql.py:761: UserWarning: pandas only support SQLAlchemy connectable(engine/connection) ordatabase string URI or sqlite3 DBAPI2 connectionother DBAPI2 objects are not tested, please consider using SQLAlchemy\n",
      "  warnings.warn(\n"
     ]
    }
   ],
   "source": [
    "rf_sql = \"\"\"\n",
    "SELECT *\n",
    "FROM redfin_county_full;\n",
    "\"\"\"\n",
    "\n",
    "redfin = pd.read_sql(rf_sql, con=conn, parse_dates=[\"period_start\", \"period_end\"])\n",
    "# conn.close()\n"
   ]
  },
  {
   "cell_type": "code",
   "execution_count": 6,
   "metadata": {},
   "outputs": [
    {
     "data": {
      "text/html": [
       "<div>\n",
       "<style scoped>\n",
       "    .dataframe tbody tr th:only-of-type {\n",
       "        vertical-align: middle;\n",
       "    }\n",
       "\n",
       "    .dataframe tbody tr th {\n",
       "        vertical-align: top;\n",
       "    }\n",
       "\n",
       "    .dataframe thead th {\n",
       "        text-align: right;\n",
       "    }\n",
       "</style>\n",
       "<table border=\"1\" class=\"dataframe\">\n",
       "  <thead>\n",
       "    <tr style=\"text-align: right;\">\n",
       "      <th></th>\n",
       "      <th>county_fips</th>\n",
       "      <th>period_begin</th>\n",
       "      <th>period_end</th>\n",
       "      <th>period_duration</th>\n",
       "      <th>region_type</th>\n",
       "      <th>region_type_id</th>\n",
       "      <th>table_id</th>\n",
       "      <th>is_seasonally_adjusted</th>\n",
       "      <th>region</th>\n",
       "      <th>city</th>\n",
       "      <th>...</th>\n",
       "      <th>price_drops</th>\n",
       "      <th>price_drops_mom</th>\n",
       "      <th>price_drops_yoy</th>\n",
       "      <th>off_market_in_two_weeks</th>\n",
       "      <th>off_market_in_two_weeks_mom</th>\n",
       "      <th>off_market_in_two_weeks_yoy</th>\n",
       "      <th>parent_metro_region</th>\n",
       "      <th>parent_metro_region_metro_code</th>\n",
       "      <th>last_updated</th>\n",
       "      <th>county</th>\n",
       "    </tr>\n",
       "  </thead>\n",
       "  <tbody>\n",
       "    <tr>\n",
       "      <th>0</th>\n",
       "      <td>28047</td>\n",
       "      <td>2015-08-01</td>\n",
       "      <td>2015-08-31</td>\n",
       "      <td>30</td>\n",
       "      <td>county</td>\n",
       "      <td>5</td>\n",
       "      <td>1541</td>\n",
       "      <td>f</td>\n",
       "      <td>Harrison County, MS</td>\n",
       "      <td>None</td>\n",
       "      <td>...</td>\n",
       "      <td>NaN</td>\n",
       "      <td>NaN</td>\n",
       "      <td>NaN</td>\n",
       "      <td>0.0</td>\n",
       "      <td>NaN</td>\n",
       "      <td>NaN</td>\n",
       "      <td>Gulfport, MS</td>\n",
       "      <td>25060.0</td>\n",
       "      <td>2022-01-09 14:29:56</td>\n",
       "      <td>Harrison County</td>\n",
       "    </tr>\n",
       "  </tbody>\n",
       "</table>\n",
       "<p>1 rows × 60 columns</p>\n",
       "</div>"
      ],
      "text/plain": [
       "  county_fips period_begin period_end  period_duration region_type  \\\n",
       "0       28047   2015-08-01 2015-08-31               30      county   \n",
       "\n",
       "   region_type_id  table_id is_seasonally_adjusted               region  city  \\\n",
       "0               5      1541                      f  Harrison County, MS  None   \n",
       "\n",
       "   ... price_drops price_drops_mom price_drops_yoy  off_market_in_two_weeks  \\\n",
       "0  ...         NaN             NaN             NaN                      0.0   \n",
       "\n",
       "   off_market_in_two_weeks_mom  off_market_in_two_weeks_yoy  \\\n",
       "0                          NaN                          NaN   \n",
       "\n",
       "   parent_metro_region  parent_metro_region_metro_code         last_updated  \\\n",
       "0         Gulfport, MS                         25060.0  2022-01-09 14:29:56   \n",
       "\n",
       "            county  \n",
       "0  Harrison County  \n",
       "\n",
       "[1 rows x 60 columns]"
      ]
     },
     "execution_count": 6,
     "metadata": {},
     "output_type": "execute_result"
    }
   ],
   "source": [
    "redfin.head(1)"
   ]
  },
  {
   "cell_type": "markdown",
   "metadata": {},
   "source": [
    "Also grab monthly unemployment by state, state income tax to add to the redfin data."
   ]
  },
  {
   "cell_type": "code",
   "execution_count": 19,
   "metadata": {},
   "outputs": [],
   "source": [
    "unem = \"\"\"\n",
    "SELECT date,\n",
    "       rate,\n",
    "       state,\n",
    "       fips\n",
    "FROM fred_state_monthly_ur\n",
    "WHERE date >= '1/1/12'::date;\n",
    "\"\"\"\n",
    "\n",
    "unemployment = pd.read_sql(unem, con=conn, parse_dates='date')"
   ]
  },
  {
   "cell_type": "code",
   "execution_count": 21,
   "metadata": {},
   "outputs": [
    {
     "data": {
      "text/html": [
       "<div>\n",
       "<style scoped>\n",
       "    .dataframe tbody tr th:only-of-type {\n",
       "        vertical-align: middle;\n",
       "    }\n",
       "\n",
       "    .dataframe tbody tr th {\n",
       "        vertical-align: top;\n",
       "    }\n",
       "\n",
       "    .dataframe thead th {\n",
       "        text-align: right;\n",
       "    }\n",
       "</style>\n",
       "<table border=\"1\" class=\"dataframe\">\n",
       "  <thead>\n",
       "    <tr style=\"text-align: right;\">\n",
       "      <th></th>\n",
       "      <th>date</th>\n",
       "      <th>rate</th>\n",
       "      <th>state</th>\n",
       "      <th>fips</th>\n",
       "    </tr>\n",
       "  </thead>\n",
       "  <tbody>\n",
       "    <tr>\n",
       "      <th>0</th>\n",
       "      <td>2012-01-01</td>\n",
       "      <td>7.1</td>\n",
       "      <td>TX</td>\n",
       "      <td>48</td>\n",
       "    </tr>\n",
       "  </tbody>\n",
       "</table>\n",
       "</div>"
      ],
      "text/plain": [
       "        date  rate state  fips\n",
       "0 2012-01-01   7.1    TX    48"
      ]
     },
     "execution_count": 21,
     "metadata": {},
     "output_type": "execute_result"
    }
   ],
   "source": [
    "unemployment.head(1)"
   ]
  },
  {
   "cell_type": "code",
   "execution_count": null,
   "metadata": {},
   "outputs": [],
   "source": [
    "tax_q = \"\"\"\n",
    "SELECT sitl.state,\n",
    "       sitl.state_fips,\n",
    "       income_tax_low,\n",
    "       income_tax_high,\n",
    "       scitl.corp_income_tax_low,\n",
    "       scitl.corp_income_tax_high,\n",
    "       sitl.year\n",
    "FROM state_income_tax_long sitl\n",
    "         INNER JOIN state_corp_income_tax_long scitl\n",
    "                    ON sitl.year = scitl.year AND sitl.state_fips = scitl.state_fips\n",
    "WHERE sitl.year >= 2012;\n",
    "\"\"\"\n",
    "\n",
    "tax = pd.read_sql(tax_q, con=conn)"
   ]
  },
  {
   "cell_type": "code",
   "execution_count": null,
   "metadata": {},
   "outputs": [],
   "source": [
    "tax.head()"
   ]
  },
  {
   "cell_type": "code",
   "execution_count": 5,
   "metadata": {},
   "outputs": [],
   "source": [
    "conn.close()"
   ]
  },
  {
   "cell_type": "code",
   "execution_count": null,
   "metadata": {},
   "outputs": [],
   "source": []
  }
 ],
 "metadata": {
  "interpreter": {
   "hash": "f82d4ec2f4e1a7949fc551b5039d8b80c5fc6c2b366144cfac1fa6211cdc80ab"
  },
  "kernelspec": {
   "display_name": "Python 3.9.7 ('capstone')",
   "language": "python",
   "name": "python3"
  },
  "language_info": {
   "codemirror_mode": {
    "name": "ipython",
    "version": 3
   },
   "file_extension": ".py",
   "mimetype": "text/x-python",
   "name": "python",
   "nbconvert_exporter": "python",
   "pygments_lexer": "ipython3",
   "version": "3.9.7"
  },
  "orig_nbformat": 4
 },
 "nbformat": 4,
 "nbformat_minor": 2
}
